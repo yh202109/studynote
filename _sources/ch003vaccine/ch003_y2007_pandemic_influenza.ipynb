{
 "cells": [
  {
   "cell_type": "markdown",
   "id": "2ddf4300-754c-4889-97d9-09d7f9031228",
   "metadata": {},
   "source": [
    "# Pandemic Influenza (2007)"
   ]
  },
  {
   "cell_type": "code",
   "execution_count": 6,
   "id": "65307db5-697b-43e2-818e-2aa46ea3f64f",
   "metadata": {
    "tags": [
     "hide-input"
    ]
   },
   "outputs": [
    {
     "data": {
      "text/markdown": [
       "- **title**: Clinical Data Needed to Support the Licensure of Pandemic Influenza Vaccines\n",
       "- **target**: Guidance for Industry\n",
       "- **CBER**: True\n",
       "- **url**: https://www.fda.gov/media/73691/download\n",
       "- **year**: 2007\n",
       "- **keyword**: ['vaccine', 'pandemic']"
      ],
      "text/plain": [
       "<IPython.core.display.Markdown object>"
      ]
     },
     "execution_count": 6,
     "metadata": {},
     "output_type": "execute_result"
    }
   ],
   "source": [
    "if(False):\n",
    "    import sys\n",
    "    sys.path.insert(0, '..')\n",
    "    import myutil.pdf2txt\n",
    "    ns='ch003_y2007_pandemic_influenza'\n",
    "    print(myutil.pdf2txt.fpdf2txt(ns, True, True)) \n",
    "else:\n",
    "    import pandas as pd\n",
    "    from IPython.display import Markdown as md\n",
    "    meta={\n",
    "        'title': 'Clinical Data Needed to Support the Licensure of Pandemic Influenza Vaccines',\n",
    "        'target': 'Guidance for Industry',\n",
    "        'CBER': True,\n",
    "        'url': 'https://www.fda.gov/media/73691/download',\n",
    "        'year': 2007,\n",
    "        'keyword': [\n",
    "            'vaccine', 'pandemic'\n",
    "        ]\n",
    "    }\n",
    "\n",
    "md(\"\\n\".join(\"- **{}**: {}\".format(k,v) for k,v in meta.items()))"
   ]
  },
  {
   "cell_type": "markdown",
   "id": "27c77739-8219-46eb-b372-a27a57d53607",
   "metadata": {},
   "source": [
    "Table of Contents\n",
    "\n",
    "- I. INTRODUCTION\n",
    "- II. BACKGROUND \n",
    "- III. CLINICAL DATA TO SUPPORT THE LICENSURE OF PANDEMIC INFLUENZA VACCINES \n",
    "    - A. Approval of a Pandemic Influenza Vaccine for Manufacturers of a U.S. Licensed Seasonal Inactivated Influenza Vaccine where the Process for Manufacturing the Pandemic Influenza Vaccine is the Same \n",
    "        1. Immunogenicity \n",
    "        2. Safety \n",
    "        3. Pediatrics\n",
    "        4. Postmarketing Information \n",
    "    - B. Approval of a Pandemic Influenza Vaccine for Manufacturers of a U.S. Licensed Seasonal Live Attenuated Influenza Vaccine where the Process for Manufacturing the Pandemic Influenza Vaccine is the Same \n",
    "        1. Immunogenicity \n",
    "        2. Safety \n",
    "        3. Postmarketing Information \n",
    "    - C. Accelerated Approval of a Pandemic Influenza Vaccine Manufactured by a Process not U.S. Licensed\n",
    "        1. Effectiveness\n",
    "        2. Safety \n",
    "        3. Postmarketing Confirmatory Studies\n",
    "        4. Postmarketing Information \n",
    "    - D. Additional Considerations\n",
    "        1. Types of Pandemic Influenza Vaccines\n",
    "        2. Clinical Lot Consistency\n",
    "        3. Adjuvanted Pandemic Vaccines \n",
    "        4. Alternative Routes of Administration\n",
    "        5. Investigating Schedules for Administration for Use Prior to a Pandemic \n",
    "        6. Pediatric Research Equity Act \n",
    "        7. Postmarketing Evaluations\n",
    "- IV. REFERENCES\n",
    "\n"
   ]
  },
  {
   "cell_type": "markdown",
   "id": "492d1787-4c33-4f10-809d-ec1facff8c34",
   "metadata": {},
   "source": [
    ":::{note}\n",
    "This guidance represents the Food and Drug Administration's (FDA's) current thinking on this topic.  It does not create or confer any rights for or on any person and does not operate to bind FDA or the public.  You can use an alternative approach if the approach satisfies the requirements of the applicable statutes and regulations.  If you want to discuss an alternative approach, contact the appropriate FDA staff.  If you cannot identify the appropriate FDA staff, call the appropriate number listed on the title page of this guidance.   \n",
    ":::"
   ]
  },
  {
   "cell_type": "markdown",
   "id": "e6135f03-f4dc-4c81-a1ba-bf47ba3b4f0b",
   "metadata": {},
   "source": [
    "## I. INTRODUCTION  \n",
    "\n",
    "This document is intended to provide to you, sponsors of pandemic influenza vaccines, guidance on clinical development approaches to facilitate and expedite the licensure of influenza vaccines where the intended indication is for **active immunization in persons at high risk of exposure to, or during a pandemic caused by, pandemic influenza viruses**.  We, FDA, also discuss pursuing licensure of an influenza vaccine for indication and usage during the prepandemic stage in **Section III.D.5. - Investigating Schedules for Administration for Use Prior to a Pandemic**.  The approaches in this guidance **apply to both non-adjuvanted and adjuvanted hemagglutinin-based pandemic vaccines**, including \"split virus,\" sub-unit, and whole virus inactivated vaccines propagated in embryonated chicken eggs or cell-culture, and to recombinant hemagglutinin-based protein vaccines, and DNA vaccines that express hemagglutinin.  We also address live attenuated influenza vaccines.  This document does not address influenza vaccines that do not rely on immunity to a hemagglutinin component.  \n"
   ]
  },
  {
   "cell_type": "markdown",
   "id": "d031c5de-2ce6-4dad-aa13-96de2bf1a27a",
   "metadata": {},
   "source": [
    "\n",
    "This document does **not** address the nonclinical development of investigational vaccines.  Successful nonclinical evaluation is an important step before proceeding with clinical development (Ref. 1).  This document also does **not** address the chemistry, manufacturing, control, or inspection of the manufacturing facility needed for licensure.  These aspects of the license application are addressed in the guidance document entitled, \"Guidance for Industry:  Content and Format of Chemistry, Manufacturing, and Controls Information and Establishment Description Information for a Vaccine or Related Product.\" ^1 Applicants may contact the Center for Biologics Evaluation and Research (CBER) for additional information about these aspects of vaccine development. \n",
    "\n",
    "- ^1 See http://www.fda.gov/cber/vaccine/vacpubs.htm. \n",
    "\n",
    "FDA's guidance documents, including this guidance, do not establish legally enforceable responsibilities.  Instead, guidances describe the FDA's current thinking on  a topic and should be viewed only as recommendations, unless specific regulatory or statutory requirements are cited.  The use of the word should in FDA's guidances means that  something is suggested or recommended, but not required. \n",
    "\n"
   ]
  },
  {
   "cell_type": "markdown",
   "id": "0e34018a-56ce-4f17-a8eb-1f8b35cc42a5",
   "metadata": {},
   "source": [
    "\n",
    "## II. BACKGROUND  \n",
    "\n",
    "Influenza viruses are enveloped ribonucleic acid viruses belonging to the family of Orthomyxoviridae and are divided into three distinct types on the basis of antigenic differences of internal structural proteins (Ref. 2).  Two influenza types, Type A and B, are responsible for yearly epidemic outbreaks of respiratory illness in  humans and are further classified based on the structure of two major external glycoproteins, hemagglutinin (HA) and neuraminidase (NA).  Type B viruses, which are largely restricted to the human host, have a single HA and NA subtype.  In contrast, numerous HA and NA Type  A influenza subtypes have been identified to date.  Type A strains infect a wide variety of avian and mammalian species. \n",
    "\n",
    "Type A and B influenza variant strains emerge  as a result of frequent antigenic change, principally from mutations in the HA and NA gl ycoproteins.  These variant strains may arise through one of two mechanisms:  se lective point mutations in the viral genome (Refs. 3 and 4) or from reassortment between two co-circulating strains (Refs. 5 and 6).   \n",
    "\n",
    "Since 1977, influenza A virus subtypes H1N1 and H3N2, and influenza B viruses have been in global circulation in humans.  The current U.S. licensed trivalent vaccines are formulated to prevent influenza illness caused by these influenza viruses (Ref. 7).  Pandemic influenza outbreaks have occurred when a new Type A hemagglutinin subtype emerges to which the population has not been expos ed and has little or no immunity.  During the twentieth century, three pandemic influenza outbreaks occurred.  \n",
    "\n",
    "\n"
   ]
  },
  {
   "cell_type": "markdown",
   "id": "50ac9f9c-2b00-4dca-be36-613be6c62fb3",
   "metadata": {},
   "source": [
    "Pandemic influenza strains can evolve following genetic reassortment of two co-circulating viruses, one of which originates from an animal reservoir and one from human orig in.  Such a reassortment led to the emergence of the **1957 H2N2** subtype pandemic strain and the **1968 H3N2** subtype pandemic strain.  Recent research suggests that the **1918-1919 H1N1** subtype pandemic strain likely resulted from a series of genetic mutations in multiple genes in an influenza strain of avian origin.  These mutations appear to have allowed the virus to adapt to and spread among humans (Refs. 8, 9, and 10).  The 1918-1919 H1N1 pandemic strain, the most lethal of  the twentieth century, resulted in about 50 million deaths worldwide (Ref. 11).  The genetic sequencing, phylogenetic analysis and reconstruction of the 1918-1919 H1N1 pandemic strain have provided important insights into virulence factors of influenza viruses (Refs. 9 and 10).  \n",
    "\n",
    "\n",
    "In recent years, human infections with avian influenza viruses have led to increasing concern that one or more of these viral strains may evolve into  a pandemic viral strain that is able to spread among humans.  Several avian subtypes have be en recovered from humans with influenza illness.  Influenza H7N7, H9N2 and H5N1 subtype strains have caused disease in humans (Refs. 12, 13, 14, and 15).  Of these, the H5N1 strains have raised particular concern.  Strains of this subtype are highly virulent with a mortality rate of approximately 50 percent among confirmed clinical cases.  The first documented human H5N1 infections occurred in Hong Kong in 1997 in individuals, 6 of whom died.  While only rare cases of possible human-to-human transmission have occurred to date (Refs. 16 and 17), the number of human infections continues to increase, and analysis of H5N1 strains isolated from mo re recent human infections has shown that the virus continues to mutate and that new variants have emerged. ^2 Of additional concern, recent H5N1 strains are more lethal in animal models, and the host range for H5N1 strains has expanded into mammalian species previously thought to be resistant to avian strains.  These events have highlighted the need to develop criteria to evaluate the safety and effectiveness of influenza vaccines directed against potential pandemic strains. \n",
    "\n",
    "- ^2 For information on the number of confirmed clinical  cases due to H5N1 strains, see the World Health Organization's website:  www.who.int/csr/disease/avian_influenza/country/en/index.html. \n",
    "\n"
   ]
  },
  {
   "cell_type": "markdown",
   "id": "bc4aae47-0ac0-4e88-8fa1-0fb6c47568e5",
   "metadata": {},
   "source": [
    "\n",
    "## III. CLINICAL DATA TO SUPPORT THE LICENSURE OF PANDEMIC INFLUENZA VACCINES \n",
    "\n",
    "Licensure of pandemic influenza vaccines may be sought through the submission of a Biologics License Application (BLA) in accordance with ei ther the provisions in 21 CFR 601.2 or the accelerated approval provisions in 21 CFR Part 601 Subpart E. This Section provides recommendations for clinical data needed to support such approvals for pandemic influenza vaccines.  CBER has prepared similar guidance for seasonal influenza inactivated vaccines, Guidance for Industry:  Clinical Data Needed to Support the Licensure of Seasonal Influenza Vaccines.^3 \n",
    "\n",
    "- ^3 See http://www.fda.gov/cber/vaccine/vacpubs.htm . \n",
    "\n",
    "Biological products are licensed under the authority of section 351 of the Public Health Service Act (PHS Act) (42 U.S.C. 262).  Under section 351, BLAs are approved only upon a showing that the product is \"safe, pure and potent,\" and that the manufacturing facility meets standards designed to assure that the biological product \"continues to be safe, pure, and potent.\"  In previously issued guidance entitled, \"Guidance for Industry:  Providing Clinical Evidence of Effectiveness for Human Drug and Biological Products\" dated May 1998 (section II.A.), FDA stated, \"Potency has long been interpreted to include effectiveness (21 CFR 600.3(s)).  In 1972, FDA initiated a review of the safety and effectiveness of all previously licensed biologics.  The Agency stated then that proof of effectiveness w ould consist of controlled clinical investigations as defined in the provision for 'adequate and well-controlled studies' for new drugs (21 CFR 314.126), unless waived as not applicable to the biological product or essential to the validity of the study when an alternative method is adequa te to substantiate effectiveness (21 CFR 601.25(d)(2)).\"  \n"
   ]
  },
  {
   "cell_type": "markdown",
   "id": "34c7046c-e820-4767-805f-4f43f932453c",
   "metadata": {},
   "source": [
    "\n",
    "### A. Approval of a Pandemic Influenza Vaccine for Manufacturers of a U.S. Licensed Seasonal **Inactivated** Influenza Vaccine where the Process for Manufacturing the Pandemic Influenza Vaccine is the Same \n",
    "\n",
    "If a manufacturer holds a U.S. license for an approved BLA for a seasonal inactivated influenza vaccine under either the provisions  in 21 CFR 601.2 or the accelerated approval provisions with the vaccine's clin ical benefit having been confirmed in a postmarketing study, and the manufacturing pr ocess used for the production of the pandemic vaccine is the same as for the license d product, clinical imm unogenicity trials  would be needed to determine the appropriate  dose and regimen of a pandemic influenza vaccine candidate.  These trials should also include an assessment of safety.  Sponsors can expect that we will seek their involvemen t on plans to collect additional effectiveness and safety information when the vaccine is used (see Section III.A.4., below).   \n",
    "\n",
    "All submissions for the initial licensure of  a pandemic influenza vaccine should be submitted as BLAs, which will provide for a trade name and labeling specific to the pandemic vaccine.  For sponsors with existing licensed seasonal inactivated influenza vaccines who intend to file a BLA for a pandemic influenza vaccine that utilizes the same manufacturing process, we woul d expect that the BLA would reference the original BLA, including the nonclinical and chemistry, manufacturing, and cont rols (CMC) data in their original BLA.   \n"
   ]
  },
  {
   "cell_type": "markdown",
   "id": "186d2ae9-be7e-41d3-990a-6b5faaded7d4",
   "metadata": {},
   "source": [
    "\n",
    "#### 1. Immunogenicity  \n",
    "\n",
    "Data to support **the selected dose and regimen** should be based on **the evaluation of immune responses elicited by the vaccine**.  The **hemagglutination inhibition (HI) antibody assay** has been used to assess vaccine activity and may be appropriate for the evaluation of the pandemic influenza vaccine.  Appropriate endpoints may include:  \n",
    "\n",
    "1) the **percentage of subjects achieving an HI antibody titer  1:40**, and \n",
    "2) **rates of seroconversion**, defined as the percentage of subjects with either \n",
    "    - a **pre-vaccination HI titer < 1:10** and **a post vaccination HI titer > 1:40** or \n",
    "    - a **pre-vaccination HI titer > 1:10** and **a minimum four-fold rise in post-vaccination HI antibody titer**.  \n",
    "\n",
    "In a prepandemic setting it is likely that most subjects will not have been exposed to the pandemic influenza viral antigen(s).  Therefore, it is possible that vaccinated subjects may reach both suggested endpoints.  Thus, for studies enrolling subjects who are **immunologically naïve to the pandemic antigen**, **one HI antibody assay endpoint**, such as the percentage of subjects achieving an HI antibody titer > 1:40, may be considered.  Point estimates and the two-side d 95% confidence intervals (CI) of these evaluations should be provided with the BLA.  The **geometric mean titers (GMT)** at pre- and post-vaccination should also be included.  \n",
    "\n",
    "Considerable variability can  be introduced into the laboratory assay used to measure HI antibodies as a result of a number of factors including differences in viral strains and red blood cell types, and the presence of non-specific inhibitors in the assay medium.  Thus, suitable controls and assay validation are important for interpreting HI antibody results.  It is also recommended that adequate serum sample volumes be obtained and stored for possible later use in confirmatory or comparative assay studies, if needed. \n",
    "\n",
    "Other endpoints and the corresponding immunologic assays, such as the microneutralization assay, might also be  used to support the approval of a pandemic influenza vaccine BLA (Ref. 18). Sponsors are encouraged to discuss their proposals with CBER early in development. \n",
    "\n",
    "\n",
    "#### 2. Safety  \n",
    "\n",
    "**Local and systemic reactogenicity should be well defined in all age groups** for whom approval of the vaccine is sought.  Appropriate grading scales to describe the severity of the adverse events should be included in the study protocol.  Serious adverse events must be monitored and collected for all subjects throughout the duration of the studies (21 CFR 312.23, 312.32, 312.56, 312.60 and 312.62).  The protocol should include a clinic visit or telephone contact at least six months post-vaccination to ascertain additional serious adverse events and new onset of chronic illnesses that may have occurred in the interim.  \n",
    "\n",
    "**Safety data gathered from the six month post-vaccination evaluation must be submitted to FDA** (21 CFR 312.32 and 312.33).  This may occur after submission or approval of the BLA.  Sponsors are encouraged to initiate an early dialogue with CBER to reach agreement on the size of the safety database needed to support product licensure.  This is especially true when there is minimal postmarketing experience with the U.S. licensed seasonal influenza vaccine, such as immediately after licensure of a vaccine manufactured  with a new adjuvant or using a new process.      \n",
    "\n"
   ]
  },
  {
   "cell_type": "markdown",
   "id": "79a41e21-322e-42f1-ad78-f97e197a1b1b",
   "metadata": {},
   "source": [
    "#### 3.  Pediatrics \n",
    "\n",
    "It is anticipated that data will be collected  in adults and in the pediatric population in a step-wise fashion.  We assume that  approval for use in the adult population, including the geriatric population, would be sought with the initial application.  The amount of data needed for a particular sponsor's pandemic influenza vaccine to support approval for use in the pediatric population will depend on available clinical data for that sponsor's U.S. licensed seasonal influenza vaccine.  The timing of the clinical development in the pediatric population warrants discussion with CBER.  Please refer to Section III.D. - Additional Considerations, paragraph, for a discussion of the **Pediatric Research Equity Act (PREA)**. \n",
    "\n",
    "#### 4. Postmarketing Information \n",
    "\n",
    "All sponsors who seek licensure of a pandemic influenza vaccine should expect FDA to seek their involvement in working with FDA and other governmental agencies on plans to collect additional safety and effectiveness data, such as through epidemiological studies, when the vaccine is used.  Sponsors may indicate their intent in their BLA's postmarketing surveillance plans.  \n"
   ]
  },
  {
   "cell_type": "markdown",
   "id": "8ff99155-df4a-4202-8606-7099462e4db9",
   "metadata": {},
   "source": [
    "\n",
    "\n",
    "### B. Approval of a Pandemic Influenza Vaccine for Manufacturers of a U.S. Licensed Seasonal **Live Attenuated** Influenza Vaccine where the Process for Manufacturing the Pandemic Influenza Vaccine is the Same \n",
    "\n",
    "As for inactivated pandemic influenza vaccines discussed in Section III.A. above, clinical trials to determine the appropriate dose and regimen of a live attenuated pandemic influenza vaccine would be needed and should include an assessment of immunogenicity and safety.  Sponsors can expect FDA to seek their involvement in plans to collect additional effectiveness and safety information, such as through epidemiological studies, should a pandemic influenza situation be declared  or if use occurs in persons at high risk of exposure to the virus.  \n",
    "\n",
    "Sponsors with licensed seasonal live attenuated influenza vaccines who intend to seek licensure for a pandemic influenza vaccine that utilizes the same manufacturing process should submit a new BLA, which will provide for a trade name and labeling specific to the pandemic vaccine.  We would expect that  the new BLA would reference the BLA for the seasonal vaccine, including the nonclinical and CMC data in their original BLA.    \n",
    "\n",
    "#### 1. Immunogenicity  \n",
    "\n",
    "Data to support the selected dose and regimen should be based on the evaluation of immune responses elicited by the vaccine.  Live attenuated influenza vaccine may elicit a variety of immune responses , and the HI antibody response may be appropriate for the evaluation of the new pandemic influenza vaccine strain, helping to bridge its observed immunogenicity to seasonal vaccines for which clinical efficacy has been demonstrated.  However, live attenuated influenza vaccines may induce protection against disease through immunological mechanisms other than, or in addition to, HI antibodies.  Thus, sponsors may propose alternative endpoints for our consideration.  For the **HI antibody assay**, we recommend the following endpoints:  \n",
    "\n",
    "1) the percentage of subjects achieving an HI antibody titer  1:40, and \n",
    "2) rates of seroconversion, defined as the percentage of subjects with either \n",
    "    - a pr e-vaccination HI titer  < 1:10 and a post vaccination HI titer > 1:40 or \n",
    "    - a pre-vaccination HI titer > 1:10 and a minimum four-fold rise in post-vaccination HI antibody titer.  \n",
    "\n",
    "In a prepandemic setting it is likely that most subjects will not have been exposed to the pandemic antigen(s). Therefore, it is possible that vaccinated subjects may reach both suggested endpoints.  Thus, for studies enrolling subjects who are immunologically naïve to the pandemic influenza virus antigen(s), one HI antibody assay endpoint, such as the percentage of subjects achieving an HI antibody titer > 1:40, may be considered.  Point estimates and the two-sided 95% CIs of these evaluations should be provided with the BLA.  The GMTs at pre- and post-vaccination should also be included.  \n",
    "\n",
    "#### 2. Safety  \n",
    "\n",
    "Clinical studies with live attenuated influenza pandemic vaccines performed in advance of a pandemic influenza outbreak  present special considerations.  Therefore, sponsors are encouraged to initiate an early dialogue with CBER to agree on the size of the safety database needed to support product licensure.   \n",
    "\n",
    "Subjects should be isolated during the study period to minimize the potential for transmission of the influenza vaccine viral strain.  The amount and duration of vaccine shedding should be well characterized from all subjects.  Contact precautions should be in place for study subjects and study personnel for the duration of shedding.  Study personnel should be monitored for possible influenza illness and transmission of the influenza vaccine strain.  Study subjects and study personnel with symptoms suggestive of influenza illness should be treated with antiviral agents pending culture or other microbiological results. \n",
    "\n",
    "Local and systemic reactogenicity events and symptoms of influenza illness should be well defined in all age groups for whom approval of the vaccine is sought.  Appropriate grading scales to describe the severity of the adverse events should be included in the study protocol.  Serious adverse events must be monitored and collected for all subjects throughout the duration of the studies (21 CFR 312.23, 312.32, 312.56, 312.60 and 312.62).  The protocol should include a clinic visit or telephone contact at least six months pos t-vaccination to ascertain additional serious adverse events and new onset of chronic illnesses that may have occurred in the interim.  Safety data ga thered from the six month post-vaccination evaluation must be submitted to FDA (21 CFR 312.32 and 312.33).  This may occur after submission or approval of the BLA. \n",
    "\n",
    "Because of theoretical concerns for reassortment between a live attenuated pandemic influenza vaccine strain and othe r circulating influenza strains, a live attenuated pandemic vaccine might be indicated for use only after the onset of a pandemic influenza outbreak.  Any plans to  develop such products for potential use in a prepandemic setting, in particular  the size of the safety database required to support such use, should be discussed with CBER.    \n",
    "\n",
    "#### 3.   Postmarketing Information  \n",
    "\n",
    "All sponsors who seek licensure of a pandemic influenza vaccine should expect FDA to seek their involvement in working with FDA and other governmental agencies on plans to collect additional safety and effectiveness data, such as through epidemiological studies, when the vaccine is used.  Sponsors may indicate their intent in their BLA's postmarketing surveillance plans.    \n"
   ]
  },
  {
   "cell_type": "markdown",
   "id": "b5b32124-5be4-42a8-b952-8f71b21532bf",
   "metadata": {},
   "source": [
    "\n",
    "\n",
    "### C. Accelerated Approval of a Pandemic Influenza Vaccine Manufactured by a Process not U.S. Licensed  \n",
    "\n",
    "Accelerated approval may be granted for certain biological products such as pandemic influenza vaccines that have been studied for their safety and effectiveness in treating serious or life-threatening illnesses and that provide meaningful therapeutic benefit over existing treatments.  For pandemic vaccines, the accelerated approval pathway will be available at least until adequate supplies of such vaccines are available.  (See Accelerated Approval of Biological Products for Serious or  Life Threatening Illnesses (21 CFR 601 Subpart E)).  \n",
    "\n",
    "Such an approval will be based on adequate and well-controlled clinical trials establishing that the biological product has an effect on a surrogate endpoint that is reasonably likely, based on epidemiologic, therapeutic, pathophysiologic, or other evidence, to predict clinical benefit (21 CFR 601.41).  Approval under this section will be subject to the requirement that the sponsor st udy the biological product further, to verify and describe its clinical benefit, where there is uncertainty as to the relation of the surrogate endpoint to clinical benefit (21 CFR 601.41).  Postmarketing studies must also be adequate and well-controlled and should be conducted with due diligence (21 CFR 601.41).  The protocols for these studies should be submitted with the original BLA.  Marketing approval for biological products approved under these regulations may be withdrawn, for example, if the postmarketing clinical study fails to verify clinical benefit or the sponsor fails to perform the require d postmarketing study with due diligence (21 CFR 601.43(a)(1) and (2)).  \n",
    "\n",
    "For pandemic influenza vaccines, the immune response elicited following receipt of the vaccine may serve as a surrogate endpoint that is  likely to predict clinic al benefit, that is, prevention of influenza illness and its complications.  Influenza virus hemagglutinins, present on viral surfaces, are important for cell-receptor binding.  The immune response to these hemagglutinins as measured by the presence of serum HI antibodies is an important protective component following vaccination and/or infection.  \n",
    "\n",
    "To date, prospectively designed studies to evaluate the effectiveness of influenza vaccines have not identified a specific HI anti body titer associated with protection against culture-confirmed influenza illness.  Some  studies of influenza infection, including human challenge studies following vaccination, have suggested that HI antibody titers ranging from 1:15 to 1:65 may be associated  with protection from illness in 50% of subjects and that protection from illness is incr eased with higher titers (Refs. 19 and 20).  Evaluations of seroconversion and GMT have be en used as measures of vaccine activity (Refs. 21 and 22).  \n",
    "\n",
    "For the purposes of accelerated approval of inactivated pandemic influenza vaccines, the HI antibody response may be an acceptable surrogate marker of activity that is reasonably likely to predict clinical benefit.  Currently immune response data following receipt of live attenuated influenza vaccines are limited.  Accelerated approval of new live attenuated pandemic influenza vaccines will depend on the identification of an immune surrogate that is reasonably likely to predict clinical benefit.   \n",
    "\n",
    "To be considered for accelerated approval, a BLA for a pandemic inactivated influenza vaccine should include results from one or  more adequate and well-controlled studies designed to meet immunogeni city endpoints and a commitment to conduct **confirmatory postmarketing studies**.  In addition, all sponsors who seek licensure of a pandemic influenza vaccine through accelerated appr oval should expect FDA to seek their involvement in working with FDA and other governmental agencies on plans to collect additional effectiveness and safety informati on, such as through epidemiological studies, when the vaccine is used.  Since each vaccine candidate is unique (e.g., particular product  characteristics, manufacturing process, etc.), we recommend that you discuss with CBER early in development the adequacy of the manufacturing methods and product testing and the extent of the clinical data needed to license your candidate vaccine. \n"
   ]
  },
  {
   "cell_type": "markdown",
   "id": "de57a2f5-c11b-4a2c-b44d-21e131da09f0",
   "metadata": {},
   "source": [
    "\n",
    "#### 1. Effectiveness \n",
    "\n",
    "This Section describes possible approaches  for establishing effectiveness based on immune responses under an accelerated approval.  Because our understanding of immune responses to various possible pandemic strains is evolving, the effectiveness criteria stated below are current recommended targets.  We are open to considering other study designs, other surrogate endpoints reasonably likely to predict benefit, along with other proposed performance targets for the surrogate endpoints described below or for other surrogate endpoints.   \n",
    "\n",
    "##### a.   \n",
    "\n",
    "A placebo-controlled immunogenicity trial in which HI antibody responses to the new vaccine are assessed may be s upportive of accelerated approval if the study was adequately powered to assess the co-primary endpoints:  1) seroconversion rates, and 2) percentage of subjects achieving an HI antibody titer  1:40.  In a prepandemic setting it is  likely that most subjects will not have been exposed to the pandemic influenza viral antigen(s).  Therefore, it is possible that vaccinated subjects may r each both suggested endpoints.  Thus, for studies enrolling subjects who are immunologically naïve to the pandemic influenza antigen, one HI antibody assay endpoint, such as the percentage of subjects achieving an HI antibody titer > 1:40, may be considered.  \n",
    "\n",
    "For example, the following, which have been modified from guidelines by the currently-titled, \"Committee for Medici nal Products for Human Use of the European Medicines Agency\" (Ref. 21), may support an accelerated approval of seasonal inactivated vaccines. ^4 The following may be used as a guide in developing endpoints that would support accelerated approval of pandemic influenza vaccines.    \n",
    "\n",
    "- ^4 CBER has prepared similar guidance for seasonal influenza vaccines.  See \"Guidance for Industry:  Clinical Data Needed to Support the Licensure of Se asonal Inactivated Influenza Vaccines\" (http://www.fda.gov/cber/vaccine/vacpubs.htm). \n",
    "\n",
    "For adults < 65 years of age and for the pediatric population:    \n",
    "\n",
    "- The lower bound of the two-sided 95% CI for the percent of subjects achieving seroconversion for HI antibody should meet or exceed 40%. \n",
    "- The lower bound of the two-sided 95% CI for the percent of subjects achieving an HI antibody titer  1:40 should meet or exceed 70%. \n",
    "                                                  \n",
    "For adults $\\geq$ 65 years of age:   \n",
    "\n",
    "- The lower bound of the two-sided 95% CI for the percent of subjects achieving seroconversion for HI antibody should meet or exceed 30%. \n",
    "- The lower bound of the two-sided 95% CI for the percent of subjects achieving an HI antibody titer  1:40 should meet or exceed 60%. \n",
    "\n"
   ]
  },
  {
   "cell_type": "markdown",
   "id": "26223d30-cfd1-43bf-b2b2-7bbd7ca6dacc",
   "metadata": {},
   "source": [
    "##### b.\n",
    "\n",
    "If a U.S. licensed pandemic influenza vaccine exists against a strain for which the sponsor is seeking licensure of a new vaccine, a **non-inferiority comparison**, as assessed by HI antibody responses, to the U.S. licensed pandemic influenza vaccine may support accelerated approval.  The study should be adequately powered to assess the co-primary endpoints:  1) GMT, and 2) seroconversion rates.  \n",
    "\n",
    "For the co-primary endpoints consider the following:    \n",
    "\n",
    "- The upper bound of the two-sided 95% CI on the ratio of the GMTs (GMT_{U.S. licensed  vaccine}/GMT_{new vaccine}) should not exceed **1.5**.  A proposal for use of a different GMT ratio should be based upon the characteristics of the assay that will be used to assess antibody responses.   \n",
    "- The upper bound of the two-sided 95% CI on the difference between the seroconversion rates (Seroconversion_{U.S. licensed  vaccine} - Seroconversion_{new vaccine}) should not exceed **10 percentage** points. \n",
    "\n",
    "##### c.\n",
    "\n",
    "Alternative study designs that assess different endpoints and/or other immune responses will be reviewed by CBER and may be accepted in support of an accelerated approval.  CBER would need to determine that the study design is acceptable and the proposed surrogate endpoint(s) is reasonably likely to predict clinical benefit. \n"
   ]
  },
  {
   "cell_type": "markdown",
   "id": "cad4898c-0ed2-415a-859f-c41b33c58e49",
   "metadata": {},
   "source": [
    "\n",
    "#### 2. Safety  \n",
    "\n",
    "Safety data must be collected from subject s enrolled in pre-licensure clinical trials intended to support the accelerated approval of a pandemic vaccine (21 CFR .23, 312.32, 312.56, 312.60 and 312.62).  The monitoring of these subjects should follow the outline described in Section III.A.2. above.  The data gathered six months post-vaccination evaluation should be submitted to FDA at the time of the BLA submission.  In addition, safety laboratory tests, including hematologic and clinical chemistry evaluations, should be obtained pre- and post-vaccination at least in the first clinical study(ies).\n",
    "\n",
    "These may be needed in other studies, depending on the initial clinical studies and pre-clinical data.  A total safety database large enough to rule out a serious adverse event that occurs at a rate of 1 in 300 may be sufficient when a sponsor  has adequate marketing and safety experience with the same manufacturing process for a seasonal vaccine licensed outside the United States and these data are presented in the BLA and assessed as such.  For example, the upper limit of the two-sided 95% CI of the true serious adverse event rate is 0.0032 (<1 in 300) when no serious adverse event is observed among 1150 subjects who received vaccine in the clinical trials, using the Clopper-Pearson method.  However, the size of the pre-licensure safety database, especially for vaccines manufactured using novel processes, such as cell-culture, and for pandemic vaccines th at contain novel adjuvants, would be influenced by factors such as the nature of the new manufacturing process and available preclinical and clinical data and should be discussed with CBER.  Moreover, if a serious adverse event is present in a safety database of about 1,000 subjects, and there is concern that it may be vaccine-related, then additional safety data may be needed.  Safety data to support use in pediatric populations would also be needed and should be submitted either  as part of the BLA or as a clinical efficacy supplement at a later time, if pe diatric studies are deferred under PREA. Please refer to Section III.D. - Additional Considerations, paragraph 6, for a discussion of the Pediatric Research Equity Act (PREA). \n"
   ]
  },
  {
   "cell_type": "markdown",
   "id": "c4473333-61a4-419e-bcc6-42c729447a64",
   "metadata": {},
   "source": [
    "\n",
    "#### 3. Postmarketing Confirmatory Studies \n",
    "\n",
    "There may be other approaches to fulfilling the postmarketing confirmatory study requirement to demonstrate clinical  benefit under 21 CFR 601.41 than those recommended below.  Sponsors are encouraged to discuss their plans with CBER.    \n",
    "\n",
    "##### a. \n",
    "\n",
    "Confirmatory studies if a sponsor pursues U.S. licensure of a seasonal vaccine  Sponsors seeking approval of a pandemic  influenza vaccine strain may also choose to pursue development and licen sure of a seasonal influenza vaccine using the same manufacturing process as  used for the pandemic influenza vaccine (see footnote 4).  Approval of th e seasonal vaccine, other than through accelerated approval, may help fulfill th e postmarketing requirement to verify the clinical benefit of the pandemic influenza vaccine. \n",
    "\n",
    "##### b. \n",
    "\n",
    "Confirmatory studies if a sponsor doe s not pursue U.S. licensure of a seasonal influenza vaccine  Other approaches to demonstrating clinical benefit may be possible and sponsors desiring to pursue these other approaches should discuss their plans with CBER as soon as possible.    \n",
    "\n",
    "\n",
    "#### 4.  Postmarketing Information \n",
    "\n",
    "All sponsors who seek licensure of a pandemic influenza vaccine, including those granted accelerated approval under 21 CF R 601.41, should expect FDA to seek their involvement in working with F DA and other governmental agencies on  plans to collect additional safety an d effectiveness data, such as through epidemiological studies, when the vaccine  is used.  Sponsors may indicate their intent in their BLA's postmar keting surveillance plans.  \n",
    "\n"
   ]
  },
  {
   "cell_type": "markdown",
   "id": "c1428d21-9e61-4ec0-929a-d1b1eb4b07a8",
   "metadata": {},
   "source": [
    "\n",
    "### D. Additional Considerations \n",
    "\n",
    "#### 1. Types of Pandemic Influenza Vaccines \n",
    "\n",
    "The recommendations in Section III.C. above , regarding clinical data to support the accelerated approval of a pandemic vaccine, apply to both nonadjuvanted and adjuvanted hemagglutinin-based pandemic vaccines, including \"split virus,\" subunit, and whole virus inactivated vaccines propagated in embryonated chicken eggs or cell-culture, and to recombinant hemagglutinin-based protein vaccines, and DNA vaccines that express hemagglutin in.  Detailed information on product characteristics and manufacturing processes are needed for all new vaccines, regardless of their derivation (see footnote 1).  \n",
    "\n",
    "#### 2. Clinical Lot Consistency \n",
    "\n",
    "The objective of a clinical lot consistency study is to show consistency of manufacturing and performance of the final product by demonstrating that three consecutively manufactured final formulated  bulk lots of vaccine elicit equivalent immune responses.  The HI antibody assay may be used to assess the immune responses.  We recommend a pair-wise comparison of the 95% CI on the ratio of GMTs for the viral strain contained in th e three vaccine lots as an appropriate primary endpoint.  The two-sided 95% CI  on the GMT ratio should be entirely within 0.67 and 1.5.  Seroconversion rates for the HI antibody response for the viral strain contained in the vaccine may be assessed as secondary endpoints.  \n",
    "\n",
    "Assessment of lot consistency may be inco rporated in studies designed to support the accelerated approval of a new influenza vaccine.  We may decide, on a case by case basis, that lot consistency may be evaluated and incorporated in the postmarketing commitment studies.  This  determination would be influenced by factors such as the manufacturing pro cess used for the pandemic influenza vaccine and available manufactur ing and clinical experience. \n",
    "\n",
    "#### 3. Adjuvanted Pandemic Vaccines \n",
    "\n",
    "Small studies of inactivated nonadjuvante d pandemic influenza vaccines have shown that more antigen per dose and more than one dose are likely to be needed to elicit immune responses comparable to  those elicited following a single dose of an annual seasonal inactivated influenza vaccine (Ref. 23).  An effective adjuvant might reduce the amount of antigen needed  to elicit protective immune responses and may also have other desirable propert ies, such as cross protection against evolving strains and priming the immune system in a prepandemic setting.   \n",
    "\n",
    "Data supporting the safety of the adjuvanted formulation and the added benefit over the unadjuvanted formulation must  be submitted in the BLA (42 U.S.C. (a)(2)(C)(i); 21 CFR 601.2).  At an early stage of development, clinical data supporting the value of adding the adjuvant should be provided, such as evidence of enhanced immune response, antigen-sparing effects, or other advantages, as should data supporting selection of the dose of the adjuvant itself.  Safety information in the BLA may include the safety experience obtained from domestic or foreign trials.  Safety experience from the same adjuvant formulated with other vaccine antigens may also contribute to the adjuvant's safety evaluation.  It is expected that nonclinical and clinical information needed to support the safety of the adjuvant be discussed with us early in development.  Finally, to delineate additional information about the adjuvanted vaccine's safety profile, we may seek agreement from sponsors to conduct certain postmarketing studies.   \n",
    "\n",
    "##### Dose and Formulation Selection \n",
    "\n",
    "Assuming that the vaccine is a hemagglutinin-based product, the HI antibody assay may be appropriate to evaluate the immune response.   \n",
    "\n",
    "For initial dose and formulation selection, a comparative clinical study of adjuvanted vs. non-adjuvanted vaccines that both contain the same amount of antigen should demonstrate that the immune response elicited by the adjuvanted antigen is better than that elicited by the same antigen alone.  For differences in HI antibody titer and seroconversion rates, the lower confidence limit on the appropriate point estimate excl uding equality (i.e., the value 1 for the ratio parameter or 0 for the difference parameter) may be sufficient to demonstrate the added value of the adjuvant.  \n",
    "\n",
    "A comparative study of an adjuvanted vaccine containing a lower amount of antigen than the dose-optimized non-adjuvanted vaccine formulation may be conducted to demonstrate non-inferior  immune responses elicited by the adjuvanted vaccine.  Other approaches to demonstrate the value of the adjuvant, such as a greater ability of an adjuvanted vaccine to induce antibodies that cross-react with a wider variety of subtypes, strains, or clades, when compared to an unadjuvanted vaccine, may be possible.  Sponsors are encouraged to discuss their proposals with CBER.  \n",
    "\n",
    "Selection of an appropriate dose and formulation should also be guided by the safety profile of the formulations and regimens being studied. \n",
    "\n",
    "#### 4. Alternative Routes  of Administration \n",
    "\n",
    "Alternative routes of influenza vaccine administration (e.g., transdermal inoculation by needle or transderma l vaccination using a patch, which may involve the use of novel devices) are being investigated with the goals of reducing the amount of antigen needed to elicit immune responses th at are likely to protect against influenza illness and of enhancing ease of vaccinations.  Such strategies might expand the available vaccine supply and/or increase the ease and speed of large scale immunization programs.  In cases where no novel manufacturing concerns are raised (such as intradermal administration of a pandemic vaccine formulation licensed for intramuscular administration) and the quantity and quality of the vaccine composition remains the same, approval may be possible as a clinical efficacy supplement to a BL A based on clinical immunogenicity and limited safety data.  In other cases or wh en a sponsor is uncertain about the data needed to support licensure of vaccines utilizing novel delivery methods, the sponsor should consult with CBER early in development.  \n",
    "\n",
    "#### 5. Investigating Schedules for Administration for Use Prior to a Pandemic \n",
    "\n",
    "Different schedules of influenza vaccine administration may also be investigated as a strategy for pandemic preparedness.  Studies may involve varying the number and strength of initial doses followed by a subsequent booster dose at different time periods using either homologous or heterologous antigen.  Results of these studies may generate information about  cross-reactive antibodies induced by novel antigens and may help inform public health decisions about developing potential antigen-sparing strategies.  Sponsors are encouraged to consider supplementing their product development pathway to include these studies and to consult with CBER about study design so that these studies could support evaluation and approval for such indications.    \n",
    "\n",
    "#### 6. Pediatric Research Equity Act \n",
    "\n",
    "The Pediatric Research Equity Act of 2003 (PREA) (Public Law 108-155) addresses drug and biological product development for pediatric uses.  All sponsors have obligations to study pediatric populations as outlined in PREA.  Under PREA, all applications (or supplem ents) submitted under section 505 of the Federal Food, Drug, and Cosmetic Act (the Act) (21 U.S.C. 355) or section 351 of the Public Health Service Act (PHS Act) (42 U.S.C. 262) for a new active ingredient, new indication, new dosage form, new dosing regimen, or new route of administration are to cont ain a pediatric assessment (pediatric clinical data) unless the sponsor has obtained a waiver or deferral from FDA (21 U.S.C. 355c).  A draft guidance on the implementati on of PREA was issued by FDA in September 2005 (Ref. 24).  As stated in  that document, FDA encourages the submission of pediatric development plan s to FDA as early as possible in the vaccine development process to increase understanding of vaccine immunogenicity, dosing, and safety inform ation in the pediatric population.  The indication for a pandemic vaccine to be us ed during a pandemic is relevant for the pediatric population.  14 Contains Nonbinding Recommendations  \n",
    "\n",
    "#### 7. Postmarketing Evaluations \n",
    "\n",
    "##### a. Effectiveness  \n",
    "\n",
    "As discussed in Sections III.A. through C. above, pandemic influenza vaccines may be approved on the basis of  immunogenicity data.  All sponsors who seek licensure of a pandemic influenza vaccine, including those granted accelerated approval under 21 CFR 601.41, s hould expect FDA to seek their involvement in working with FDA and other governmental agencies on plans to collect additional safety and e ffectiveness data, such as through epidemiological studies, when the vacci ne is used.  Sponsors may indicate their intent in their BLA pharmacovigila nce plans.  The additional data may allow a better understanding of the relationship between immunogenicity of the vaccine and clinical effectiveness.  As discussed in Section III.C. above, for pandemic influenza vaccines appr oved under an accelerated approval, sponsors will also need to conduct a postmarketing confirmatory study to verify clinical benefit, and should include their study plans with their application.  \n",
    "\n",
    "##### b. Safety  \n",
    "\n",
    "As part of the BLA submission, sponsors should include a pharmacovigilance plan in accordance with the International Conference on Harmonisation of Technical Requirements for Registration of Pharmaceuticals for Human Use (ICH E2E guidance) (Ref. 25).  Special attention should be paid to safety issues that might arise because of n ovel manufacturing processes and/or novel adjuvants.  FDA and the Centers for Disease Control and Prevention plan to conduct enhanced safety surveillance during early use of the vaccine, both prepandemic and during a pandemic.  FDA encourages sponsors to work in advance with us to develop safety surveillance strategies to best serve public health during a pandemic including the development and testing of postmarketing pandemic surveillance da ta gathering, communications, and reporting.     In addition, sponsors who wish to enhance the safety database and safety-related labeling of their pandemic use influenza vaccine may conduct safety studies prior to a pandemic influenza outbreak, for example among individuals identified by public health authorities for prepandemic vaccination.      \n",
    "\n"
   ]
  },
  {
   "cell_type": "markdown",
   "id": "9361a786-7fd7-45e6-ad79-6a08e125b45a",
   "metadata": {},
   "source": [
    "## IV. REFERENCES  \n",
    "\n",
    "1. World Health Organization. WHO guidelines on nonclinical evaluation of vaccines. Annex 1. WHO Technical Report Series. 2005;927:31-63. \n",
    "www.who.int/biologicals/publications/trs/areas/vaccines/nonclinical_evaluation/en/.\n",
    "2. Lamb RA, Krug RM. Orthomyxoviridae: The Viruses and Their Replication. In: Fields Virology, Editors-in-Chief: Knipe DM and Howley PM. 4th Edition. Philadelphia, PA: Lippincott Williams and Wilkins, Publishers; 2001;1487-1531.\n",
    "3. Palese P, Garcia-Sastre A. Influenza vaccines: present and future. The Journal of Clinical Investigation. 2002;110:9-13.\n",
    "4. Nakajima S, Nobusawa E, Nakajima K. Variation in response among individuals to antigenic sites on the HA protein of human influenza virus may be responsible for the emergence of drift strains in the human population. Virology. 2000;274:220-231.\n",
    "5. Holmes EC, Ghedin E, Miller N, Taylor J, Bao Y, St. George K, Grenfell BT, Salzberg SL, Fraser CM, Lipman DJ, Taubenberger JK. Whole-genome analysis of human influenza A virus reveals multiple persistent lineages and reassortment among recent H3N2 viruses. PLoS Biology. 2005;3:1579-1589.\n",
    "6. Barr IG, Komadina N, Hurt AC, Iannello P, Tomasov C, Shaw R, Durrant C, Sjogren H, Hampson AW. An influenza A(H3) reassortant was epidemic in Australia and New Zealand in 2003. Journal of Medical Virology. 2005;76:391-397.\n",
    "7. Centers for Disease Control and Prevention. Prevention and control of influenza. Recommendations of the Advisory Committee on Immunization Practices (ACIP). MMWR Morbidity and Mortality Weekly Report. 2005;54(RR-8):1-40.\n",
    "8. Reid AH, Fanning TG, Janczewski TA, Lourens RM, Taubenberger JK. Novel origin of the 1918 pandemic influenza virus nucleoprotein gene. Journal of Virology. 2004;78:12462-12470.\n",
    "9. Taubenberger JK, Reid AH, Lourens RM, Wang R, Jin G, Fanning TG. Characterization of the 1918 influenza virus polymerase genes. Nature. 2005;437:889-893.\n",
    "10. Tumpey TM, Basler CF, Aguilar PV, Zeng H, Solorzano A, Swayne DE, Cox NJ, Katz JM, Taubenberger JK, Palese P, Garcia-Sastre A. Characterization of the reconstructed 1918 Spanish influenza pandemic virus. Science. 2005;310:77-80.\n",
    "11. Johnson NPAS, Mueller J. Updating the accounts: Global mortality of the 1918-1920 “Spanish” influenza pandemic. Bulletin of the History of Medicine. 2002;76:105-115. \n",
    "12. Fouchier RAM, Schneeberger PM, Rozendaal FW, Broekman JM, Kemink SAG, Munster V, Kuiken T, Rimmelzwaan GF, Schutten M, van Doornum GJJ, Koch G, Bosman A, Koopmans M, Osterhaus ADME. Avian influenza A virus (H7N7) associated with human conjunctivitis and a fatal case of acute respiratory distress syndrome. Proceedings of the National Academy of Sciences of the United States of America. 2004;101:1356-1361.\n",
    "13. Lin YP, Shaw M, Gregory V, Cameron K, Lim W, Klimov A, Subbarao K, Guan Y, Krauss S, Shortridge K, Webster R, Cox N, Hay A. Avian-to-human transmission of H9N2 subtype influenza A viruses: Relationship between H9N2 and H5N1 human isolates. Proceedings of the National Academy of Sciences of the United States of America. 2000;97:9654-9658.\n",
    "14. Claas ECJ, Osterhaus ADME, van Beek R, De Jong JC, Rimmelzwaan GF, Senne DA, Krauss S, Shortridge KF, Webster RG. Human influenza A H5N1 virus related to a highly pathogenic avian influenza virus. The Lancet. 1998;351:472-477.\n",
    "15. Subbarao K, Klimov A, Katz J, Regnery H, Lim W, Hall H, Perdue M, Swayne D, Bender C, Huang J, Hemphill M, Rowe T, Shaw M, Xu X, Fukuda K, Cox N. Characterization of an avian influenza A (H5N1) virus isolated from a child with a fatal respiratory illness. Science. 1998;279:393-396.\n",
    "16. Ungchusak K, Auewarakul P, Dowell SF, Kitphati R, Auwanit W, Puthavathana P, Uiprasertkul M, Boonnak K, Pittayawonganon C, Cox NJ, Zaki SR, Thawatsupha P, Chittaganpitch M, Khontong R, Simmerman JM, Chunsutthiwat S. Probable person-toperson transmission of avian influenza A (H5N1). The New England Journal of Medicine. 2005;352:333-340.\n",
    "17. Buxton Bridges C, Katz JM, Seto WH, Chan PKS, Tsang D, Ho W, Mak KH, Lim W, Tam JS, Clarke M, Williams SG, Mounts AW, Bresee JS, Conn LA, Rowe T, Hu-Primmer J, Abernathy RA, Lu X, Cox NJ, Fukuda K. Risk of influenza A (H5N1) infection among health care workers exposed to patients with influenza A (H5N1), Hong Kong. The Journal of Infectious Diseases. 2000;181:344-348.\n",
    "18. Rowe T, Abernathy RA, Hu-Primmer J, Thompson WW, Lu X, Lim W, Fukuda K, Cox NJ, Katz JM. Detection of antibody to avian influenza A (H5N1) virus in human serum by using a combination of serologic assays. Journal of Clinical Microbiology. 1999;37:937-943.\n",
    "19. Hobson D, Curry RL, Beare AS, Ward-Gardner A. The role of serum haemagglutinationinhibiting antibody in protection against challenge infection with influenza A2 and B viruses. Journal of Hygiene (Camb). 1972;70:767-777.\n",
    "20. de Jong JC, Palache AM, Beyer WEP, Rimmelzwaan GF, Boon ACM, Osterhaus ADME. Haemagglutination-inhibiting antibody to influenza virus. Developmental Biology (Basel). 2003;115:63–73. \n",
    "21. Committee for Proprietary Medicinal Products (CPMP). Note for guidance on harmonisation of requirements for influenza vaccines. CPMP/BWP/214/96. The European Agency for the Evaluation of Medicinal Products (EMEA), March 1997.\n",
    "22. Treanor J, Keitel W, Belshe R, Campbell J, Schiff G, Zangwill K, Wolff M, Klimov A, Levandowski R, Lambert L. Evaluation of a single dose of half strength inactivated influenza vaccine in healthy adults. Vaccine. 2002;20:1099-1105.\n",
    "23. Testimony of Anthony S. Fauci, M.D., Director, National Institute of Allergy and Infectious Diseases, National Institutes of Health, on “Pandemic Influenza: The Road to Preparedness” before the Committee on Foreign Relations, United States Senate, November 9, 2005.\n",
    "24. FDA Draft Guidance for Industry: How to Comply with the Pediatric Research Equity Act, September 2005 (http://www.fda.gov/cber/gdlns/pedreseq.htm). This draft guidance, when finalized, will represent FDA’s current thinking on that topic.\n",
    "25. ICH Guidance for Industry: E2E Pharmacovigilance Planning, April 2005\n",
    "(http://www.fda.gov/cber/gdlns/ichpvp.htm). "
   ]
  }
 ],
 "metadata": {
  "kernelspec": {
   "display_name": "P3_nbenv",
   "language": "python",
   "name": "nbenv"
  },
  "language_info": {
   "codemirror_mode": {
    "name": "ipython",
    "version": 3
   },
   "file_extension": ".py",
   "mimetype": "text/x-python",
   "name": "python",
   "nbconvert_exporter": "python",
   "pygments_lexer": "ipython3",
   "version": "3.9.12"
  }
 },
 "nbformat": 4,
 "nbformat_minor": 5
}
