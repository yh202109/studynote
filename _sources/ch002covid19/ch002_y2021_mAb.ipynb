{
 "cells": [
  {
   "cell_type": "markdown",
   "id": "12f97491-52ba-4370-b646-747f06e88ae2",
   "metadata": {},
   "source": [
    "# mAb Targeting SARS-CoV-2 (2021)"
   ]
  },
  {
   "cell_type": "code",
   "execution_count": 3,
   "id": "2687a171-ebec-4563-89cd-febd83244191",
   "metadata": {
    "tags": [
     "hide-input"
    ]
   },
   "outputs": [
    {
     "data": {
      "text/markdown": [
       "- **title**: Development of Monoclonal Antibody Products Targeting SARSCoV-2, Including Addressing the Impact of Emerging Variants, During the COVID-19 Public Health Emergency\n",
       "- **target**: Guidance for Industry\n",
       "- **CDER**: True\n",
       "- **url**: https://www.fda.gov/media/146173/download\n",
       "- **year**: 2021\n",
       "- **keyword**: ['covid', 'mAb']"
      ],
      "text/plain": [
       "<IPython.core.display.Markdown object>"
      ]
     },
     "execution_count": 3,
     "metadata": {},
     "output_type": "execute_result"
    }
   ],
   "source": [
    "if(False):\n",
    "    import sys\n",
    "    sys.path.insert(0, '..')\n",
    "    import myutil.pdf2txt\n",
    "    ns='ch002_y2021_mAb'\n",
    "    print(myutil.pdf2txt.fpdf2txt(ns, True, True)) \n",
    "else:\n",
    "    import pandas as pd\n",
    "    from IPython.display import Markdown as md\n",
    "    meta={\n",
    "        'title': 'Development of Monoclonal Antibody Products Targeting SARSCoV-2, Including Addressing the Impact of Emerging Variants, During the COVID-19 Public Health Emergency',\n",
    "        'target': 'Guidance for Industry',\n",
    "        'CDER': True,\n",
    "        'url': 'https://www.fda.gov/media/146173/download',\n",
    "        'year': 2021,\n",
    "        'keyword': [\n",
    "            'covid','mAb'\n",
    "        ]\n",
    "    }\n",
    "\n",
    "md(\"\\n\".join(\"- **{}**: {}\".format(k,v) for k,v in meta.items()))"
   ]
  },
  {
   "cell_type": "markdown",
   "id": "ef49a7f9-01c3-47f5-83c3-770c3d01da34",
   "metadata": {},
   "source": [
    "## Preface\n",
    "\n",
    "### Public Comment\n",
    "\n",
    "This guidance is being issued to address the Coronavirus Disease 2019 (COVID-19) public health emergency. This guidance is being implemented without prior public comment because the Food and Drug Administration (FDA or Agency) has determined that prior public participation for this guidance is not feasible or appropriate (see section 701(h)(1)(C) of the Federal Food, Drug, and Cosmetic Act (FD&C Act) (21 U.S.C. 371(h)(1)(C)) and 21 CFR 10.115(g)(2)). This guidance document is being implemented immediately, but it remains subject to comment in accordance with the Agency’s good guidance practices. Comments may be submitted at any time for Agency consideration. Submit written comments to the Dockets Management Staff (HFA-305), Food and Drug Administration, 5630 Fishers Lane, Rm. 1061, Rockville, MD 20852. Submit electronic comments to https://www.regulations.gov. All comments should be identified with the docket number FDA-2020-D-1136 and complete title of the guidance in the request."
   ]
  },
  {
   "cell_type": "markdown",
   "id": "2eeb65d0-049f-43bf-a49d-7d549938311d",
   "metadata": {},
   "source": [
    "Table of Contents\n",
    "\n",
    "- I. INTRODUCTION \n",
    "- II. BACKGROUND\n",
    "- III. DISCUSSION\n",
    "    - A. Guiding Principles \n",
    "    - B. Development Program Considerations to Support Use Under an EUA\n",
    "        - 1. Chemistry, Manufacturing, and Controls\n",
    "        - 2. Pharmacology Toxicology \n",
    "        - 3. Virology \n",
    "        - 4. Clinical \n",
    "        "
   ]
  },
  {
   "cell_type": "markdown",
   "id": "596a96db-72af-42ff-b97a-8c6150f8e34f",
   "metadata": {},
   "source": [
    ":::{note}\n",
    "This guidance represents the current thinking of the Food and Drug Administration (FDA or Agency) on this topic. It does not establish any rights for any person and is not binding on FDA or the public. You can use an alternative approach if it satisfies the requirements of the applicable statutes and regulations. To discuss an alternative approach, contact the FDA staff or office responsible for this guidance as listed on the title page. \n",
    ":::"
   ]
  },
  {
   "cell_type": "markdown",
   "id": "0092660b-c1d7-48fe-b7f6-56a9e193d448",
   "metadata": {},
   "source": [
    "## I. INTRODUCTION   \n",
    "\n",
    "FDA plays a critical role in protecting the United States from threats such as emerging infectious diseases, including the Coronavirus Disease 2019 (COVID-19) pandemic. FDA is committed to providing timely guidance to support response efforts to this pandemic.\n",
    "\n",
    "FDA is issuing this guidance to provide recommendations to sponsors on the development of monoclonal antibody products targeting SARS-CoV-2, including addressing the impact of emerging variants, during the COVID-19 public health emergency.\n",
    "\n",
    "This policy is intended to remain in effect only for the duration of the public health emergency related to COVID-19 declared by the Secretary of Health and Human Services (HHS) on January 31, 2020, effective January 27, 2020, including any renewals made by the HHS Secretary in accordance with section 319(a)(2) of the Public Health Service Act (PHS Act) (42 U.S.C. 247d(a)(2)). Given this public health emergency, and as discussed in the Notice in the Federal Register of March 25, 2020, titled “Process for Making Available Guidance Documents Related to Coronavirus Disease 2019,” available at https://www.govinfo.gov/content/pkg/FR-2020-03-25/pdf/2020-06222.pdf, this guidance is being implemented without prior public comment because FDA has determined that prior public participation for this guidance is not feasible or appropriate (see section 701(h)(1)(C) of the Federal Food, Drug, and Cosmetic Act (FD&C Act) (21 U.S.C. 371(h)(1)(C)) and 21 CFR 10.115(g)(2)). This guidance document is being implemented immediately, but it remains subject to comment in accordance with the Agency’s good guidance practices.\n",
    "\n",
    "The contents of this document do not have the force and effect of law and are not meant to bind the public in any way, unless specifically incorporated into a contract. This document is intended only to provide clarity to the public regarding existing requirements under the law. FDA guidance documents, including this guidance, should be viewed only as recommendations, unless specific regulatory or statutory requirements are cited. The use of the word should in FDA guidance means that something is suggested or recommended, but not required."
   ]
  },
  {
   "cell_type": "markdown",
   "id": "e2d99e47-55b2-4dd9-8171-322734a5bbe5",
   "metadata": {},
   "source": [
    " \n",
    "## II. BACKGROUND   \n",
    "\n",
    "There is currently an outbreak of respiratory disease caused by a novel coronavirus. The virus has been named “SARS-CoV-2” and the disease it causes has been named “Coronavirus Disease 2019 (COVID-19). On January 31, 2020, HHS issued a declaration of a public health emergency related to COVID-19 and mobilized the Operating Divisions of HHS. ^1 In addition, on March 13, 2020, there was a Presidential declaration of a national emergency in response to COVID-19. ^2\n",
    "\n",
    "- ^1 Secretary of Health and Human Services, Determination that a Public Health Emergency Exists. (originally issued Jan. 31, 2020, and subsequently renewed), available at https://www.phe.gov/emergency/news/healthactions/phe/Pages/default.aspx.\n",
    "- ^2 Proclamation on Declaring a National Emergency Concerning the Novel Coronavirus Disease (COVID-19) Outbreak (Mar. 13, 2020), available at https://trumpwhitehouse.archives.gov/presidential-actions/proclamationdeclaring-national-emergency-concerning-novel-coronavirus-disease-covid-19-outbreak/\n",
    "\n",
    "SARS-CoV-2 is evolving as it spreads through the human population, resulting in the emergence of multiple variants. A new virus variant of SARS-CoV-2 has one or more mutations that differentiate it from the original Wuhan isolate (Wuhan-Hu1) or predominant virus variants already circulating in the general population. Variants of SARS-CoV-2 are identified by genomic sequences that contain mutation(s) in the RNA genome, which could result in amino acid substitutions, insertions, and/or deletions in viral proteins. Mutations in genomic regions encoding for viral proteins that are targeted by therapeutics are of particular concern as the mutations may result in resistance to these therapies.\n",
    "\n",
    "FDA recognizes that emerging variants may, in some cases, result in reduced susceptibility to currently authorized or approved products, compounding an urgent unmet medical need. This guidance provides recommendations to sponsors for the development of monoclonal antibody products targeting SARS-CoV-2, including addressing the impact of emerging variants. Monoclonal antibody products are designed to bind to the viral envelope protein that mediates attachment of the virus to the host cell receptor and thereby sterically inhibit viral entry, and/or elicit fragment crystallizable-mediated (Fc-mediated) effector function by binding to the viral envelope protein in the host cell membrane of infected cells. This guidance contains recommendations on the generation of data to support an emergency use authorization (EUA) under section 564 of the FD&C Act for monoclonal antibody products targeting SARS-CoV-2. An EUA is not a long-term alternative to obtaining licensure of a monoclonal antibody therapy; therefore, sponsors should also design their development programs with the goal of providing adequate data to ultimately support licensure of their products under section 351 of the Public Health Services Act. ^3\n",
    "\n",
    "- ^3 FDA is required to periodically review the circumstances and appropriateness of an EUA, including the progress made toward licensure of a product. See section 564(g)(1) of the FD&C Act (21 USC 360bbb-3(g)(1)).\n",
    "\n",
    "\n",
    "Sponsors engaged in developing drug and biological products for COVID-19 can also refer to FDA’s COVID-19 web page for additional guidance documents.^4 \n",
    "\n",
    "- ^4 See COVID-19 guidance documents, available at https://www.fda.gov/emergency-preparedness-andresponse/coronavirus-disease-2019-covid-19/covid-19-related-guidance-documents-industry-fda-staff-and-otherstakeholders.\n"
   ]
  },
  {
   "cell_type": "markdown",
   "id": "bd2a5bd3-7f4a-4b2c-901c-4bcbf48ebbbf",
   "metadata": {
    "tags": []
   },
   "source": [
    "\n",
    "\n",
    "## III. DISCUSSION\n",
    "\n",
    "### A. Guiding Principles\n",
    "\n",
    "Sponsors of monoclonal antibody products targeting SARS-CoV-2 should consider the following guiding principles:\n",
    "\n",
    "- Given the serious concerns raised by the emergence of SARS-CoV-2 variants, FDA intends to leverage its emergency authorities under section 564 of the FD&C Act, when appropriate, to foster the development and availability of therapeutics for use during the current public health emergency. When scientifically supported, FDA will streamline the data necessary to support the development of monoclonal antibody products targeting SARS-CoV-2 and also expedite the review of these data.\n",
    "- Given the dynamic public health situation created by changes in the prevalence of new variants over time, FDA’s streamlined approach will depend on its current assessment of benefit and risk for the intended use and population, the monoclonal antibody’s expected coverage of important emerging variants, as well as FDA’s then-current understanding of SARS-CoV-2.\n",
    "- FDA strongly recommends that individual monoclonal antibody products be developed with the expectation that they will be combined with one or more monoclonal antibody products that **bind to different epitopes** ^5 to **minimize the risk of losing activity against emergent variants**. FDA encourages collaborations between sponsors of individual monoclonal antibody products to address this unmet medical need.\n",
    "    - ^5 For the purposes of this guidance, the term epitope refers to the part of an antigen, in this case the viral protein, to which an antibody binds. \n",
    "- Sharing of information regarding SARS-CoV-2 variants among sponsors, consortia, or other partnerships may help expedite the development of therapeutics to address these variants.\n",
    "\n",
    "\n"
   ]
  },
  {
   "cell_type": "markdown",
   "id": "11194f72-fe6a-4eed-a119-cb8b71cbbdeb",
   "metadata": {},
   "source": [
    "### B. Development Program Considerations to Support Use Under an EUA\n",
    "\n",
    "#### 1. Chemistry, Manufacturing, and Controls\n",
    "\n",
    "Sponsors of monoclonal antibody products targeting SARS-CoV-2 should consider the following chemistry, manufacturing, and controls recommendations:\n",
    "\n",
    "- When feasible and scientifically supported, sponsors should attempt to leverage experience obtained from other monoclonal antibody products in development and already licensed monoclonal antibody therapies. Specific examples include the following:\n",
    "    - The use of existing manufacturing platforms to establish a manufacturing process forinvestigational product development\n",
    "    - The selection of manufacturing facilities ^6 that have experience in manufacturing biotechnology products and have a history of recent inspection(s) (including using information shared by trusted foreign regulatory partners through mutual recognition agreements ^7 ) ^8\n",
    "        - ^6 For information on facility recommendations pertaining to EUAs, see section III., D., 2., a. bullet 6 and section III., E., 5., a. of the guidance for industry and other stakeholders Emergency Use Authorization of Medical Products and Related Authorities (January 2017). We update guidances periodically. To make sure you have the most recent version of a guidance, check the FDA guidance web page at https://www.fda.gov/regulatory-information/search-fdaguidance-documents.\n",
    "        - ^7 See FDA’s Mutual Recognition Agreement web page, available at https://www.fda.gov/internationalprograms/international-arrangements/mutual-recognition-agreement-mra.\n",
    "        - ^8 See 21 CFR 601.20.\n",
    "    - The potential to utilize already obtained modular data for viral clearance validation, and a purification process validation (e.g., impurity clearance)\n",
    "    - The selection of analytical methods that have already been qualified or validated. This may include adapting potency assay ^9 formats (including binding assays and/or neutralizing assays) with revised reagents that evaluate new variant protein(s) or pseudotyped virus/virus-like particles in the assay(s)\n",
    "        - ^9 See the guidance for industry COVID-19: Potency Assay Considerations for Monoclonal Antibodies and Other Therapeutic Proteins Targeting SARS-CoV-2 Infectivity (January 2021).\n",
    "    - The exploration of opportunities for less-experienced manufacturers to partner with those with more experience to leverage all available development tools  \n",
    "    - The use of data that may be available from public consortia or partnerships that may contribute to understanding product performance\n",
    "    - The leveraging of related product quality data (e.g., formulation development) to support in-use stability and compatibility\n",
    "    - The use of prior development experience to anticipate the best dosage form, route of administration, and formulation (composition) selection\n",
    "- FDA strongly recommends that sponsors discuss with FDA in advance (well before they occur) time-critical elements of the development program. Specific examples include the following:\n",
    "    - A plan that describes key aspects of the manufacturing development, including plans for scale-up\n",
    "    - Comparability protocols that include a detailed description of tests and acceptance criteria to evaluate the impact of manufacturing process changes on product quality\n",
    "    - A strategy for establishing a shelf life for the intended monoclonal antibody product targeting SARS-CoV-2. This may include opportunities to leverage related product data to justify the proposed shelf life\n",
    "- Certain approaches may be appropriate for limited early phase development to enable rapid introduction of the product into clinical trials. Specific examples include the following:\n",
    "    - Use of a stable cell pool in lieu of a clonally derived cell bank to generate early clinical batches\n",
    "    - Consideration of interim results from limited safety testing results (e.g., for cell banks, unprocessed bulk harvest) to begin first-in-human (FIH) clinical trial(s) with full study reports to be available at time negotiated with FDA and submitted to the investigational new drug application (IND)\n",
    "    - Flexibility in the amount of stability study results provided in the IND submission to support the initiation of FIH clinical trials\n",
    "    - Use of two robust orthogonal virus clearance steps when modular/generic virus clearance data are not available. \n",
    "    - Manufacture of limited early clinical batches for FIH clinical trial(s) by mixing and diluting with sterile filtration employing aseptic technique ^10 rather than traditional drug product manufacturing.\n",
    "        - ^10 Recommended manufacturing controls to support aseptic technique and sterility assurance can be found in section VI.C. of the guidance for industry CGMP for Phase 1 Investigational Drugs (July 2008). \n",
    "- FDA may not require completed process validation (excluding sterilization process validation) to support an EUA. However, sufficient process characterization is expected and should be consistent with the overall benefit-risk assessment of the product. If only limited process validation data are provided, the sponsor can propose additional elements for the control strategy. These elements can include additional controls in the manufacturing processes, taking into consideration the criticality assessment for individual process parameters, the ranges proposed for a given parameter, or the inclusion of additional in-process measurements or release specifications.\n"
   ]
  },
  {
   "cell_type": "markdown",
   "id": "554b4426-374f-4b88-8c73-00d9cc9d4fad",
   "metadata": {},
   "source": [
    "\n",
    "#### 2. Pharmacology Toxicology\n",
    "\n",
    "Sponsors of monoclonal antibody products targeting SARS-CoV-2 should consider the following pharmacology toxicology recommendations:\n",
    "\n",
    "- The Agency intends to be flexible regarding selected nonclinical safety data submission expectations (e.g., timing of data submission to the IND) for monoclonal antibody products targeting SARS-CoV-2 to support clinical trial initiation. The degree of flexibility warranted will be influenced by the benefit-risk assessment for the intended population (e.g., hospitalized, nonhospitalized, healthy trial subjects) and the potential coverage of important emerging variants. Thus, FDA strongly recommends that sponsors discuss the nonclinical requirements to support product administration in a specific clinical trial with the Agency through the pre-IND consultation process. ^11\n",
    "    - ^11 See the guidance for industry and investigators COVID-19 Public Health Emergency: General Considerations for Pre-IND Meeting Requests for COVID-19 Related Drugs and Biological Products (May 2020).\n",
    "- Nonclinical safety assessment for monoclonal antibody products targeting SARS-CoV-2 should follow approaches outlined in the International Council for Harmonisation (ICH) guidance for industry S6(R1) Preclinical Safety Evaluation of Biotechnology-Delivered Pharmaceuticals (May 2012) and conduct the following:\n",
    "    - A tissue cross reactivity (TCR) study using a panel of human tissues. ^12 When a monoclonal antibody binds to human tissues in the TCR study, FDA recommends evaluating monoclonal antibody binding to select tissues from nonclinical species to assist in species selection for repeat-dose toxicology testing. When binding of potential clinical concern is observed (e.g., cell membrane binding), FDA recommends discussing these data with the Agency because additional studies may be needed to help inform the potential clinical relevance of the findings.\n",
    "        - ^12 See the guidance Points to Consider in the Manufacture and Testing of Monoclonal Antibody Products for Human Use (February 1997). \n",
    "    - A short duration (i.e., 3 weeks of treatment) repeat-dose toxicology study in a single species, using the clinical formulation and route of administration(s) intended for clinical administration, that includes all standard toxicity endpoints including toxicokinetic analysis. FDA also recommends discussing specific study design considerations with the Agency.\n",
    "- Toxicology studies with specific monoclonal antibody combinations are not needed for monoclonal antibody products targeting SARS-CoV-2 proteins, so monoclonal antibody products can be evaluated separately in toxicology studies. If a sponsor evaluates monoclonal antibody products in combination, FDA recommends using the same ratio intended for clinical administration.\n",
    "- To support administration of monoclonal antibody products during pregnancy, FDA recommends conducting a TCR study using relevant human tissues or studies using alternative protein interaction technologies, with appropriate justification. If no specific concerns are identified in the repeat-dose toxicology and TCR studies, developmental and reproductive toxicology studies are not needed.\n"
   ]
  },
  {
   "cell_type": "markdown",
   "id": "851fce42-01ce-4c1b-870a-2adcac3ff63d",
   "metadata": {},
   "source": [
    "\n",
    "#### 3. Virology\n",
    "\n",
    "Sponsors of monoclonal antibody products targeting SARS-CoV-2 should consider the following virology recommendations:\n",
    "\n",
    "- A broad approach should initially be used to characterize the impact of amino acid changes, insertions, or deletions throughout the monoclonal antibody target protein to identify regions where changes specifically impact monoclonal antibody **binding or activity**, and subsequent analyses and surveillance can focus on these regions.\n",
    "- Sponsors should monitor SARS-CoV-2 genomic databases continually for emerging SARS-CoV-2 variants and should evaluate phenotypically any specific variants that are prevalent or becoming prevalent that harbor substitutions in or near the target epitope. The sponsor should conduct a more thorough analysis to include other substitutions at the same amino acid positions.\n",
    "- Sponsors should characterize the epitopes to which monoclonal antibody products bind to enable identification of polymorphisms, which may affect binding, and to inform decisions regarding monoclonal antibody products planned for use in a combination therapy.\n",
    "- Sponsors should characterize monoclonal antibody products with respect to epitope binding (affinity equilibrium dissociation constant (KD) and noncompetitive binding). The sponsor should characterize the mechanism of action for SARS-CoV-2 neutralization (e.g., blocking spike protein/receptor binding domain interaction with ACE2).\n",
    "- The sponsor should determine the neutralizing activity (half maximal effective concentration (EC50) value) of investigational monoclonal antibody products, individually and if applicable in combination, against an array of circulating variants representing the diversity of the target protein and epitope to which the monoclonal antibody binds.\n",
    "- The sponsor should evaluate the neutralizing activity of monoclonal antibodies, individually and if applicable in combination, against SARS-CoV-2 variants or pseudovirus harboring substitutions known to confer reduced susceptibility to other authorized or approved antibody products targeting SARS-CoV-2 infectivity.\n",
    "- SARS-CoV-2 or pseudovirus should be serially passaged in cell culture in the presence of the monoclonal antibody product, individually and if applicable in combination, to select for resistant variants to understand the potential risk and nature of treatment-emergent resistance. Sponsors should characterize genotypically and phenotypically the variants selected in this manner. Sponsors should determine the effect of resistance-associated substitutions on approved and authorized monoclonal antibody products. These studies should be conducted under appropriate biocontainment. ^13\n",
    "    - ^13 For biosafety considerations from the National Institutes of Health, which may be relevant for some research, see the NIH Guidelines for Research Involving Recombinant or Synthetic Nucleic Acid Molecules and the FAQs — Interim Laboratory Biosafety Guidance for Research with SARS-CoV-2 and IBC Requirements under the NIH Guidelines for Research Involving Recombinant or Synthetic Nucleic Acid Molecules available at https://osp.od.nih.gov/biotechnology/nih-guidelines/. See also the Centers for Disease Control and Prevention’s guideline Biosafety in Microbiological and Biomedical Laboratories available at https://www.cdc.gov/labs/BMBL.html\n",
    "- Clinical protocols should include detailed plans to (1) characterize the impact of SARSCoV-2 genetic variability on clinical and virologic outcomes (i.e., baseline resistance analyses) and (2) identify SARS-CoV-2 genetic changes associated with treatment (i.e., treatment-emergent resistance analyses).\n",
    "- Sponsors should also reference the guidance for industry COVID-19: Developing Drugs and Biological Products for Treatment or Prevention (February 2021) and the guidance for industry Antiviral Product Development — Conducting and Submitting Virology Studies to the Agency (June 2006).\n"
   ]
  },
  {
   "cell_type": "markdown",
   "id": "047bced9-126d-4df1-a7d1-0d0cb32b920b",
   "metadata": {},
   "source": [
    "\n",
    "\n",
    "#### 4. Clinical\n",
    "\n",
    "Sponsors of monoclonal antibody products targeting SARS-CoV-2 should consider the following clinical recommendations:\n",
    "\n",
    "- In general, sponsors should design monoclonal antibody product development programs evaluating the treatment or prevention of COVID-19 to assess the effect of investigational products on clinically meaningful aspects of the disease. ^14\n",
    "    - ^14 See the guidance for industry COVID-19: Developing Drugs and Biological Products for Treatment or Prevention.\n",
    "    - An example of an acceptable endpoint to support an EUA for the treatment of outpatients with mild to moderate disease would be the proportion of patients with COVID-19 related hospitalizations or deaths from any cause through at least 28 days.\n",
    "    - Sponsors considering the use of a surrogate endpoint (e.g., viral pharmacodynamic endpoint) to support an EUA in situations where viral variants have affected the efficacy of currently authorized or approved treatment options should seek early input from the Agency on their proposals.\n",
    "- Sponsors should scientifically justify the selection of doses and regimens for phase trials and discuss with the Agency.\n",
    "- Sponsors should enroll patients from populations disproportionately impacted by the COVID-19 pandemic (e.g., racial and ethnic minorities).\n",
    "- The size and composition of the safety database needed to support an EUA will depend on factors such as the monoclonal antibody product’s **proposed use (e.g., treatment versus prevention)**, the proposed patient population, and the extent and nature of the prior clinical experience with the product and with related products.\n",
    "- Sponsors should also reference the guidance for industry **COVID-19: Developing Drugs and Biological Products** for Treatment or Prevention for additional recommendations on trial populations, trial design, efficacy endpoints, safety, and statistical considerations. \n",
    "\n",
    "\n"
   ]
  }
 ],
 "metadata": {
  "kernelspec": {
   "display_name": "P3_nbenv",
   "language": "python",
   "name": "nbenv"
  },
  "language_info": {
   "codemirror_mode": {
    "name": "ipython",
    "version": 3
   },
   "file_extension": ".py",
   "mimetype": "text/x-python",
   "name": "python",
   "nbconvert_exporter": "python",
   "pygments_lexer": "ipython3",
   "version": "3.9.12"
  }
 },
 "nbformat": 4,
 "nbformat_minor": 5
}
