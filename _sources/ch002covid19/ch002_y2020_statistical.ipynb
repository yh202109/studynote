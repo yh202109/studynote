{
 "cells": [
  {
   "cell_type": "markdown",
   "id": "12f97491-52ba-4370-b646-747f06e88ae2",
   "metadata": {},
   "source": [
    "# Statistical Considerations (2020)"
   ]
  },
  {
   "cell_type": "code",
   "execution_count": 1,
   "id": "2687a171-ebec-4563-89cd-febd83244191",
   "metadata": {
    "tags": [
     "hide-input"
    ]
   },
   "outputs": [
    {
     "data": {
      "text/markdown": [
       "- **title**: Statistical Considerations for Clinical Trials During the COVID-19 Public Health Emergency\n",
       "- **target**: Guidance for Industry\n",
       "- **CDER**: True\n",
       "- **CBER**: True\n",
       "- **CDRH**: True\n",
       "- **CVM**: True\n",
       "- **url**: https://www.fda.gov/media/139145/download\n",
       "- **year**: 2020\n",
       "- **keyword**: ['covid', 'statistical']"
      ],
      "text/plain": [
       "<IPython.core.display.Markdown object>"
      ]
     },
     "execution_count": 1,
     "metadata": {},
     "output_type": "execute_result"
    }
   ],
   "source": [
    "if(False):\n",
    "    import sys\n",
    "    sys.path.insert(0, '..')\n",
    "    import myutil.pdf2txt\n",
    "    ns='ch002_y2020_statistical'\n",
    "    print(myutil.pdf2txt.fpdf2txt(ns, True, True)) \n",
    "else:\n",
    "    import pandas as pd\n",
    "    from IPython.display import Markdown as md\n",
    "    meta={\n",
    "        'title': 'Statistical Considerations for Clinical Trials During the COVID-19 Public Health Emergency',\n",
    "        'target': 'Guidance for Industry',\n",
    "        'CDER': True,\n",
    "        'CBER': True,\n",
    "        'CDRH': True,\n",
    "        'CVM': True,\n",
    "        'url': 'https://www.fda.gov/media/139145/download',\n",
    "        'year': 2020,\n",
    "        'keyword': [\n",
    "            'covid','statistical'\n",
    "        ]\n",
    "    }\n",
    "\n",
    "md(\"\\n\".join(\"- **{}**: {}\".format(k,v) for k,v in meta.items()))"
   ]
  },
  {
   "cell_type": "markdown",
   "id": "8ee95587-38c1-4b6d-afe0-00aa686a99c4",
   "metadata": {},
   "source": [
    "## Preface\n",
    "   \n",
    "### Public Comment  \n",
    "\n",
    "This guidance is being issued to address the Coronavirus Disease 2019 (COVID-19) public health emergency. This guidance is being implemented without prior public comment because the Food and Drug Administration (FDA or Agency) has determined that prior public participation for this guidance is not feasible or appropriate (see section 701(h)(1)(C) of the Federal Food, Drug, and Cosmetic Act (FD&C Act) (21 U.S.C. 371(h)(1)(C)) and 21 CFR 10.115(g)(2)). This guidance document is being implemented immediately, but it remains subject to comment in accordance with the Agency's good guidance practices.  Comments may be submitted at any time for Agency consideration. Submit written comments to the Dockets Management Staff (HFA-305), Food and Drug Administration, 5630 Fishers Lane, Rm. 1061, Rockville, MD 20852. Submit electronic comments to https://www.regulations.gov. All comments should be identified with the docket number FDA-2020-D-1136 and complete title of the guidance in the request.  Additional Copies  \n"
   ]
  },
  {
   "cell_type": "markdown",
   "id": "c86dc508-4ddb-4490-bae1-2fee8ebef116",
   "metadata": {},
   "source": [
    "Table of Contents \n",
    "\n",
    "- I. Introduction \n",
    "- II. Background \n",
    "- III. Discussion \n",
    "    - A. Trial Integrity \n",
    "    - B. Trial Mitigation and Analysis Strategies \n",
    "    "
   ]
  },
  {
   "cell_type": "markdown",
   "id": "aef4bfb5-3b38-4077-b9ea-b8c3914c6534",
   "metadata": {},
   "source": [
    ":::{note}\n",
    "This guidance represents the current thinking of the Food and Drug Administration (FDA or Agency) on this topic. It does not establish any rights for any person and is not binding on FDA or the public. You can use an alternative approach if it satisfies the requirements of the applicable statutes and regulations. To discuss an alternative approach, contact the FDA staff or Office responsible for this guidance as listed on the title page.\n",
    ":::"
   ]
  },
  {
   "cell_type": "markdown",
   "id": "1646b823-e880-4c30-b76a-62d6c45ad0b5",
   "metadata": {},
   "source": [
    "## I. Introduction  \n",
    "\n",
    "FDA plays a critical role in protecting the United States from threats such as emerging infectious diseases, including the Coronavirus Disease 2019 (COVID-19) pandemic. FDA is committed to providing timely guidance to support response efforts to this pandemic.   \n",
    "\n",
    "FDA is issuing this guidance to provide recommendations on statistical considerations to address the impact of COVID-19 on meeting trial objectives for clinical trials conducted during the duration of the COVID-19 public health emergency. The COVID-19 pandemic has impacted clinical development and ongoing clinical trials across investigational product areas. Public health measures to control the virus may impact the ability to collect data, for example, if trial participants are not able to visit clinical sites for endpoint assessments. The guidance outlines considerations for the statistical analysis of the primary and key secondary endpoints in a trial affected by COVID-19 to help ensure that the trial will provide interpretable findings with correct statistical quantification of uncertainty.   \n",
    "\n",
    "This policy is intended to remain in effect only for the duration of the public health emergency related to COVID-19 declared by the Secretary of Health and Human Services (HHS) on January 31, 2020, effective January 27, 2020, including any renewals made by the HHS Secretary in accordance with section 319(a)(2) of the Public Health Service Act (PHS Act) (42 U.S.C. 247d(a)(2)).  \n",
    "\n",
    "Given this public health emergency, and as discussed in the Notice in the Federal Register of March 25, 2020 (85 FR 16949), titled \"Process for Making Available Guidance Documents Related to Coronavirus Disease 2019,\" available at https://www.govinfo.gov/content/pkg/FR-2020-03-25/pdf/2020-06222.pdf, this guidance is being implemented without prior public comment because FDA has determined that prior public participation for this guidance is not feasible or appropriate (see section 701(h)(1)(C) of the Federal Food, Drug, and Cosmetic Act (21 U.S.C. 371(h)(1)(C)) and 21 CFR 10.115(g)(2)). This guidance document is being implemented immediately, but it remains subject to comment in accordance with the Agency's good guidance practices.  \n",
    "\n",
    "In general, FDA's guidance documents, including this guidance, do not establish legally enforceable responsibilities. Instead, guidances describe the Agency's current thinking on a topic and should be viewed only as recommendations, unless specific regulatory or statutory requirements are cited. The use of the word should in Agency guidance means that something is suggested or recommended, but not required.  "
   ]
  },
  {
   "cell_type": "markdown",
   "id": "7fb5f6c1-03b5-4ae3-9ea1-4a9952c6ce47",
   "metadata": {},
   "source": [
    "## II. Background  \n",
    "\n",
    "There is currently an outbreak of respiratory disease caused by a novel coronavirus. The virus has been named \"SARS-CoV-2\" and the disease it causes has been named \"Coronavirus Disease 2019\" (COVID-19). On January 31, 2020, HHS issued a declaration of a public health emergency related to COVID-19 and mobilized the Operating Divisions of HHS. ^1 In addition, on March 13, 2020, the President declared a national emergency in response to COVID-19. ^2   \n",
    "\n",
    "- ^1 Secretary of Health and Human Services Alex M. Azar, Determination that a Public Health Emergency Exists (Jan. 31, 2020, renewed April 21, 2020), available at https://www.phe.gov/emergency/news/healthactions/phe/Pages/default.aspx.  \n",
    "- ^2 Proclamation on Declaring a National Emergency Concerning the Novel Coronavirus Disease (COVID-19) Outbreak (Mar. 13, 2020), available at https://www.whitehouse.gov/presidential-actions/proclamation-declaring-national-emergency-concerning-novel-coronavirus-disease-covid-19-outbreak/.   \n",
    "\n"
   ]
  },
  {
   "cell_type": "markdown",
   "id": "f8a49a39-bee4-4561-a47d-adab6462bd81",
   "metadata": {},
   "source": [
    "\n",
    "FDA has issued guidance outlining general considerations on the conduct of clinical trials of medical products during the COVID-19 public health emergency ^3 (Conduct Guidance). ^4 The Conduct Guidance notes that the safety of trial participants is paramount and provides recommendations that may help sponsors mitigate the effects of the COVID-19 public health emergency on meeting the trial's objectives, including recommendations related to documenting protocol deviations and methods of endpoint assessment. This guidance addresses statistical considerations for proposed changes to trial conduct that may impact the analysis and interpretation of the primary or key secondary endpoints in the trial. FDA recommends that sponsors consult with the relevant FDA review division when considering protocol changes and changes to the statistical analysis plan that may impact the analysis and interpretation of these endpoints.  \n",
    "\n",
    "- ^3 Guidance for industry, investigators, and institutional review boards FDA Guidance on Conduct of Clinical Trials of Medical Products During COVID-19 Public Health Emergency (March 2020). We update guidances periodically. For the most recent version of a guidance, check the FDA web page titled \"COVID-19-Related Guidance Documents for Industry, FDA Staff, and Other Stakeholders\" available at https://www.fda.gov/emergency-preparedness-and-response/mcm-issues/covid-19-related-guidance-documents-industry-fda-staff-and-other-stakeholders, and the FDA web page titled \"Search for FDA Guidance Documents,\" available at https://www.fda.gov/regulatory-information/search-fda-guidance-documents.  \n",
    "- ^4 Although the Center for Veterinary Medicine (CVM) has not joined the Conduct Guidance, it has issued separate guidance explaining how the principles in the Conduct Guidance can be applied to clinical trials for animal drugs during the COVID-19 public health emergency. See CVM guidance for industry #270, Guidance on the Conduct and Review of Studies to Support New Animal Drug Development During the COVID-19 Public Health Emergency (April 2020), available at https://www.fda.gov/emergency-preparedness-and-response/coronavirus-disease-2019-covid-19/covid-19-related-guidance-documents-industry-fda-staff-and-other-stakeholders.  "
   ]
  },
  {
   "cell_type": "markdown",
   "id": "35115bb8-cb94-4dc7-902f-507ffd1dea3d",
   "metadata": {
    "tags": []
   },
   "source": [
    "## III. Discussion  \n",
    "\n",
    "### A. Trial Integrity   \n",
    "\n",
    "- While prioritizing the safety of trial participants, sponsors should also proactively plan to address the impact of COVID-19 on the ability to meet the trial objectives. Modifications to the ascertainment of primary or key secondary endpoints would generally require a protocol amendment or an investigational device exemption (IDE) supplement. ^5 Modifications to the analysis of the primary or key secondary endpoints should be reflected in an updated statistical analysis plan before locking the database and before any modifications to unblinded interim analyses.   \n",
    "    - ^5 21 CFR 312.30 and 812.35. \n",
    "- When considering modifications to the trial to address the impact of COVID-19, sponsors should not propose any trial modifications based on data that may introduce bias into the interpretation of trial findings. Generally, for a blinded trial, modifications based on information that reveals the magnitude of the treatment effect or information presented by treatment arm have the potential to introduce bias. For example, stopping a trial before its planned duration based on knowledge of a treatment difference between arms from a previous interim analysis may introduce bias by stopping a trial close to a random high treatment estimate. Histograms and Kaplan-Meier plots may suggest treatment effect information and should be avoided. However, with appropriate safeguards for the integrity of the trial, such as the use of a Data Monitoring Committee, a trial may be stopped for the safety of the participants based on unblinded data.    \n",
    "- Appropriate participant data to consider when making modifications to the trial to address the impact of COVID-19 include summaries pooled over treatment arms including information on missing data, participant treatment discontinuation or interuptions, participant trial withdrawal, and endpoints. Information not specific to individual participants, such as information on site closures and disruption of the supply of investigational product, may also be appropriate to use when considering modifications to the trial.  \n",
    "\n",
    "### B. Trial Mitigation and Analysis Strategies  \n",
    "\n",
    "To address the impact of COVID-19 on evaluating the primary and key secondary endpoints of the trial, FDA provides considerations below for several design and analysis strategies. Multiple strategies may be needed to address the impact of COVID-19 adequately. These design and analysis strategies should be discussed with the relevant FDA review division.                                                     \n",
    "\n",
    "- (1) As discussed in the Conduct Guidance, it is important to capture specific information at the participant level, describing the context and/or reasons for post-baseline events as they relate to COVID-19, such as discontinuation of treatment, withdrawal from the trial, use of alternative or rescue treatments, missed endpoint ascertainment, and the use of alternative endpoint ascertainment methods. This information may be useful for incorporating into analysis strategies to address potential biases or for performing sensitivity analyses related to the impact of COVID-19.  \n",
    "- (2) For sponsors considering stopping a trial and conducting a final analysis, a major consideration is the loss of statistical power from a smaller sample size or less follow-up time than was anticipated. For a blinded trial, a blinded power assessment could be conducted to estimate the power of the modified study. The assessment could use the actual event rates pooled over treatment arms or the observed variability pooled over treatment arms in the completed portion of the trial.   \n",
    "- (3) Stopping a trial earlier than planned or adding interim analyses to the trial may impact the statistical inference (e.g., p-values, confidence intervals). As stated above, any modification to the trial, including the original planned analyses, should not be based on data that reveal information on the treatment effect.  \n",
    "    - (a) If a trial had no previous interim analyses and is stopped early, then using the originally planned statistical analysis may be appropriate for the statistical inference. The actual results may be less statistically significant or have a wider confidence interval than the trial was designed for because of reduced information (e.g., fewer endpoint events).   \n",
    "    - (b) If a trial had no previous interim analyses, it may be possible to add a plan for interim analyses.   \n",
    "    - (c) For a trial with a prospectively specified interim analysis plan, it may be possible to stop the trial earlier than planned or to add or modify an interim analysis and still maintain control over Type 1 error.  \n",
    "- (4) A sponsor can consider increasing enrollment after the impact of COVID-19 has passed, as appropriate, over the originally planned enrollment to overcome the loss of information from the impact of COVID-19. Similary, a sponsor can consider extending follow-up to attain more events in an event driven trial. Sponsors should conduct sensitivity analyses examining differences in baseline characteristics and post-baseline events (including endpoints and adverse events) between the originally enrolled participants and the additional participants to understand the impact of the change in recruitment, including changes to recruitment locations and time of recruitment.   \n",
    "- (5) Sponsors should consider how to approach the analysis of data from participants who are missing endpoint ascertainment or the investigational product was interrupted because of COVID-19. \n",
    "    - (a) For a trial with sites closed for a period of time because of COVID-19, the missing endpoint ascertainments during this period may not necessarily be related to the treatment assignment or participant characteristics and outcomes. In this case, removing all participants from closed sites who were scheduled for an endpoint ascertainment from the analysis should not bias the findings. However, to avoid bias when using this approach, it is important to remove all the participants from the closed sites who were scheduled for the ascertainment, regardless of whether they had previously withdrawn-e.g., one should not impute values for those who would have had the endpoint ascertainment impacted by COVID-19 had they remained in the trial. For this approach, the exclusion of participants should not use post-baseline participant information but instead use only information at randomization. For example, all potentially impacted participants may be identified through the site location and randomization dates that are associated with endpoint ascertainment during the closure of the site. If a significant number of participants are affected, this strategy may result in a significant loss of information, and alternative endpoint ascertainment methods and definitions can be considered (see item (6) below) or the enrollment for the trial can potentially be increased (see item (4) above) to maintain statistical power.  \n",
    "    - (b) Similarly, if the closure of a site for a certain period of time greatly impacts trial-specified treatment for participants such that it is unlikely that any treatment effect can be observed, then it may be reasonable to exclude participants who were impacted during that period of time. For example, if recently randomized participants are not able to obtain trial-specified treatment for an extended period of time for an investigational product whose hypothesized effect occurs only after sustained treatment, it may be reasonable to exclude from the analysis all participants potentially impacted. Again, the decision to exclude participants should not use post-baseline participant information (e.g., on-treatment time), but instead use baseline information (e.g., site location and randomization date). Such decisions should not be based on data that reveal treatment information and should be discussed with the FDA review division.  \n",
    "    - (c) Other well-established methods for addressing missing information rely on leveraging available participant information at baseline and post-baseline, including COVID-19-related information (see item (1) above).   \n",
    "- (6) Modifications to the definition and ascertainment of trial endpoints may be warranted to address the impact of COVID-19 on trial integrity and should be discussed with the relevant FDA review division. Some potential modifications include the following:  \n",
    "    - (a) Using alternative ascertainment methods, such as replacing in-person endpoint ascertainment based on performance outcomes or interview-based clinician-reported outcomes with remote ascertainment (see question Q12 in the Appendix of the Conduct Guidance)  \n",
    "    - (b) Extending the protocol-defined window of time for performing the endpoint ascertainment or using an earlier or later planned ascertainment  \n",
    "    - (c) For a composite endpoint, including additional and clinically relevant components or removing components that cannot be ascertained  \n",
    "    - (d) For a binary endpoint that is based on a continuous or ordinal measurement, using the continuous or ordinal measurement as the endpoint   \n",
    "    \n",
    "The impact of any change in endpoint definition or ascertainment, either through a change in methods or a change in timing, should be carefully evaluated in sensitivity analyses. In particular, any differences in the ascertainment between trial arms or among participants with different baseline characteristics should be explored. For example, sensitivity analyses should stratify by the method and timing of the endpoint ascertainment.     \n"
   ]
  }
 ],
 "metadata": {
  "kernelspec": {
   "display_name": "P3_nbenv",
   "language": "python",
   "name": "nbenv"
  },
  "language_info": {
   "codemirror_mode": {
    "name": "ipython",
    "version": 3
   },
   "file_extension": ".py",
   "mimetype": "text/x-python",
   "name": "python",
   "nbconvert_exporter": "python",
   "pygments_lexer": "ipython3",
   "version": "3.9.7"
  }
 },
 "nbformat": 4,
 "nbformat_minor": 5
}
