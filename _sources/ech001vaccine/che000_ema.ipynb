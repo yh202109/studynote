{
 "cells": [
  {
   "cell_type": "markdown",
   "id": "bcd01a05-34c6-45eb-9de7-eb5b6b4243e7",
   "metadata": {},
   "source": [
    "# EMA Scientific Guidelines"
   ]
  },
  {
   "cell_type": "markdown",
   "id": "4a8faa4f-6657-40d0-b347-a189de6cd87f",
   "metadata": {},
   "source": [
    ":::{note}\n",
    "- EMA = European Medicines Agency https://www.ema.europa.eu\n",
    "- CHMP = Committee for Medicinal Products for Human Use\n",
    "- Scientific Guideline https://www.ema.europa.eu/en/human-regulatory/research-development/scientific-guidelines\n",
    "- Search Guideline (1.3k) https://www.ema.europa.eu/en/search/search/ema_editorial_content/ema_document/field_ema_doc_type%253Aname_field/Scientific%20guideline/field_ema_web_categories%253Aname_field/Human/type/ema_document\n",
    "- Categories\n",
    "    - Quality guidelines\n",
    "    - Quality of medicines: questions and answers\n",
    "    - Biological guidelines\n",
    "    - Non-clinical guidelines\n",
    "    - Clinical efficacy and safety guidelines\n",
    "    - International Conference for Harmonisation (ICH) guidelines\n",
    "    - Multidisciplinary guidelines\n",
    ":::"
   ]
  }
 ],
 "metadata": {
  "kernelspec": {
   "display_name": "P3_nbenv",
   "language": "python",
   "name": "nbenv"
  },
  "language_info": {
   "codemirror_mode": {
    "name": "ipython",
    "version": 3
   },
   "file_extension": ".py",
   "mimetype": "text/x-python",
   "name": "python",
   "nbconvert_exporter": "python",
   "pygments_lexer": "ipython3",
   "version": "3.9.12"
  }
 },
 "nbformat": 4,
 "nbformat_minor": 5
}
