{
 "cells": [
  {
   "cell_type": "markdown",
   "id": "12f97491-52ba-4370-b646-747f06e88ae2",
   "metadata": {},
   "source": [
    "# Dev for Treatment or Prevention (2020)"
   ]
  },
  {
   "cell_type": "code",
   "execution_count": 1,
   "id": "2687a171-ebec-4563-89cd-febd83244191",
   "metadata": {
    "tags": [
     "hide-input"
    ]
   },
   "outputs": [
    {
     "data": {
      "text/markdown": [
       "- **title**: COVID-19: Developing Drugs and Biological Products for Treatment or Prevention\n",
       "- **target**: Guidance for Industry\n",
       "- **CDER**: True\n",
       "- **CBER**: True\n",
       "- **url**: https://www.fda.gov/media/137926/download\n",
       "- **year**: 2020\n",
       "- **keyword**: ['covid']"
      ],
      "text/plain": [
       "<IPython.core.display.Markdown object>"
      ]
     },
     "execution_count": 1,
     "metadata": {},
     "output_type": "execute_result"
    }
   ],
   "source": [
    "if(False):\n",
    "    import sys\n",
    "    sys.path.insert(0, '..')\n",
    "    import myutil.pdf2txt\n",
    "    ns='ch002_y2020_dev_trt_prevention'\n",
    "    print(myutil.pdf2txt.fpdf2txt(ns, True, True)) \n",
    "else:\n",
    "    import pandas as pd\n",
    "    from IPython.display import Markdown as md\n",
    "    meta={\n",
    "        'title': 'COVID-19: Developing Drugs and Biological Products for Treatment or Prevention',\n",
    "        'target': 'Guidance for Industry',\n",
    "        'CDER': True,\n",
    "        'CBER': True,\n",
    "        'url': 'https://www.fda.gov/media/137926/download',\n",
    "        'year': 2020,\n",
    "        'keyword': [\n",
    "            'covid'\n",
    "        ]\n",
    "    }\n",
    "\n",
    "md(\"\\n\".join(\"- **{}**: {}\".format(k,v) for k,v in meta.items()))"
   ]
  },
  {
   "cell_type": "markdown",
   "id": "53ecb0a2-637e-4758-8045-0f3244227ce3",
   "metadata": {},
   "source": [
    "## Preface\n",
    "\n",
    "### Public Comment\n",
    "\n",
    "This guidance is being issued to address the Coronavirus Disease 2019 (COVID-19) public health emergency. This guidance is being implemented without prior public comment because the Food and Drug Administration (FDA or the Agency) has determined that prior public participation for this guidance is not feasible or appropriate (see section 701(h)(1)(C) of the Federal Food, Drug, and Cosmetic Act (FD&C Act) and 21 CFR 10.115(g)(2)). This guidance document is being implemented immediately, but it remains subject to comment in accordance with the Agency’s good guidance practices.\n",
    "\n",
    "Comments may be submitted at any time for Agency consideration. Submit written comments to the Dockets Management Staff (HFA-305), Food and Drug Administration, 5630 Fishers Lane, Rm. 1061, Rockville, MD 20852. Submit electronic comments to https://www.regulations.gov. All comments should be identified with the docket number FDA-2020-D-1370 and complete title of the guidance in the request."
   ]
  },
  {
   "cell_type": "markdown",
   "id": "52ffb244-e913-4e4c-8e06-339770d33377",
   "metadata": {},
   "source": [
    "TABLE OF CONTENTS\n",
    "\n",
    "- I. INTRODUCTION \n",
    "- II. BACKGROUND\n",
    "- III. DISCUSSION \n",
    "    - A. Treatment Trials\n",
    "        - 1. Population \n",
    "        - 2. Trial Design and Conduct\n",
    "        - 3. Efficacy Endpoints\n",
    "        - 4. Safety Considerations \n",
    "        - 5. Statistical Considerations \n",
    "    - B. Prevention Trials\n",
    "- APPENDIX A\n",
    "- APPENDIX B\n",
    "- APPENDIX C\n"
   ]
  },
  {
   "cell_type": "markdown",
   "id": "aad59205-f114-4580-b795-a064ff34c7bf",
   "metadata": {},
   "source": [
    ":::{note}\n",
    "This guidance represents the current thinking of the Food and Drug Administration (FDA or Agency) on this topic. It does not establish any rights for any person and is not binding on FDA or the public. You can use an alternative approach if it satisfies the requirements of the applicable statutes and regulations. To discuss an alternative approach, contact the FDA office responsible for this guidance as listed on the title page\n",
    ":::"
   ]
  },
  {
   "cell_type": "markdown",
   "id": "9811f6de-546d-4a3a-8253-bfe3caf0189d",
   "metadata": {},
   "source": [
    "## I. INTRODUCTION\n",
    "\n",
    "FDA plays a critical role in protecting the United States from threats such as emerging infectious diseases, including the Coronavirus Disease 2019 (COVID-19) pandemic. FDA is committed to providing timely guidance to support response efforts to this pandemic.\n",
    "\n",
    "FDA is issuing this guidance to assist sponsors in the clinical development of drugs ^2 for the treatment or prevention of COVID-19. Preventative vaccines ^3 and convalescent plasma ^4 are not within the scope of this guidance.\n",
    "\n",
    "- ^1 This guidance has been prepared by the Office of New Drugs and the Office of Biostatistics in the Center for Drug Evaluation and Research (CDER) and the Center for Biologics Evaluation and Research (CBER) at the Food and Drug Administration.\n",
    "- ^2 For the purposes of this guidance, all references to drugs include both human drugs and biological products unless otherwise specified.\n",
    "- ^3 Clinical trials of preventative vaccines raise different and additional considerations, including those pertaining to subject selection, safety monitoring, and effectiveness evaluation. We encourage developers of preventative vaccines to contact the Office of Vaccines Research and Review in CBER and to see the guidances Emergency Use Authorization for Vaccines to Prevent COVID-19 (February 2021) and Development and Licensure of Vaccines to Prevent COVID-19 (June 2020). We update guidances periodically. To make sure you have the most recent version of a guidance, check the FDA guidance web page at https://www.fda.gov/regulatory-information/search-fdaguidance-documents.\n",
    "- ^4 FDA has issued guidance to provide recommendations to health care providers and investigators on the administration and study of investigational convalescent plasma collected from individuals who have recovered from COVID-19 (COVID-19 convalescent plasma) during the public health emergency, available at https://www.fda.gov/regulatory-information/search-fda-guidance-documents/investigational-covid-19-convalescentplasma\n",
    "\n",
    "This guidance is intended to remain in effect for the duration of the public health emergency related to COVID-19 declared by the Department of Health and Human Services (HHS), including any renewals made by the HHS Secretary in accordance with section 319(a)(2) of the Public Health Service (PHS) Act. However, the recommendations described in the guidance are expected to assist the Agency more broadly in its continued efforts to assist sponsors in the clinical development of drugs for the treatment of COVID-19 beyond the termination of the COVID-19 public health emergency and reflect the Agency’s current thinking on this issue. Therefore, within 60 days following the termination of the public health emergency, FDA intends to revise and replace this guidance with any appropriate changes based on comments received on this guidance and the Agency’s experience with implementation.\n",
    "\n",
    "Given this public health emergency related to COVID-19 declared by HHS, this guidance is being implemented without prior public comment because FDA has determined that prior public participation for this guidance is not feasible or appropriate (see section 701(h)(1)(C) of the Federal Food, Drug, and Cosmetic Act (FD&C Act) and 21 CFR 10.115(g)(2)). This guidance document is being implemented immediately, but it remains subject to comment in accordance with the Agency’s good guidance practices.\n",
    "\n",
    "The contents of this document do not have the force and effect of law and are not meant to bind the public in any way, unless specifically incorporated into a contract. This document is intended only to provide clarity to the public regarding existing requirements under the law. FDA guidance documents, including this guidance, should be viewed only as recommendations, unless specific regulatory or statutory requirements are cited. The use of the word should in FDA guidance means that something is suggested or recommended, but not required.\n"
   ]
  },
  {
   "cell_type": "markdown",
   "id": "5cc6d711-3295-4ef8-b492-16a81c2a8c72",
   "metadata": {},
   "source": [
    "\n",
    "## II. BACKGROUND\n",
    "\n",
    "There is currently an outbreak of respiratory disease caused by a novel coronavirus. The virus has been named SARS-CoV-2 and the disease it causes has been named Coronavirus Disease 2019 (COVID-19). On January 31, 2020, HHS issued a declaration of a public health emergency related to COVID-19, effective January 27, 2020, and mobilized the Operating Divisions of HHS. ^5 In addition, on March 13, 2020, there was a Presidential declaration of a national emergency in response to COVID-19. ^6 COVID-19 can range from mild to severe disease, the latter including pneumonia, severe acute respiratory syndrome, multi-organ failure, and death. Additionally, SARS-CoV-2 virus can cause asymptomatic infection. The incubation period for SARS-CoV-2 is thought to extend up to 14 days, with a median time of 4 to 5 days from exposure to symptom onset. ^7 Clinical management includes therapeutic agents and supportive care, such as supplemental oxygen, mechanical ventilation, and extracorporeal membrane oxygenation (ECMO).\n",
    "\n",
    "- ^5 Secretary of Health and Human Services, Determination that a Public Health Emergency Exists. (originally issued Jan. 31, 2020, and subsequently renewed), available at https://www.phe.gov/emergency/news/healthactions/phe/Pages/default.aspx.\n",
    "- ^6 Proclamation on Declaring a National Emergency Concerning the Novel Coronavirus Disease (COVID-19) Outbreak (March 13, 2020), available at https://trumpwhitehouse.archives.gov/presidential-actions/proclamationdeclaring-national-emergency-concerning-novel-coronavirus-disease-covid-19-outbreak/.\n",
    "- ^7 See the Centers for Disease Control and Prevention Interim Clinical Guidance for Management of Patients with Confirmed Coronavirus Disease (COVID-19), available at https://www.cdc.gov/coronavirus/2019-ncov/hcp/clinicalguidance-management-patients.html.\n",
    "\n",
    "\n",
    "This guidance describes FDA’s current recommendations regarding phase 2 and phase 3 trials for drugs under development to treat or prevent COVID-19. These recommendations focus on the population, trial design, efficacy endpoints, safety considerations, and statistical considerations for such clinical trials. The guidance addresses considerations for the treatment or prevention of acute COVID-19. It does not address drug development programs targeting the treatment of persistent or late symptoms after recovery from acute illness. ^8\n",
    "\n",
    "- ^8 See Clinical Spectrum of SARS-CoV-2 Infection, available at https://www.covid19treatmentguidelines.nih.gov/overview/clinical-presentation/.\n",
    "\n",
    "\n",
    "This guidance does not provide general recommendations on early drug development ^9 in COVID-19, such as use of **animal models**. Drugs should have undergone sufficient development before their evaluation in phase 2 or phase 3. For some **biological products** (e.g., cellular and gene therapies and blood products) there may be additional considerations, and FDA encourages sponsors to reach out to the applicable review division as appropriate. This guidance also does not address master protocols for the development of drugs for COVID19. FDA acknowledges the potential for master protocols to increase the efficiency of drug development, which is of particular importance in the setting of a public health emergency such as the COVID-19 pandemic. Sponsors of master protocols for COVID-19 drugs should contact the FDA early in their planning. Sponsors engaged in developing drugs for the treatment or prevention of COVID-19 should also refer to FDA’s COVID-19 web page for additional guidance documents. ^10\n",
    "\n",
    "- ^9 For additional guidance on nonclinical data recommended to support initiation of an investigational new drug application (IND), see the guidance for industry and investigators COVID-19 Public Health Emergency: General Considerations for Pre-IND Meeting Requests for COVID-19 Related Drugs and Biological Products (May 2020), the ICH guidance for industry M3(R2) Nonclinical Safety Studies for the Conduct of Human Clinical Trials and Marketing Authorization for Pharmaceuticals (January 2010), and the ICH guidance for industry S6(R1) Preclinical Safety Evaluation of Biotechnology-Derived Pharmaceuticals (May 2012).\n",
    "- ^10 See COVID-19 guidance documents, available at https://www.fda.gov/emergency-preparedness-andresponse/coronavirus-disease-2019-covid-19/covid-19-related-guidance-documents-industry-fda-staff-and-otherstakeholders."
   ]
  },
  {
   "cell_type": "markdown",
   "id": "c18fdce0-27f4-445f-9ce9-b3a4b12fc870",
   "metadata": {},
   "source": [
    "## III. DISCUSSION\n",
    "\n",
    "### A. Treatment Trials\n",
    "\n",
    "#### 1. Population\n",
    "\n",
    "Sponsors of drugs to treat COVID-19 should consider the following:\n",
    "\n",
    "- A range of populations is appropriate for evaluation and may include outpatients, inpatients, or inpatients on mechanical ventilation.\n",
    "- For treatment trials, sponsors should document diagnosis of laboratory-confirmed SARSCoV-2, the virus that causes COVID-19.\n",
    "- For treatment trials, FDA recommends that sponsors categorize the baseline severity of COVID-19 in the enrolled population. The criteria used to describe baseline disease severity should incorporate objective measures. Examples of disease severity criteria are provided in Appendix A.\n",
    "- Clinical trials should include groups of persons at high risk of complications, such as the elderly, persons with cancer, chronic kidney disease, chronic obstructive pulmonary disease, Down syndrome, cardiovascular disease, immunocompromised state resulting from solid organ transplant, obesity, sickle cell disease, a smoking history, and type 2 diabetes mellitus. Additionally, persons with conditions that might increase the risk of complications should also be considered for enrollment. For a current a list of conditions posing increased risk for COVID-19 complications, see the referenced Centers for Disease Control and Prevention websites. ^11\n",
    "    - ^11 See the Centers for Disease Control and Prevention Interim Clinical Guidance for Management of Patients with Confirmed Coronavirus Disease (COVID-19), available at https://www.cdc.gov/coronavirus/2019-ncov/hcp/clinicalguidance-management-patients.html, and People with Certain Medical Conditions, available at\n",
    "https://www.cdc.gov/coronavirus/2019-ncov/need-extra-precautions/people-with-medical-conditions.html.\n",
    "- COVID-19 disproportionately affects adults, including older individuals. Older adults, including individuals 75 years of age and older, should be appropriately represented in clinical trials. ^12 Sponsors should consider conducting trials in nursing homes or other eldercare facilities.\n",
    "    - ^12 See the guidance for industry Enhancing the Diversity of Clinical Trial Populations – Eligibility Criteria, Enrollment Practices, and Trial Designs (November 2020).\n",
    "- COVID-19 disproportionately affects racial and ethnic minorities, who should be represented in clinical trials. Sponsors should ensure that clinical trial sites include geographic locations with a higher concentration of racial and ethnic minorities to recruit a diverse study population. ^13\n",
    "    - ^13 Ibid"
   ]
  },
  {
   "cell_type": "markdown",
   "id": "ba36f7c3-856d-4153-90ef-a5efa3084fe6",
   "metadata": {},
   "source": [
    "- Patients with renal or hepatic impairment should be enrolled in clinical trials, provided the pharmacokinetics of the drug in these patients are adequately understood and appropriate dosing regimens have been identified.\n",
    "- The principles outlined in this document can be used to guide drug development for children and for pregnant and lactating individuals. There is a need to generate clinical trial data to inform the use of drugs in these populations.\n",
    "    - Because COVID-19 during pregnancy may increase the risk of severe symptoms and preterm birth, pregnant individuals should be enrolled in the phase 3 (efficacy) clinical trials when appropriate. ^14\n",
    "        - ^14 FDA has proposed relevant recommendations in the draft guidance to industry Pregnant Women: Scientific and Ethical Considerations for Inclusion in Clinical Trials (April 2018). When final, this guidance will represent the FDA’s current thinking on this topic. For the most recent version of a guidance, check the FDA guidance web page at https://www.fda.gov/regulatory-information/search-fda-guidance-documents.\n",
    "    - FDA encourages enrolling lactating individuals in phase 3 (efficacy) clinical trials.\n",
    "    - Children should not be categorically excluded from clinical trials of investigational COVID-19 products in which there is a prospect for direct benefit. ^15\n",
    "        - ^15 See 21 CFR part 50, subpart D.\n",
    "        - Sponsors are encouraged to discuss pediatric drug development with FDA early in the course of clinical development, including the potential for extrapolation of efficacy data from studies in adults, appropriate pharmacokinetic trials in pediatric subjects to support dose selection, and the recommended size of the preapproval safety database in children. In addition, disease severity classification should reflect age-appropriate norms, as applicable. Decisions on the timing of initiating pediatric studies depend on several factors, including but not limited to the amount of available clinical and/or nonclinical safety data for the drug. For example, if dosing recommendations for a drug are the same for adults and adolescents ^16 and there is sufficient prospect of benefit to justify the risks, then adolescents should be included in the initial phase 3 clinical trials.\n",
    "            - ^16 For the purposes of this guidance, adolescents are defined as age 12 to younger than 18 years of age.\n",
    "        - Sponsors are encouraged to submit an initial pediatric study plan as soon as practicable. ^17\n",
    "            - ^17 See 505B(e) of the FD&C Act. Additionally, FDA has proposed relevant recommendations in the guidance for industry Pediatric Study Plans: Content of and Process for Submitting Initial Pediatric Study Plans and Amended Initial Pediatric Study Plans (July 2020).\n",
    "        - Under the Pediatric Research Equity Act, all applications for new active ingredients (which includes new salts and new fixed combinations), new indications, new dosage forms, new dosing regimens, or new routes of administration, are required to contain an assessment of the safety and effectiveness of the product for the claimed indication or indications in pediatric populations unless this requirement is waived, deferred, or inapplicable. ^18 FDA intends to work with sponsors to reach agreement on the initial pediatric study plan and any pediatric trial protocols as quickly as possible to avoid any unnecessary delays in the initiation of trials or submission of any marketing application.\n",
    "            - ^18 See 21 U.S.C 355c.\n",
    "\n"
   ]
  },
  {
   "cell_type": "markdown",
   "id": "56886f58-8775-4741-a7bb-203c65fa19c9",
   "metadata": {},
   "source": [
    "#### 2. Trial Design and Conduct\n",
    "\n",
    "Sponsors of drugs to treat COVID-19 should consider the following:\n",
    "\n",
    "- FDA strongly recommends that drugs to treat COVID-19 be evaluated in randomized, placebo-controlled, double-blind clinical trials using a superiority design. In some situations, use of an active control with a superiority or noninferiority design ^19 may be appropriate. ^20\n",
    "    - ^19 The noninferiority margin must be sufficiently supported to conduct a noninferiority trial and the justification should be discussed with FDA. See the guidance for industry Non-Inferiority Clinical Trials to Establish Effectiveness (November 2016).\n",
    "    - ^20 FDA has proposed relevant recommendations in the draft guidance for industry Demonstrating Substantial Evidence of Effectiveness for Human Drug and Biological Products (December 2019). When final, this guidance will represent the FDA’s current thinking on this topic.\n",
    "    - Background standard of care should be maintained in all treatment arms.\n",
    "    - The standard of care is expected to change as additional information, such as from randomized controlled trials, emerges. Where treatments become standard of care for specific COVID-19 populations (e.g., severely ill hospitalized patients), trials in these populations should generally be designed as placebo-controlled superiority studies with an add-on design (i.e., the investigational agent or placebo added on to the standard of care agent). For agents with a similar mechanism of action as the standard of care (e.g., direct antiviral agent as the investigational agent when the new standard of care is also a direct antiviral agent), an active-comparator controlled study design may be considered if there is sufficient preclinical and initial clinical evidence of activity of the investigational agent. Sponsors should plan early discussion with the appropriate clinical division.\n",
    "- Sponsors should address the possibility of drug and COVID-19 vaccine interactions for drugs that may interfere with vaccine effectiveness (i.e., monoclonal antibodies targeting the vaccine antigen). Sponsors should consult with the Agency early in the development program for such drugs.\n",
    "- SARS-CoV-2 is evolving as it spreads through the human population, and emergent SARS-CoV-2 genetic changes may impact the effectiveness of antiviral drugs. In addition, using an antiviral drug to treat COVID-19 may contribute to the emergence of viruses with reduced susceptibility to the drug or to other approved or investigational drugs. Sponsors should characterize drug resistance pathways and the potential for crossresistance to other drugs using both nonclinical and clinical studies. Details regarding drug resistance analysis are provided in Appendix B. Sponsors should also refer to the guidance for industry Development of Monoclonal Antibody Products Targeting SARSCoV-2, Including Addressing the Impact of Emerging Variants, During the COVID-19 Public Health Emergency (February 2021) and the guidance for industry Antiviral Product Development—Conducting and Submitting Virology Studies to the Agency (June 2006).\n",
    "- Clinical trial protocols should include plans to characterize the impact of drugs on viral shedding and immune responses as described in Appendix C.\n",
    "- Given infection control concerns associated with COVID-19, sponsors should consider remote collection of data when possible and limit in-person data collection to important assessments that cannot be obtained without face-to-face interaction. FDA recognizes the important role of decentralized clinical trials (DCTs) in COVID-19 drug development, as they provide options for data collection particularly suited to the pandemic setting.\n",
    "    - DCTs may involve different levels of decentralization. In trials that are fully decentralized, all activities take place at locations remote from investigators (e.g., patients’ homes). ^21 In partially decentralized trials, some activities involve in-person visits at the investigator’s traditional trial site while other visits are conducted elsewhere.\n",
    "        - ^21 See the guidance for industry, investigators, and institutional review boards Conduct of Clinical Trials of Medical Products During the COVID-19 Health Emergency (March 2020).\n",
    "    - Sponsors should consider several factors when determining if conducting a DCT is appropriate, selecting the location of a trial visit, and/or selecting personnel performing an assessment. These factors include the following:\n",
    "        - The severity of COVID-19\n",
    "        - The nature of the investigational product (e.g., ease of administration, safety profile, stability profile, storage conditions)\n",
    "        - The type of trial procedure or assessment (e.g., administration of investigational product, clinical laboratory assessment, clinical outcome assessment, or adverse event assessment/follow-up).\n",
    "    - Sponsors considering a DCT should plan early discussions with the appropriate review division, as a DCT may introduce additional complexities related to feasibility, design, implementation, and analysis of the data.\n"
   ]
  },
  {
   "cell_type": "markdown",
   "id": "d79d7377-228f-4633-a357-e102b6d3f1f7",
   "metadata": {},
   "source": [
    "- Given the expected fluctuation in the frequency of SARS-CoV-2 infection across regions, sponsors should address the need to open new sites and potentially suspend existing sites.\n",
    "- The trial should be of sufficient duration to reliably evaluate safety and effectiveness. The duration should be adequate to capture the efficacy outcomes relevant for the population under study. Additionally, longer follow-up for safety may be warranted.\n",
    "- When there is compelling preclinical or preliminary clinical evidence, it may be appropriate to move directly to conduct a trial of sufficient size and appropriate design to contribute to substantial evidence of effectiveness and adequate characterization of safety. Sponsors should discuss their intended approach early with the appropriate review division.\n",
    "- In instances of limited information supporting the potential for efficacy, ^22 approaches where an initial assessment of potential benefit can be made before enrolling a large number of subjects are appropriate. These approaches may include the following:\n",
    "    - ^22 See the guidance for industry and investigators COVID-19 Public Health Emergency: General Considerations for Pre-IND Meeting Requests for COVID-19 Related Drugs and Biological Products, which describes the information and data recommended to support FDA’s review for the initiation of clinical trials during the COVID-19 public health emergency.\n",
    "    - Conducting an initial small, controlled trial to assess for drug activity (proof-ofconcept) that suggests the potential for clinical benefit.\n",
    "    - Conducting a phase 2 or phase 3 trial that incorporates prospectively planned criteria to stop the trial for futility (i.e., with the prospect of expanding from a proof-ofconcept phase to a larger confirmatory trial). Such a trial might also incorporate additional prospectively planned adaptations (- - FDA encourages sponsors to use an independent, external data monitoring committee (DMC) to ensure subject safety and trial integrity.\n",
    "    - Sponsors should submit the DMC charter to FDA before enrolling patients.\n",
    "    - Sponsors should ensure there will be appropriate DMC monitoring to safeguard the welfare of subjects, accounting for important factors such as the expected enrollment rate, the expected lag time to analyze interim data for DMC meetings, and the frequency of DMC meetings.^23\n",
    "        - ^23 See the guidance for industry Establishment and Operation of Clinical Trial Data Monitoring Committees (March 2006). FDA has also proposed relevant recommendations in the draft guidance for industry Safety Assessment for IND Safety Reporting (December 2015). When final, this guidance will represent the FDA’s current thinking on this stopic.\n",
    "    - If enrollment is anticipated to be rapid, but additional safety data are needed before dosing a large number of subjects, an enrollment pause should be built into the trial. In this case, enrollment would be temporarily halted, and the DMC would assess the data and then recommend that the trial or dosing group either terminate or resume enrollment.\n"
   ]
  },
  {
   "cell_type": "markdown",
   "id": "f38b0784-4eac-4645-972d-2fd0dd92834f",
   "metadata": {},
   "source": [
    "- FDA encourages sponsors to incorporate prospectively planned criteria to stop the trial for futility (lack of efficacy) or harm in any confirmatory trial. The stopping criteria should aim to ensure a high probability of halting the trial if the drug is harmful (e.g., associated with a higher risk of death), a reasonable probability of halting the trial if the drug is ineffective, and a high probability of continuing the trial if the drug is effective. If accrual in such a trial is expected to be rapid, an enrollment pause may be considered to support stopping for futility.\n",
    "- If a trial incorporates any adaptations to the sample size, dosing arms, or other design features, sponsors should prospectively plan the design in a manner to ensure control of the type I error rate and reliable treatment effect estimation. ^24 An independent and external committee, such as a DMC, should be tasked with providing any recommendations for early termination or design adaptations based on unblinded interim data.\n",
    "    - ^24 See the guidance for industry Adaptive Designs for Clinical Trials of Drugs and Biologics (November 2019). \n",
    "- FDA strongly discourages disseminating data from ongoing trials. Knowledge of accumulating data by trial investigators and patients can adversely affect patient accrual, sadherence, and retention, as well as endpoint assessment, compromising the ability of the strial to reliably achieve its objective in a timely manner. ^25 Issues with trial conduct caused by knowledge of interim results are difficult to predict and generally impossible to adjust for in statistical analyses. Therefore, releasing interim results could have ramifications on the integrity of the ongoing trial and the ability to collect reliable and interpretable data needed to support regulatory decision-making. If sponsors intend to conduct interim analyses, FDA recommends they consult the guidance for industry Adaptive Designs for Clinical Trials of Drugs and Biologics, prospectively plan these analyses, and incorporate processes to maintain the integrity of the trial (e.g., using an independent DMC). FDA recognizes there may be exceptional circumstances in which a sponsor determines it needs to disseminate results for safety or other reasons. In such situations, the sponsor is strongly encouraged to discuss with FDA before releasing such results.\n",
    "    - ^25 Ibid.\n",
    "- Applicable clinical trials need to be registered at www.ClinicalTrials.gov as required by 42 CFR part 11. FDA encourages responsible parties to promptly update www.clinicaltrial.gov with the results of completed trials given their public health importance.\n",
    "- FDA anticipates events that occur outside of an ongoing trial may provide important new information relevant to the ongoing trial (e.g., changes to the standard of care, safety concerns from other trials) and may motivate revisions to the trial design. Scientifically justified changes based on information external to the trial can be acceptable and sponsors are encouraged to discuss these changes with FDA.\n",
    "- The trial should aim to minimize missing data. The protocol should distinguish between discontinuation from the study drug and withdrawal from study assessments. Trial subjects may choose to discontinue treatment during the trial for various reasons, such as experiencing adverse events or perceived lack of efficacy. Unless the subject withdraws consent, ^26 sponsors should encourage subjects who discontinue therapy to remain in the study and to continue follow-up for key safety and efficacy assessments. Virtual followup is acceptable if appropriate, and the aim should be to record vital status for all subjects.\n",
    "    - ^26 Withdrawal of consent refers to a subject’s voluntary termination of participation in the clinical trial during the course of the trial. The reason for withdrawal of consent should be captured in a case report form. "
   ]
  },
  {
   "cell_type": "markdown",
   "id": "486ca289-bd66-457f-a9f2-ec75a1c4e126",
   "metadata": {},
   "source": [
    "\n",
    "#### 3. Efficacy Endpoints\n",
    "\n",
    "Sponsors of drugs to treat COVID-19 should consider the following:\n",
    "\n",
    "- The drug development program should evaluate the effect of the investigational drug relative to placebo or an active comparator on clinically meaningful aspects of the disease. The relevance and appropriateness of measures may depend on the mechanism of action of the drug, the population studied, the clinical setting, the phase of drug development, and/or baseline disease severity (see Appendix A).\n",
    "- Examples of important clinical outcome measures in treatment trials include the following:\n",
    "    - All-cause mortality\n",
    "    - Respiratory failure (i.e., need for mechanical ventilation, ECMO, noninvasive positive pressure ventilation, or high-flow nasal cannula oxygen delivery)\n",
    "    - Need for invasive mechanical ventilation\n",
    "    - Thromboembolism (i.e., symptomatic deep-vein thrombosis, pulmonary embolism, other venous thromboembolism, ischemic stroke, myocardial infarction, other arterial thromboembolism)\n",
    "    - Need for intensive care unit level care\n",
    "    - Need for hospitalization\n",
    "    - Objective measures of sustained improvement (e.g., return to room air or baseline oxygen requirement)\n",
    "    - Sustained clinical recovery\n",
    "- The choice, time frame, and interpretation of endpoints may differ depending on the population evaluated in the trial. For example,\n",
    "    - In a trial in **severe and/or critically ill** patients, examples of appropriate endpoints could be\n",
    "        - **All-cause mortality** at an appropriate time point (e.g., at least 28 days for hospitalized noncritically ill patients, ^27 60 days for critically ill patients ^28)\n",
    "            - ^27 See Interim Clinical Guidance for Management of Patients with Confirmed Coronavirus Disease (COVID-19), available at https://www.cdc.gov/coronavirus/2019-ncov/hcp/clinical-guidance-management-patients.html.\n",
    "            - ^28 C Karagiannidis, C Mostert, C Hentschker, T Voshaar, J Malzahn, G Schillinger, J Klauber, U Janssens, G Marx, S Weber-Carstens, S Kluge, M Pfeifer, L Grabenhenrich, T Welte, and R Busse, 2020, Case Characteristics, Resource Use, and Outcomes of 10021 Patients with COVID-19 Admitted to 920 German Hospitals: an Observational Study, Lancet Respir Med, 8(9):853–862.\n",
    "        - **Proportion of patients alive and free of respiratory failure** at an appropriate time point (e.g., at least 28 days for hospitalized noncritically ill patients, 60 days for critically ill patients)\n",
    "        - Clinical status using an **ordinal scale that incorporates multiple clinical outcomes of interest** (e.g., death, mechanical ventilation) ordered by their clinical importance at an appropriate time point (e.g., at least 28 days for hospitalized noncritically ill patients, 60 days for critically ill patients) ^29\n",
    "            - ^29 Ordinal data should be collected daily to inform analyses.\n",
    "        - **First occurrence of any component of a composite endpoint** of symptomatic deepvein thrombosis, pulmonary embolism, other venous thromboembolism, ischemic stroke, myocardial infarction, other arterial thromboembolism, and **all-cause mortality** by an appropriate time point\n",
    "        - **Time to sustained recovery** assessed over an appropriate duration\n",
    "    - In an **outpatient treatment** trial, examples of appropriate endpoints could be\n",
    "        - Proportion of patients **hospitalized** by an appropriate time point (e.g., at least 28 days).\n",
    "        - **Time to sustained clinical recovery** assessed over an appropriate duration. Sustained clinical recovery can be defined as occurring when no key COVID-19-related symptom scored higher than a prespecified threshold over a clinically meaningful time period (as documented using a patient-reported outcome instrument). ^30\n",
    "            - ^30 See the guidance for industry **Assessing COVID-19-Related Symptoms in Outpatient** Adult and Adolescent Subjects in Clinical Trials of Drugs and Biological Products for COVID-19 Prevention or Treatment (September 2020) for additional information on using patient-reported outcome measures to define clinical recovery\n",
    "- For primary endpoints other than all-cause mortality, a treatment effect could be driven by nonmortality components (e.g., hospitalization) despite increased mortality while on the investigational drug. Therefore, analyses of all-cause mortality will be important regardless of the selected primary endpoint. Additionally, powering the trial based on other endpoints, such as time to sustained recovery, may result in less precision in the assessment of all-cause mortality attributable to a smaller patient sample size. Depending on the population and mechanism of action of the investigational drug(s), additional consideration may be needed to determine if the sample size is sufficient to provide an adequate assessment of mortality risk.\n",
    "- In their endpoint definition, sponsors should address the occurrence of relapses to ensure adequate assessment of the durability of response.\n",
    "- In phase 2 treatment trials, a virologic measure may be acceptable as a primary endpoint to support progression to a phase 3 clinical endpoint trial. However, virologic endpoints are not appropriate as primary endpoints in a phase 3 trial because there is no established predictive relationship between magnitude and timing of viral load reductions and the extent of clinical benefit of how a patient feels, functions, or survives. Additionally, the optimal sample size, timing, methods for collection procedures, and assays for clinically relevant virologic measurements have not been established. In phase 3 treatment trials, virologic endpoints may be assessed as secondary endpoints. Collection of virologic data and evaluation of antiviral resistance are important components of drug development for COVID-19 (see Appendix B).\n",
    "- For endpoints defined by events through or at a prespecified time point, the time point should be defined as number of days after randomization. The time window should be sufficiently long to ensure capture of important events related to patient status, treatment, and COVID-19 progression.\n",
    "\n",
    "#### 4. Safety Considerations\n",
    "\n",
    "Sponsors of drugs to treat COVID-19 should consider the following:\n",
    "\n",
    "- It is important to include a broad population of subjects in adequate and well-controlled clinical trials to generate a safety database that will best inform the safe use of the drug.\n",
    "- The size and composition of the **safety database** needed to support an indication for COVID-19 depends on factors such as the proposed population, the treatment effect, the drug’s toxicity, and the extent of the prior clinical experience with the drug (and possibly with related drugs). For example:\n",
    "    - For drugs with a well-characterized safety profile with low toxicity, a more streamlined approach to data collection may be appropriate (e.g., limiting adverse event collection to serious adverse events, adverse events leading to discontinuation, and grade 3 and grade 4 adverse events). ^31 Conversely, for drugs that are less well characterized or repurposed agents known to be highly toxic (e.g., some oncologic drugs), a more detailed collection of safety data would be warranted.\n",
    "        - ^31 See the guidance for industry **Determining the Extent of Safety Data** Collection Needed in Late-Stage Premarket and Postapproval Clinical Investigations (February 2016).\n",
    "    - Sponsors should collect adverse events irrespective of a known association with COVID-19 (e.g., venous thromboembolism) or with the investigational drug. Given difficulties in ascertaining causality relating to the investigational drug versus the underlying condition, collection of these data allows for a comparison between treatment arms to ensure the severity and frequency of these adverse events are not worsened by use of the drug.\n",
    "- Sponsors may provide a standardized **toxicity grading scale**. For clinical trials in patients with severe COVID-19 or patients with serious comorbidities, examples of toxicity grading scales include those published by the National Institutes of Health’s Division of AIDS ^32 and the National Cancer Institute.^33 For trials evaluating mild-to-moderate COVID-19, an example grade scale can be found in the guidance for industry Toxicity Grading Scale for Healthy Adult and Adolescent Volunteers Enrolled in Preventive Vaccine Clinical Trials (September 2007).\n",
    "    - ^32 See the National Institutes of Health’s Division of AIDS Adverse Event Grading Tables, available at https://rsc.niaid.nih.gov/clinical-research-sites/daids-adverse-event-grading-tables.\n",
    "    - ^33 See the National Cancer Institute’s Common Terminology Criteria for Adverse Events, available at https://ctep.cancer.gov/protocolDevelopment/electronic_applications/ctc.htm.\n",
    "- Sponsors should address the potential for drug-drug interactions that could increase the risk for toxicities (caused by increased exposures of the investigational drug or the drug that it interacts with) and propose mitigation strategies.\n",
    "- Safety assessments (e.g., vital signs, laboratory studies, electrocardiograms) should be performed on a schedule commensurate with severity of illness and the identified potential risk of the study drug.\n",
    "- Sponsors may consider using **real-world data to supplement safety monitoring efforts** during the trial. For example, automated analysis of **laboratory data collected during clinical care and linked to trial participants** may be used to prompt investigators to the possibility of an adverse event (e.g., elevated liver function testing could flag for possible drug-induced liver injury).\n",
    "- Sponsors should conduct safety reporting as outlined in FDA regulations ^34 and relevant guidance.^35\n",
    "    - ^34 See 21 CFR 312.32.\n",
    "    - ^35 See the guidance for industry Safety Reporting Requirements for INDs and BA/BE Studies (December 2012). In addition, FDA has proposed relevant recommendations in the draft guidance for industry Safety Assessment for IND Safety Reporting. When final, this guidance will represent the FDA’s current thinking on this topic.\n"
   ]
  },
  {
   "cell_type": "markdown",
   "id": "b2bb4bc0-a229-41e7-8fe9-3425dac1a7cf",
   "metadata": {},
   "source": [
    "####  5. Statistical Considerations\n",
    "\n",
    "Sponsors of drugs to treat COVID-19 should consider the following:\n",
    "\n",
    "- The primary efficacy analysis should be prespecified in the protocol.\n",
    "- Sponsors should justify their assumptions in sample size calculations. The sample size should be large enough to provide a reliable answer to the safety and efficacy questions the trial is meant to address.\n",
    "- Sponsors are encouraged to consider the estimands ^36 of interest and to adequately define those estimands in both the protocol and the statistical analysis plan.\n",
    "    - ^36 See the International Council for Harmonisation harmonized guideline E9(R1) Addendum on Estimands and Sensitivity Analysis in Clinical Trials to the guideline on Statistical Principles for Clinical Trials, available at\n",
    "https://database.ich.org/sites/default/files/E9-R1_Step4_Guideline_2019_1203.pdf.\n",
    "    - The primary efficacy analysis should be conducted in all randomized subjects.\n",
    "    - For key efficacy endpoints in treatment trials, FDA generally recommends the following approaches for handling intercurrent events ^37 .For any alternative strategies, sponsors should justify that the estimand addresses a meaningful clinical question of interest and can be estimated with plausible assumptions.\n",
    "        - ^37 Intercurrent events are events occurring after treatment initiation that affect either the interpretation or the existence of the measurements associated with the clinical question of interest. See ICH E9(R1).\n",
    "        - Sponsors should use a composite variable strategy ^38 to handle death, with death taking a sufficiently unfavorable value. Death should not be considered a form of missing data.\n",
    "            - ^38 Ibid. \n",
    "        - Sponsors should also use the composite variable strategy for handling hospitalization in the outpatient population.\n",
    "        - Sponsors should use a treatment policy strategy ^39 for other intercurrent events. \n",
    "            - ^39 Ibid.\n",
    "            \n"
   ]
  },
  {
   "cell_type": "markdown",
   "id": "026aef4f-31ad-41c1-90e0-6da1e9800e14",
   "metadata": {},
   "source": [
    "- Examples of analytic approaches for the primary efficacy analysis include the following:\n",
    "\n",
    "    - Binary outcome analysis: each person is classified as having a successful or an unsuccessful outcome, with a difference in proportions used to compare treatment arms.\n",
    "    - Ordinal outcome analysis: options include a proportional odds approach, a rank-based approach, and an approach to compare means with a score or weight assigned to each category. Any of these approaches should be supplemented by analyses communicating how treatment impacts different categories of the scale. In addition to formal statistical analyses, sponsors may describe the distribution of outcomes on the ordinal scale via plots in supplemental analyses (e.g., stacked bar plots representing the proportion of subjects in each category, by treatment arm, over time).\n",
    "    - Time-to-event analysis: use of a proportional hazards model or log-rank test should be supplemented by a display of Kaplan-Meier curves in each treatment group.\n",
    "- To improve the precision of treatment effect estimation and inference, sponsors should consider adjusting for prespecified prognostic baseline covariates (e.g., age, baseline severity, comorbidities, baseline medications and COVID-19 vaccination status) in the sprimary efficacy analysis and should propose methods of covariate adjustment. For example, for a binary endpoint, methods can be used to gain precision in the evaluation of the difference in proportions. ^40\n",
    "    - ^40 M Ge, LK Durham, RD Meyer, W Xie, and N Thomas, 2011, Covariate-Adjusted Difference in Proportions from Clinical Trials Using Logistic Regression and Weighted Risk Differences, Drug Inf J, 45:481–493.\n",
    "- Restricting analyses to a subset of patients defined by a post-randomization variable (e.g., intensive care unit admission, ventilator use) can lead to results that are difficult to interpret. The analysis set or sets to be used in the statistical analyses for any key efficacy endpoint should be defined according to measurements and characteristics that can be observed at baseline.\n",
    "- If a treatment trial enrolls a mixture of patients with different baseline severity levels, sponsors should conduct subgroup or interaction analyses by baseline severity to assess for differential treatment effects.\n",
    "- Sponsors should submit a statistical analysis plan for review before any unblinding of data. In addition to the statistical methods provided in the protocol, the statistical analysis plan for a trial should contain detailed information on each primary and secondary endpoint; the main, supplemental, and sensitivity analysis methods of key efficacy endpoints; the multiple testing procedure for controlling the overall type I error rate, if applicable; and methods for handling missing data. If applicable, sponsors should prespecify the interim analysis procedures (e.g., statistical methods, boundaries) and should provide in a DMC charter detailed procedures and discussions of methods to maintain trial integrity (e.g., unblinded personnel, firewalls).\n",
    "\n"
   ]
  },
  {
   "cell_type": "markdown",
   "id": "e754e9c6-1d00-49e1-8694-98236985a75d",
   "metadata": {},
   "source": [
    "### B. Prevention Trials\n",
    "\n",
    "- The availability of vaccines to prevent COVID-19 has implications for the design and conduct of trials evaluating drugs for the prevention of COVID-19. FDA recommends that sponsors contact the Agency early on in the planning of such trials.\n",
    "- In prevention trials, the primary endpoint should be **the occurrence of laboratory confirmed SARS-CoV-2 infection (with or without symptoms)** or **SARS-CoV-2 infection with symptoms (i.e., COVID-19)** through a prespecified time point.\n",
    "    - Sponsors are encouraged to **evaluate both** laboratory-confirmed SARS-CoV-2 infection (with or without symptoms) and SARS-CoV-2 infection with symptoms (i.e., COVID-19) when possible.\n",
    "    - Ascertaining whether COVID-19 is milder in persons receiving drugs for the prevention of COVID-19 compared with persons not receiving such therapies is of interest. Sponsors should collect clinical outcome data (e.g., hospitalization) and data on symptoms to support such analyses.\n",
    "- Sponsors should also conduct SARS-CoV-2 **antibody testing at baseline** and at later time points to detect **serologic evidence of infection in prevention trials**, which may identify cases of asymptomatic infection or infections that were otherwise **undetected by virologic testing**.\n",
    "- For pre- or post-exposure prevention trials, protocols should include clear plans and testing algorithms for detecting SARS-CoV-2 infection. Protocols should indicate the specific viral assay(s) to be used and should describe assay performance characteristics, including any known or predicted impact of emerging SARS-CoV-2 variants on assay performance\n"
   ]
  },
  {
   "cell_type": "markdown",
   "id": "09cc94d3-f1e5-4ae6-b02d-173fbc9cef60",
   "metadata": {},
   "source": [
    "## APPENDIX A\n",
    "\n",
    "### EXAMPLES OF BASELINE SEVERITY CATEGORIZATION\n",
    "\n",
    "**SARS-CoV-2 infection without symptoms**\n",
    "\n",
    "- Positive testing by virologic test (i.e., a nucleic acid amplification test of an antigen test)\n",
    "- No symptoms\n",
    "\n",
    "**Mild COVID-19**\n",
    "\n",
    "- Positive testing by virologic test (i.e., a nucleic acid amplification test of an antigen test)\n",
    "- Symptoms of mild illness with COVID-19 that could include fever, cough, sore throat, malaise, headache, muscle pain, nausea, vomiting, diarrhea, and loss of taste or smell, without shortness of breath or dyspnea\n",
    "- No clinical signs indicative of Moderate, Severe, or Critical Severity\n",
    "\n",
    "**Moderate COVID-19**\n",
    "\n",
    "- Positive testing by virologic test (i.e., a nucleic acid amplification test of an antigen test)\n",
    "- Symptoms of moderate illness with COVID-19, which could include any symptom of mild illness or shortness of breath with exertion\n",
    "- Clinical signs suggestive of moderate illness with COVID-19, such as respiratory rate ≥ 20 breaths per minute, heart rate ≥ 90 beats per minute; with saturation of oxygen (SpO2) > 93% on room air at sea level\n",
    "- No clinical signs indicative of Severe or Critical Illness Severity\n",
    "\n",
    "**Severe COVID-19**\n",
    "\n",
    "- Positive testing by standard RT-PCR assay or an equivalent test\n",
    "- Symptoms suggestive of severe systemic illness with COVID-19, which could include any symptom of moderate illness or shortness of breath at rest, or respiratory distress\n",
    "- Clinical signs indicative of severe systemic illness with COVID-19, such as respiratory rate ≥ 30 per minute, heart rate ≥ 125 per minute, SpO2 ≤ 93% on room air at sea level or PaO2/FiO2 < 300\n",
    "- No criteria for Critical Severity\n",
    "\n",
    "**Critical COVID-19**\n",
    "\n",
    "- Positive testing by virologic test (i.e., a nucleic acid amplification test of an antigen test)\n",
    "- Evidence of critical illness, defined by at least one of the following:\n",
    "    - Respiratory failure defined based on resource utilization requiring at least one of the following:\n",
    "        - Endotracheal intubation and mechanical ventilation, oxygen delivered by high57 flow nasal cannula (heated, humidified, oxygen delivered via reinforced nasal cannula at flow rates > 20 L/min with fraction of delivered oxygen ≥ 0.5), noninvasive positive pressure ventilation, ECMO, or clinical diagnosis of respiratory failure (i.e., clinical need for one of the preceding therapies, but preceding therapies not able to be administered in setting of resource limitation)\n",
    "    - Shock (defined by systolic blood pressure < 90 mm Hg, or diastolic blood pressure < 60 mm Hg or requiring vasopressors)\n",
    "    - Multi-organ dysfunction/failure\n",
    "\n",
    "NOTE: A clinical diagnosis of respiratory failure (in the setting of resource limitation) in which the management deviates from standard of care should be recorded as part of formal data collection."
   ]
  },
  {
   "cell_type": "markdown",
   "id": "35d4b952-e103-4cf3-b7b6-daa547d230bc",
   "metadata": {},
   "source": [
    "## APPENDIX B\n",
    "\n",
    "### DRUG RESISTANCE ANALYSIS\n",
    "\n",
    "The drug resistance analysis plan should include the following:\n",
    "\n",
    "- Characterize the antiviral activity of the drug in cell culture assays against a panel of geographically, temporally, and phylogenetically distinct SARS-CoV-2 isolates, including isolates representative of the most common variants currently circulating globally.\n",
    "- Evaluate combination antiviral activity relationships in cell culture assays between candidate drugs planned for use in a combination regimen, or between the candidate drug(s) and any other authorized or approved drugs if they are anticipated to be used in combination.\n",
    "- To support drug resistance and cross-resistance analyses, select for viruses resistant to the drug in cell culture assays and characterize drug-resistant viruses genotypically and phenotypically. These studies should be conducted under appropriate biocontainment or consider using a surrogate or recombinant virus expressing the SARS-CoV-2 target protein.\n",
    "- Identify reported SARS-CoV-2 amino acid polymorphisms in the drug target and describe their prevalence and rates of emergence in the human population. If the drug has been co-crystalized with the viral target protein, identify polymorphisms in the viral target at amino acid positions that come within 5 angstroms of the drug structure.\n",
    "- Clinical protocols should include detailed plans to (a) characterize the impact of SARS100 CoV-2 genetic variability on clinical and virologic outcomes (i.e., baseline resistance analyses) and (b) identify SARS-CoV-2 genetic changes associated with treatment (i.e., treatment-emergent resistance analyses).\n",
    "- Characterize the impact of specific amino acid variants in the drug target on drug activity using cell culture phenotype assays. If a pseudovirus or other surrogate assay is used, conduct an experiment to validate that the surrogate assay yields results that are consistent with those obtained with authentic virus regarding the relative impact of different variants.\n",
    "- Based on results of genotypic and phenotypic assays, assess the potential for cross111 resistance with other drugs with the same target or similar mechanism of action.\n",
    "- Continuously monitor for emerging SARS-CoV-2 variants and evaluate phenotypically any specific variants in the drug target that are becoming prevalent or could potentially impact drug activity.\n",
    "- If the drug targets a host factor, identify known human genetic polymorphisms and characterize their potential impact on drug activity in nonclinical and/or clinical studies. Samples for resistance assessments should be collected in clinical trials for host targeting antivirals as resistance can occur with these drugs.\n",
    "- Submission of next generation sequencing data generated from clinical trials should follow established FDA guidance.^1 Consult with the appropriate review division for additional advice on collection and submission of drug resistance data\n",
    "\n",
    "- ^1 See the guidance for industry Submitting Next Generation Sequencing Data to the Division of Antiviral Products (July 2019). We update guidances periodically. To make sure you have the most recent version of a guidance, check the FDA guidance web page at https://www.fda.gov/regulatory-information/search-fda-guidance-documents"
   ]
  },
  {
   "cell_type": "markdown",
   "id": "058d0913-bbec-43e4-ab28-e09e1a379581",
   "metadata": {},
   "source": [
    "## APPENDIX C\n",
    "\n",
    "### IMPACT OF DRUGS ON VIRAL SHEDDING AND IMMUNE RESPONSES\n",
    "\n",
    "Clinical trial protocols should include plans to characterize the impact of drugs on viral shedding and immune responses as follows:\n",
    "\n",
    "- Indicate specific time points and clinical specimens to be collected and analyzed.\n",
    "- For respiratory samples, describe the specific types of samples to be collected (e.g., nasopharyngeal swabs, nasal mid-turbinate swab, saliva) and the collection procedures. Refer to current CDC guidelines for specific definitions of specimen types and additional recommendations. ^1 \n",
    "- Because assays may have varying sensitivity or performance for different respiratory specimen types, the same specimen type(s) should be collected and analyzed for baseline and subsequent time points when assessing the impact of treatment on viral shedding.\n",
    "- Sponsors are also encouraged to collect nonrespiratory specimens (e.g., blood, bronchoalveolar lavage fluid) for virologic analyses when feasible to assess the impact of antiviral treatment on virus replication in other compartments, which may play a role in disease pathogenesis.\n",
    "- Viral shedding analyses should include an assessment of viral RNA levels (e.g., quantitative RT-PCR). Sponsors are encouraged to assess viral RNA shedding both quantitatively (e.g., log10 decline from baseline at a specific time point) and qualitatively (e.g., detected or not detected at a specific time point). Indicate the specific viral RNA assay(s) to be used and whether they have received FDA emergency use authorization or approval.\n",
    "- Sponsors may also consider conducting virus infectivity assays to characterize the impact of treatment on shedding of cell culture infectious virus. Such assays should be conducted under appropriate biocontainment.\n",
    "- Assay performance characteristics should be described, including any known or predicted impact of emerging SARS-CoV-2 variants on assay performance.\n",
    "- Sponsors are also encouraged to characterize the impact of treatments on **markers of inflammation** (e.g., pro-inflammatory cytokines) and on the development of anti-SARS-CoV-2 immune responses.\n",
    "- Sponsors should consider conducting these laboratory assessments in central laboratory(ies) or include internal assay references to minimize the potential introduction of **variability due to assessments being conducted in different laboratories**. \n",
    "\n",
    "- ^1 See the Centers for Disease Control and Prevention Interim Guidelines for Collecting, Handling, and Testing Clinical Specimens for COVID-19, available at https://www.cdc.gov/coronavirus/2019-ncov/lab/guidelines-clinicalspecimens.html.\n"
   ]
  }
 ],
 "metadata": {
  "kernelspec": {
   "display_name": "P3_nbenv",
   "language": "python",
   "name": "nbenv"
  },
  "language_info": {
   "codemirror_mode": {
    "name": "ipython",
    "version": 3
   },
   "file_extension": ".py",
   "mimetype": "text/x-python",
   "name": "python",
   "nbconvert_exporter": "python",
   "pygments_lexer": "ipython3",
   "version": "3.9.12"
  }
 },
 "nbformat": 4,
 "nbformat_minor": 5
}
