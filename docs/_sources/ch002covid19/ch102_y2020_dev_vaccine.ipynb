{
 "cells": [
  {
   "cell_type": "markdown",
   "id": "a24b20cf-c51b-437c-8ca2-e303c2de076c",
   "metadata": {},
   "source": [
    "# Vaccine Development (2020)"
   ]
  },
  {
   "cell_type": "code",
   "execution_count": 2,
   "id": "b2338041-6d16-4280-b6c0-afe37f71da7e",
   "metadata": {
    "tags": [
     "hide-input"
    ]
   },
   "outputs": [
    {
     "data": {
      "text/markdown": [
       "- **title**: Development and Licensure of Vaccines to Prevent COVID-19\n",
       "- **target**: Guidance for Industry\n",
       "- **CBER**: True\n",
       "- **url**: https://www.fda.gov/media/139638/download\n",
       "- **year**: 2020\n",
       "- **keyword**: ['COVID']"
      ],
      "text/plain": [
       "<IPython.core.display.Markdown object>"
      ]
     },
     "execution_count": 2,
     "metadata": {},
     "output_type": "execute_result"
    }
   ],
   "source": [
    "if(False):\n",
    "    import myutil.pdf2txt\n",
    "    ns='ch102_y2020_dev_vaccine'\n",
    "    print(myutil.pdf2txt.fpdf2txt(ns, True)) \n",
    "else:\n",
    "    import pandas as pd\n",
    "    from IPython.display import Markdown as md\n",
    "    meta={\n",
    "        'title': 'Development and Licensure of Vaccines to Prevent COVID-19',\n",
    "        'target': 'Guidance for Industry',\n",
    "        'CBER': True,\n",
    "        'url': 'https://www.fda.gov/media/139638/download',\n",
    "        'year': 2020,\n",
    "        'keyword': [\n",
    "            'covid','vaccine'\n",
    "        ]\n",
    "    }\n",
    "\n",
    "md(\"\\n\".join(\"- **{}**: {}\".format(k,v) for k,v in meta.items()))"
   ]
  },
  {
   "cell_type": "markdown",
   "id": "3f7c3e38-ad86-470f-8943-ee1cfa96b985",
   "metadata": {},
   "source": [
    "## Preface\n",
    "\n",
    "### Public Comment  \n",
    "\n",
    "This guidance is being issued to address the coronavirus disease 2019 (COVID-19) public health emergency.  This guidance is being implemented without prior public comment because the Food and Drug Administration (FDA or Agency) has determined that prior public participation for this guidance is not feasible or appropriate (see section 701(h)(1)(C) of the Federal Food, Drug, and Cosmetic Act (FD&C Act)  (21 U.S.C. 371(h)(1)(C)) and 21 CFR 10.115(g)(2)).  This guidance document is being implemented immediately, but it remains subject to comment in accordance with the Agency's good guidance practices.  Comments may be submitted at any time for Agency consideration.  Submit written comments to the Dockets Management Staff (HFA-305), Food and Drug Administration, 5630 Fishers Lane, Rm. 1061, Rockville, MD 20852.  Submit electronic comments to https://www.regulations.gov.  All comments should be identified with the docket FDA-2020-D-1137 and complete title of the guidance in the request.  \n",
    "\n",
    "### Additional Copies  \n",
    "\n",
    "Additional copies are available from the FDA webpage titled \"COVID-19-Related Guidance Documents for Industry, FDA Staff, and Other Stakeholders,\" available at https://www.fda.gov/emergency-preparedness-and-response/mcm-issues/covid-19-related-guidance-documents-industry-fda-staff-and-other-stakeholders, the FDA webpage titled \"Search for FDA Guidance Documents,\" available at https://www.fda.gov/regulatory-information/search-fda-guidance-documents, and the FDA webpage titled \"Biologics Guidances,\" available at https://www.fda.gov/vaccines-blood-biologics/guidance-compliance-regulatory-information-biologics/biologics-guidances.  You may also send an email request to ocod@fda.hhs.gov to receive an additional copy of the guidance.  Please include the docket number FDA-2020-D-1137 and complete title of the guidance in the request.  \n",
    "\n",
    "### Questions  \n",
    "\n",
    "For questions about this document, contact the Office of Communication, Outreach, and Development (OCOD) by email at ocod@fda.hhs.gov or at 800-835-4709 or 240-402-8010."
   ]
  },
  {
   "cell_type": "markdown",
   "id": "8fd6cf1e-0877-4cbe-b127-18e5e36f60c0",
   "metadata": {},
   "source": [
    "Table of Contents  \n",
    "\n",
    "- I. INTRODUCTION\n",
    "- II. BACKGROUND \n",
    "- III. CHEMISTRY, MANUFACTURING, AND CONTROLS - KEY CONSIDERATIONS \n",
    "    - A. General Considerations \n",
    "    - B. Manufacture of Drug Substance and Drug Product \n",
    "    - C. Facilities and Inspections \n",
    "- IV. NONCLINICAL DATA - KEY CONSIDERATIONS \n",
    "    - A. General Considerations \n",
    "    - B. Toxicity Studies (Refs. 10-14) \n",
    "    - C. Characterization of the Immune Response in Animal Models\n",
    "    - D. Studies to Address the Potential for Vaccine-associated Enhanced Respiratory Disease \n",
    "- V. CLINICAL TRIALS - KEY CONSIDERATIONS \n",
    "    - A. General Considerations \n",
    "    - B. Trial Populations \n",
    "    - C. Trial Design \n",
    "    - D. Efficacy Considerations \n",
    "    - E. Statistical Considerations \n",
    "    - F. Safety Considerations \n",
    "- VI. POST-LICENSURE SAFETY EVALUATION - KEY CONSIDERATIONS \n",
    "    - A. General Considerations \n",
    "    - B. Pharmacovigilance Activities for COVID-19 Vaccines \n",
    "    - C. Required Postmarketing Safety Studies \n",
    "- VII. DIAGNOSTIC AND SEROLOGICAL ASSAYS - KEY CONSIDERATIONS \n",
    "- VIII. ADDITIONAL CONSIDERATIONS \n",
    "    - A. Additional Considerations in Demonstrating Vaccine Effectiveness \n",
    "    - B. Emergency Use Authorization \n",
    "- IX. REFERENCES \n"
   ]
  },
  {
   "cell_type": "markdown",
   "id": "2a4d8194-8e11-4089-b3ab-4a405f6d3507",
   "metadata": {},
   "source": [
    ":::{note}\n",
    "This guidance represents the current thinking of the Food and Drug Administration (FDA or Agency) on this topic.  It does not establish any rights for any person and is not binding on FDA or the public. You can use an alternative approach if it satisfies the requirements of the applicable statutes and regulations.  To discuss an alternative approach, contact the FDA staff responsible for this guidance as listed on the title page.\n",
    ":::"
   ]
  },
  {
   "cell_type": "markdown",
   "id": "e06501e6-dbbb-40d1-9a76-cadced051b2f",
   "metadata": {},
   "source": [
    "## I. INTRODUCTION  \n",
    "\n",
    "FDA plays a critical role in protecting the United States from threats such as emerging infectious diseases, including the Coronavirus Disease 2019 (COVID-19) pandemic which has been caused by the severe acute respiratory syndrome coronavirus 2 (SARS-CoV-2).  FDA is committed to providing timely guidance to support response efforts to this pandemic.   \n",
    "FDA is issuing this guidance to assist sponsors in the clinical development and licensure of vaccines for the prevention of COVID-19.   \n",
    "\n",
    "This guidance is intended to remain in effect for the duration of the public health emergency related to COVID-19 declared by the Secretary of Health and Human Services (HHS) on January 31, 2020, effective January 27, 2020, including any renewals made by the HHS Secretary in accordance with section 319(a)(2) of the Public Health Service Act (PHS Act) (42 U.S.C. 247d(a)(2)).  The recommendations described in the guidance are expected to assist the Agency and sponsors in the clinical development and licensure of vaccines for the prevention of COVID-19 and reflect the Agency's current thinking on this issue.    \n",
    "\n",
    "Given this public health emergency, and as discussed in the Notice in the Federal Register of March 25, 2020, titled \"Process for Making Available Guidance Documents Related to Coronavirus Disease 2019\" (85 FR 16949), available at https://www.govinfo.gov/content/pkg/FR-2020-03-25/pdf/2020-06222.pdf, this guidance is being implemented without prior public comment because FDA has determined that prior public participation for this guidance is not feasible or appropriate (see section 701(h)(1)(C) of the Federal Food, Drug, and Cosmetic Act (FD&C Act), (21 U.S.C. 371(h)(1)(C)), and 21 CFR 10.115(g)(2)).  This guidance document is being implemented immediately, but it remains subject to comment in accordance with the Agency's good guidance practices.  However, FDA expects that the recommendations set forth in this revised guidance will continue to apply outside the context of the current public health emergency. \n",
    "\n",
    "Therefore, within 60 days following the termination of the public health emergency, FDA intends to revise and replace this guidance with an updated guidance that incorporates any appropriate changes based on comments received on this guidance and the Agency's experience with implementation.  \n",
    "\n",
    "In general, FDA's guidance documents, including this guidance, do not establish legally enforceable responsibilities.  Instead, guidances describe the Agency's current thinking on a topic and should be viewed only as recommendations, unless specific regulatory or statutory requirements are cited.  The use of the word should in Agency guidance means that something is suggested or recommended, but not required.     "
   ]
  },
  {
   "cell_type": "markdown",
   "id": "1e6d716f-f9e5-4e00-bc02-9818929b030e",
   "metadata": {},
   "source": [
    "## II. BACKGROUND  \n",
    "\n",
    "There is currently an outbreak of respiratory disease caused by a novel coronavirus.  The virus has been named \"SARS-CoV-2\" and the disease it causes has been named \"COVID-19.\"  On January 31, 2020, the Secretary of HHS issued a declaration of a public health emergency related to COVID-19 and mobilized the Operating Divisions of HHS. ^1  In addition, on March 13, 2020, the President declared a national emergency in response to COVID-19. ^2    \n",
    "\n",
    "- ^1 Secretary of Health and Human Services Alex M. Azar, Determination that a Public Health Emergency Exists. (Jan. 31, 2020, renewed April 21, 2020), available at https://www.phe.gov/emergency/news/healthactions/phe/Pages/default.aspx.  \n",
    "- ^2 Proclamation on Declaring a National Emergency Concerning the Novel Coronavirus Disease (COVID-19) Outbreak (Mar. 13, 2020), available at https://www.whitehouse.gov/presidential-actions/proclamation-declaring-national-emergency-concerning-novel-coronavirus-disease-covid-19-outbreak/.  \n",
    "\n",
    "The SARS-CoV-2 pandemic presents an extraordinary challenge to global health.  There are currently no FDA-licensed vaccines to prevent COVID-19.  Commercial vaccine manufacturers and other entities are developing COVID-19 vaccine candidates using different technologies including RNA, DNA, protein, and viral vectored vaccines.     \n",
    "\n",
    "This guidance describes FDA's current recommendations regarding the data needed to facilitate clinical development and licensure of vaccines to prevent COVID-19.  There are currently no accepted surrogate endpoints that are reasonably likely to predict clinical benefit of a COVID-19 vaccine.  Thus, at this time, the goal of development programs should be to pursue traditional approval via direct evidence of vaccine safety and efficacy in protecting humans from SARS-CoV-2 infection and/or clinical disease.    \n",
    "\n",
    "This guidance provides an overview of key considerations to satisfy regulatory requirements set forth in the investigational new drug application (IND) regulations in 21 CFR Part 312 and licensing regulations in 21 CFR Part 601 for chemistry, manufacturing, and controls (CMC), and nonclinical and clinical data through development and licensure, and for post-licensure safety evaluation of COVID-19 preventive vaccines. ^3  FDA is committed to supporting all scientifically sound approaches to attenuating the clinical impact of COVID-19.  Sponsors engaged in the development of vaccines to prevent COVID-19 should also see the guidance for industry and investigators, COVID-19 Public Health Emergency: General Considerations for Pre-IND Meeting Requests for COVID-19 Related Drugs and Biological Products (Ref. 1).\n",
    "\n",
    "- ^3 Novel devices used to administer COVID-19 vaccines raise additional issues which are not addressed in this guidance. "
   ]
  },
  {
   "cell_type": "markdown",
   "id": "f50850e7-33c2-448a-b1a1-c5f7e8b0b8bb",
   "metadata": {},
   "source": [
    "There are many COVID-19 vaccines currently in development and FDA recognizes that the considerations presented here do not represent all the considerations necessary to satisfy statutory and regulatory requirements applicable to the licensure of vaccines intended to prevent COVID-19.  The nature of a particular vaccine and its intended use may impact specific data needs.  We encourage sponsors to contact the Center for Biologics Evaluation and Research (CBER) Office of Vaccines Research and Review (OVRR) with specific questions. "
   ]
  },
  {
   "cell_type": "markdown",
   "id": "13416231-edd4-4b7a-9094-cf27e5eafec4",
   "metadata": {},
   "source": [
    "## III. CHEMISTRY, MANUFACTURING, AND CONTROLS - KEY CONSIDERATIONS  \n",
    "\n",
    "### A. General Considerations   \n",
    "\n",
    "- COVID-19 vaccines licensed in the United States must meet the statutory and regulatory requirements for vaccine development and approval, including for quality, development, manufacture, and control (**section 351(a)** of the Public Health Service Act (PHS Act), (**42 U.S.C. 262**)).  The vaccine product must be adequately characterized and its manufacture in compliance with applicable standards including current good manufacturing practice (cGMP) (**section 501(a)(2)(B)** of the FD&C Act (**21 U.S.C. 351(a)(2)( B)**) and **21 CFR Parts 210, 211, and 610**).  It is critical that vaccine production processes for each vaccine are well defined and appropriately controlled to ensure consistency in manufacturing.   \n",
    "- COVID-19 vaccine development may be accelerated based on knowledge gained from similar products manufactured with the same well-characterized platform technology, to the extent legally and scientifically permissible.  Similarly, with appropriate justification, some aspects of manufacture and control may be based on the vaccine platform, and in some instances, reduce the need for product-specific data.  FDA recommends that vaccine manufacturers engage in early communications with **OVRR** to discuss the type and extent of chemistry, manufacturing, and control information needed for development and licensure of their COVID-19 vaccine.  \n",
    "\n"
   ]
  },
  {
   "cell_type": "markdown",
   "id": "edc62a7b-0295-4c2f-88de-718079d3854f",
   "metadata": {},
   "source": [
    "### B. Manufacture of Drug Substance and Drug Product   \n",
    "\n",
    "- Data should be provided to show that all source material used in manufacturing is adequately controlled, including, for example, history and qualification of cell banks, history and qualification of virus banks, and identification of all animal derived materials used for cell culture and virus growth.   \n",
    "- Complete details of the manufacturing process must be provided in a Biologics License Application (BLA) to support licensure of a COVID-19 vaccine (**21 CFR 601.2**).  Accordingly, sponsors should submit data and information identifying critical process parameters, critical quality attributes, batch records, defined hold times, and the in-process testing scheme.  Specifications should be established for each critical parameter.  Validation data from the manufacture of platform-related products may provide useful supportive information, particularly in the identification of critical parameters.    \n",
    "- In-process control tests must be established that allow quality to be monitored for each lot for all stages of production (section 501(a)(2)(B) of the FD&C Act (21 U.S.C. 351(a)(2)(B)) and, as applicable, 21 CFR 211.110(a)).   \n",
    "- Data to support the consistency of the manufacturing process should be provided, including process validation protocols and study reports, data from engineering lots, and drug substance process performance qualification.     \n",
    "- The manufacturing process must be adequately validated (section 501(a)(2)(B) of the FD&C Act (21 U.S.C. 351(a)(2)(B)) and, as applicable, 21 CFR 211.100(a) and 211.110).  Validation would typically include a sufficient number of commercial-scale batches that can be manufactured routinely, meeting predetermined in-process controls, critical process parameters, and lot release specifications.  Typically, data on the manufacture of at least three commercial-scale batches are sufficient to support the validation of the manufacturing process (Ref. 2).   \n",
    "- A quality control system should be in place for all stages of manufacturing, including a well-defined testing program to ensure in process/intermediate product quality and product quality throughout the formulation and filling process.  This system should also include a well-defined testing program to ensure drug substance quality profile and drug product quality for release.  Data on the qualification/validation for all quality indicating assays should be submitted to the BLA to support licensure.   \n",
    "- All quality-control release tests, including key tests for vaccine purity, identity and potency, should be validated and shown to be suitable for the intended purpose.  Release specifications are product specific and will be discussed with the sponsor as part of the review of a BLA.   \n",
    "- If adequately justified, final validation of formulation and filling operations may be completed after product approval if the impact on product quality is not compromised.  It is important that any data that will be submitted after product approval be agreed upon prior to licensure and be submitted as a postmarketing commitment using the appropriate submission category.     \n",
    "- For vaccine licensure, the stability and expiry date of the vaccine in its final container, when maintained at the recommended storage temperature, should be demonstrated using final containers from at least three final lots made from different vaccine bulks.   \n",
    "- Storage conditions, including container closure integrity, must be fully validated (21 CFR 211.166).\n",
    "- The vaccine must have been shown to maintain its potency for a period equal to that from the date of release to the expiry date (21 CFR 601.2 and 610.10).  Post marketing commitments to provide full shelf life data may be acceptable with appropriate justification.   \n",
    "- A product specific stability program should be established to verify that licensed product maintains quality over the defined shelf life.  "
   ]
  },
  {
   "cell_type": "markdown",
   "id": "803cd62f-adc2-4e01-a6d2-99fdaac91135",
   "metadata": {},
   "source": [
    "### C. Facilities and Inspections   \n",
    "\n",
    "- Facilities must be of suitable size and construction to facilitate operations and should be adequately designed to prevent contamination, cross-contamination and mix-ups (section 501(a)(2)(B) of the FD&C Act (21 U.S.C. 351(a)(2)(B)) and, as applicable, 21 CFR 211.42(a)).  All utilities (including plumbing and sanitation) must be validated, and HVAC systems must provide adequate control over air pressure, micro-organisms, dust, humidity, and temperature, and sufficient protection or containment as needed (section 501(a)(2)(B) of the FD&C Act (21 U.S.C. 351(a)(2)(B)) and, as applicable, 21 CFR 211.46(c)) (Ref. 3).  Facility and equipment cleaning and maintenance processes must be developed and validated (section 501(a)(2)(B) of the FD&C Act (21 U.S.C. 351(a)(2)(B)) and, as applicable, 21 CFR 211.56(c) and 211.67(b)).    \n",
    "- Manufacturing equipment should be qualified and sterile filtration and sterilization processes validated.  Aseptic processes should be adequately validated using media simulations and personnel should be trained and qualified for their intended duties.   \n",
    "- A quality control unit must be established and must have the responsibility for oversight of manufacturing, and review and release of components, containers and closures, labeling, in-process material, and final products (section 501(a)(2)(B) of the FD&C Act (21 U.S.C. 351(a)(2)(B)) and, as applicable, 21 CFR 211.22).  The quality control unit must have the responsibility for approving validation protocols, reports, investigate deviations, and institute corrective and preventive actions.   \n",
    "- FDA recommends that vaccine manufacturers engage in early communication with CBER's Office of Compliance and Biologics Quality, Division of Manufacturing and Product Quality to discuss facility preparation and inspection timing.    \n",
    "- Pre-license inspections of manufacturing sites are considered part of the review of a BLA and are generally conducted following the acceptance of a BLA filing (21 CFR 601.20).  During the COVID-19 public health emergency, FDA is utilizing all available tools and sources of information to support regulatory decisions on applications that include sites impacted by FDA's ability to inspect due to COVID-19.  During this interim period, we are using additional tools, where available, to determine the need for an on-site inspection and to support the application assessment, such as reviewing a firm's previous compliance history, and requesting records in advance of or in lieu of on-site inspections or voluntarily from facilities and sites. "
   ]
  },
  {
   "cell_type": "markdown",
   "id": "5963942a-0556-4b2d-8ccc-94678dee75e6",
   "metadata": {},
   "source": [
    "## IV. NONCLINICAL DATA - KEY CONSIDERATIONS  \n",
    "\n",
    "### A. General Considerations    \n",
    "\n",
    "- The purpose of **nonclinical studies** of a COVID-19 vaccine candidate is to define its **immunogenicity and safety** characteristics through in vitro and in vivo testing.  Nonclinical studies in animal models ^4 help identify potential vaccine related safety risks and guide the selection of dose, dosing regimen, and route of administration to be used in clinical studies.  The extent of nonclinical data required to support proceeding to first in human (FIH) clinical trials depends on the vaccine construct, the supportive data available for the construct and data from closely related vaccines.    \n",
    "    - ^4 The preclinical program for any investigational product should be individualized with respect to scope, complexity, and overall design.  We support the principles of the \"3Rs,\" to reduce, refine, and replace animal use in testing when feasible.  Proposals, with justification for any potential alternative approaches (e.g., in vitro or in silico testing), should be submitted during early communication meetings with FDA (see section VI of this document).  We will consider if such an alternative method could be used in place of an animal test method. \n",
    "- Data from studies in animal models administered certain vaccine constructs against other coronaviruses (SARS-CoV and MERS-CoV) have raised concerns of a theoretical risk for COVID-19 vaccine-associated enhanced respiratory disease (ERD).  In these studies, animal models were administered vaccine constructs against other coronaviruses and subsequently challenged with the respective wild-type virus.  These studies have shown evidence of immunopathologic lung reactions characteristic of a Th-2 type hypersensitivity similar to ERD described in infants and animals that were administered formalin-inactivated respiratory syncytial virus (RSV) vaccine and that were subsequently challenged with RSV virus due to natural exposure or in the laboratory, respectively (Refs. 4-9).  Vaccine candidates should be assessed in light of these studies as described in section D, below.   \n",
    "- FDA recommends that vaccine manufacturers engage in early communications with FDA to discuss the type and extent of nonclinical testing required for the particular COVID-19 vaccine candidate to support proceeding to FIH clinical trials and further clinical development.   \n",
    "\n",
    "### B. Toxicity Studies (Refs. 10-14)   \n",
    "\n",
    "- For a COVID-19 vaccine candidate consisting of a novel product type and for which **no prior nonclinical and clinical data are available, nonclinical safety studies will be required prior** to proceeding to FIH clinical trials 21 CFR 312.23(a)(8).        \n",
    "- In some cases, it may not be necessary to perform nonclinical safety studies prior to FIH clinical trials because adequate information to characterize product safety may be available from other sources.  For example, if the COVID-19 vaccine candidate is made using a **platform technology utilized to manufacture a licensed vaccine** or other **previously studied investigational vaccines** and is sufficiently characterized, it may be possible to use toxicology data (e.g., data from repeat dose toxicity studies, biodistribution studies) and clinical data accrued with other products using the same platform to support FIH clinical trials for that COVID-19 vaccine candidate.  Vaccine manufacturers should summarize the findings and provide a rationale if considering using these data in lieu of performing nonclinical safety studies.   \n",
    "- When needed to support proceeding to FIH clinical trials, nonclinical safety assessments including toxicity and local tolerance studies must be conducted under conditions consistent with regulations prescribing good laboratory practices for conducting nonclincial laboratory studies (GLP) (21 CFR Part 58).  Such studies should be completed and analysed prior to initiation of FIH clinical trials.  When toxicology studies do not adequately characterize risk, additional safety testing should be conducted as appropriate.  - Data from toxicity studies may be submitted as unaudited final draft toxicicologic reports to accelerate proceeding to FIH clinical trials with COVID-19 vaccine candidates.  The final, fully quality-assured reports should be available to FDA within 120 days of the start of the FIH clinical trial.   \n",
    "- Use of COVID-19 preventive vaccines in pregnancy and in women of childbearing potential will be an important consideration for vaccination programs.  Therefore, FDA recommends that prior to enrolling pregnant women and women of childbearing potential who are not actively avoiding pregnancy in clinical trials, sponsors conduct developmental and reproductive toxicity (DART) studies with their respective COVID-19 vaccine candidate.  Alternatively, sponsors may submit available data from DART studies with a similar product using comparable platform technology if, after consultation with the agency, the agency agrees those data are scientifically sufficient.    \n",
    "- Biodistribution studies in an animal species should be considered if the vaccine construct is novel in nature and there are no existing biodistribution data from the platform technology.  These studies should be conducted if there is a likelihood of altered infectivity and tissue tropism or if a novel route of administration and formulation is to be used."
   ]
  },
  {
   "cell_type": "markdown",
   "id": "dfb7defe-608b-46f2-a286-f6b0d51390fe",
   "metadata": {},
   "source": [
    "### C. Characterization of the Immune Response in Animal Models   \n",
    "\n",
    "- Immunogenicity studies in animal models responsive to the selected COVID-19 vaccine antigen should be conducted to evaluate the immunologic properties of the COVID-19 vaccine candidate and to support FIH clinical trials.  The aspects of immunogenicity to be measured should be appropriate for the vaccine construct and its intended mechanism of action.   \n",
    "- Studies should include an evaluation of humoral, cellular, and functional immune responses, as appropriate to each of the included COVID-19 antigens.  Use of antigen-specific enyzme linked immunosorbent assays (ELISA) should be considered to characterize the humoral response.  Evaluation of cellular reponses should include the examination of CD8+ and CD4+ T cell responses using sensitive and specific assays.  The functional activity of immune responses should be evaluated in vitro in neutralization assays using either wild-type virus or pseudovirion virus.  The assays used for immunogencity evaluation should be demonstrated to be suitable for their intended purpose.  \n",
    "\n",
    "### D. Studies to Address the Potential for Vaccine-associated Enhanced Respiratory Disease   \n",
    "\n",
    "- Current knowledge and understanding of the potential risk of COVID-19 vaccine associated ERD is limited, as is understanding of the value of available animal models in predicting the likelihood of such occurrence in humans.  Nevertheless, studies in animal models (e.g., rodents and non-human primates) are considered important to address the potential for vaccine-associated ERD.   \n",
    "- Post-vaccination animal challenge studies and the characterization of the type of the nonclinical and clinical immune response induced by the particular COVID-19 vaccine candidate can be used to evaluate the likelihood of the vaccine to induce vaccine-associated ERD in humans.    \n",
    "- To support proceeding to FIH clinical trials, sponsors should conduct studies characterizing the vaccine-induced immune response in animal models evaluating immune markers of potential ERD outcomes.  These should include assessments of functional immune responses (e.g., neutralizing antibody) versus total antibody responses and Th1/Th2 balance in animals vaccinated with clinically relevant doses of the COVID-19 vaccine candidate.      \n",
    "- COVID-19 vaccine candidates with immunogenicity data demonstrating high neutralizing antibody titers and Th1-type T cell polarization may be allowed to proceed to FIH trials without first completing postvaccination challenge studies in appropriate animal models, provided adequate risk mitigation strategies are put in place in the FIH trials.  In these situations, postvaccination challenge studies are expected to be conducted in parallel with FIH trials to ensure the potential for vaccine-associated ERD is addressed prior to enrolling large numbers of human subjects into Phase 2 and 3 clinical trials.  For COVID-19 vaccine candidates for which other data raise increased concerns about ERD, postvaccination animal challenge data and/or animal immunopathology studies are critical to assess protection and/or ERD prior to advancing to FIH clinical trials.  \n",
    "- The totality of data for a specific COVID-19 vaccine candidate, including data from postvaccination challenge studies in small animal models and from FIH clinical trials characterizing the type of immune responses induced by the vaccine will be considered in determining whether Phase 3 studies can proceed in the absence of postvaccination challenge data to address risk of ERD.   "
   ]
  },
  {
   "cell_type": "markdown",
   "id": "05c96cfb-ebc5-4e97-bfdf-db719b0c109a",
   "metadata": {},
   "source": [
    "## V. CLINICAL TRIALS - KEY CONSIDERATIONS  \n",
    "\n",
    "### A. General Considerations   \n",
    "\n",
    "- Understanding of SARS-CoV-2 immunology, and specifically vaccine immune responses that might predict protection against COVID-19, is currently limited and evolving.  Thus, while evaluation of immunogenicity is an important component of COVID-19 vaccine development, at this time, the goal of development programs should be to pursue traditional approval via direct evidence of vaccine efficacy in protecting humans from SARS-CoV-2 infection and/or disease.   \n",
    "- Clinical development programs for COVID-19 vaccines might be expedited by adaptive and/or seamless clinical trial designs (described below) that allow for selection between vaccine candidates and dosing regimens and for more rapid progression through the usual phases of clinical development. \n",
    "- Regardless of whether clinical development programs proceed in discrete phases with separate studies or via a more seamless approach, an adequate body of data, including data to inform the risk of vaccine-associated ERD, will be needed as clinical development progresses to support the safety of vaccinating the proposed study populations and number of participants and, for later stage development, to ensure that the study design is adequate to meet its objectives.    \n",
    "- FDA can provide early advice, and potentially concurrence in principle, on plans for expedited/seamless clinical development.  However, sponsors should plan to submit summaries of data available at each development milestone for FDA review and concurrence prior to advancing to the next phase of development.   \n",
    "- Conducting clinical trials in the setting of a public health emergency presents operational challenges.  FDA has issued guidance to provide general considerations to assist sponsors in assuring the safety of trial participants, maintaining compliance with good clinical practice (GCP), and minimizing risks to trial integrity for the duration of the COVID-19 public health emergency.  It should be noted that not all of the recommendations in that guidance may be applicable to vaccine development, given some of the different considerations for these products (Ref. 15).     "
   ]
  },
  {
   "cell_type": "markdown",
   "id": "afce3908-9085-4fa6-b2d4-19727cfbf8e2",
   "metadata": {},
   "source": [
    "### B. Trial Populations   \n",
    "\n",
    "- Once acceptable pre-clinical data are available, FIH and other early phase studies (which typically expose 10-100 participants to each vaccine candidate being evaluated) should first enroll healthy adult participants who are at low risk of severe COVID-19.  Exclusion of participants at higher risk of severe COVID-19 from early phase studies is necessary to mitigate potential risk of vaccine-associated ERD until additional data to inform that potential risk becomes available through ongoing product development.  \n",
    "    - As the understanding of COVID-19 pathogenesis continues to evolve, exclusion criteria should reflect the current understanding of risk factors for more severe COVID-19, such as those described by the Centers for Disease Control and Prevention (Ref. 16).  \n",
    "    - Older adult participants (e.g., over 55 years of age) may be enrolled in FIH and other early phase studies so long as they do not have medical comorbidities associated with an increased risk of severe COVID-19.  Some preliminary safety data in younger adults (e.g., 7 days after a single vaccination) should be available prior to enrolling older adult participants, especially for vaccine platforms without prior clinical experience.  \n",
    "    - If possible, early clinical studies should also exclude participants at high risk of SARS-CoV-2 exposure (e.g., healthcare workers).   \n",
    "- Sponsors should collect and evaluate at least preliminary clinical safety and immunogenicity data for each dose level and age group (e.g., younger versus older adults) to support progression of clinical development to include larger numbers (e.g., hundreds) of participants and participants at higher risk of severe COVID-19. \n",
    "    - Preliminary immunogenicity data from early phase development should include assessments of neutralizing vs. total antibody responses and Th1 vs. Th2 polarization.\n",
    "    - Additional data to further inform potential risk of vaccine-associated ERD and to support progression of clinical development, if available, may include preliminary evaluation of COVID-19 disease outcomes from earlier clinical development and results of non-clinical studies evaluating protection and/or histopathological markers of vaccine-associated ERD following SARS-CoV-2 challenge.   \n",
    "- To generate sufficient data to meet the BLA approval standard, late phase clinical trials to demonstrate vaccine efficacy with formal hypothesis testing will likely need to enroll many thousands of participants, including many with medical comorbidities for trials seeking to assess protection against severe COVID-19.  \n",
    "    - Initiation of late phase trials should be preceded by adequate characterization of safety and immunogenicity (e.g., in a few hundred participants for each vaccine candidate, dose level, and age group to be evaluated) to support general safety, potential for vaccine efficacy, and low risk of vaccine-associated ERD.\n",
    "    - Results of non-clinical studies evaluating protection and/or histopathological markers of vaccine-associated ERD following SARS-CoV-2 challenge and COVID-19 disease outcomes from earlier clinical development are other potentially important sources of information to support clinical trials with thousands of participants. \n",
    "- Although establishing vaccine safety and efficacy in SARS-CoV-2 naïve individuals is critical, vaccine safety and COVID-19 outcomes in individuals with prior SARS-CoV-2 infection, which might have been asymptomatic, is also important to examine because pre-vaccination screening for prior infection is unlikely to occur in practice with the deployment of licensed COVID-19 vaccines.  Therefore, COVID-19 vaccine trials need not screen for or exclude participants with history or laboratory evidence of prior SARS-CoV-2 infection.  However, individuals with acute COVID-19 (or other acute infectious illness) should be excluded from COVID-19 vaccine trials.\n",
    "- FDA encourages the inclusion of diverse populations in all phases of vaccine clinical development.  This inclusion helps to ensure that vaccines are safe and effective for everyone in the indicated populations.   \n",
    "    - FDA strongly encourages the enrollment of populations most affected by COVID-19, specifically racial and ethnic minorities.  \n",
    "    - Evaluation of vaccine safety and efficacy in late phase clinical development in adults should include adequate representation of elderly individuals and individuals with medical comorbidities. \n",
    "    - FDA encourages vaccine developers to consider early in their development programs data that might support inclusion of pregnant women and women of childbearing potential who are not actively avoiding pregnancy in pre-licensure clinical trials (Ref. 17). \n",
    "    - It is important for developers of COVID-19 vaccines to plan for pediatric assessments of safety and effectiveness, given the nature of the COVID-19 public health emergency, and to help ensure compliance with the Pediatric Research Equity Act (PREA) (section 505B of the FD&C Act (21 U.S.C. 355c)) (Ref. 18).  The epidemiology and pathogenesis of COVID-19, and the safety and effectiveness of COVID-19 vaccines, may be different in children compared with adults.  In order to ensure compliance with 21 CFR Part 50 Subpart D (Additional safeguards for children in clinical investigations), considerations on the prospect of direct benefit and acceptable risk to support initiation of pediatric studies, and the appropriate design and endpoints for pediatric studies, should be discussed in the context of specific vaccine development programs. "
   ]
  },
  {
   "cell_type": "markdown",
   "id": "8241b579-6bf5-4f71-a489-0fa629a2652f",
   "metadata": {},
   "source": [
    "### C. Trial Design   \n",
    "\n",
    "- Early phase trials often aim to down-select among multiple vaccine candidates and/or dosing regimens via randomization of participants to different treatment groups.  While including a placebo control and blinding are not required for early phase studies, doing so may assist in interpretation of preliminary safety data.    \n",
    "- Later phase trials, including efficacy trials, should be randomized, double-blinded, and placebo controlled. \n",
    "    - An individually randomized controlled trial with 1:1 randomization between vaccine and placebo groups is usually the most efficient study design for demonstrating vaccine efficacy.  Other types of randomization, such as cluster randomization, may be acceptable but require careful consideration of potential biases that are usually avoided with individual randomization.\n",
    "    - An efficacy trial that evaluates multiple vaccine candidates against a single placebo group may be an acceptable approach to further increase efficiency, provided that the trial is adequately designed with appropriate statistical methods to evaluate efficacy.\n",
    "    - If the availability of a COVID-19 vaccine proven to be safe and effective precludes ethical inclusion of a placebo control group, that vaccine could serve as the control treatment in a study designed to evaluate efficacy with non-inferiority hypothesis testing.\n",
    "- Protocols for adaptive trials should include pre-specified criteria for adding or removing vaccine candidates or dosing regimens, and protocols for seamless trials should include pre-specified criteria (e.g., safety and immunogenicity data) for advancing from one phase of the study to the next.\n",
    "- Follow-up of study participants for COVID-19 outcomes (in particular, for severe COVID-19 disease manifestations) should continue as long as feasible, ideally at least one to two years, to assess duration of protection and potential for vaccine-associated ERD as immune responses to the vaccine wane.\n",
    "- Efficacy trials should include contingency plans for continued follow up and analysis of safety and effectiveness outcomes in the event that a safe and effective vaccine becomes available (e.g., as demonstrated in a planned interim analysis or as demonstrated in another clinical trial).  In that case, discussion with the agency may be necessary to address ethical arguments to break the blind and offer vaccine to placebo recipients.\n",
    "- In cases where **statistical equivalency testing of vaccine immune responses in humans is required to support manufacturing consistency** (**clinical lot-to-lot consistency trial**), this testing can be incorporated into the design of an efficacy trial and does not need to be conducted in a separate study.  \n"
   ]
  },
  {
   "cell_type": "markdown",
   "id": "8de462a1-228e-42c9-91da-c31529ad8c5a",
   "metadata": {},
   "source": [
    "### D. Efficacy Considerations   \n",
    "\n",
    "- Either laboratory-confirmed COVID-19 or laboratory-confirmed SARS-CoV-2 infection is an acceptable primary endpoint for a COVID-19 vaccine efficacy trial. \n",
    "    - Acute cases of COVID-19 should be virologically confirmed (e.g., by RT-PCR).\n",
    "    - SARS-CoV-2 infection, including asymptomatic infection, can be monitored for and confirmed either by virologic methods or by serologic methods evaluating antibodies to SARS-CoV-2 antigens not included in the vaccine.   \n",
    "- Standardization of efficacy endpoints across clinical trials may facilitate comparative evaluation of vaccines for deployment programs, provided that such comparisons are not confounded by differences in trial design or study populations.  To this end, FDA recommends that either the primary endpoint or a secondary endpoint (with or without formal hypothesis testing) be defined as virologically confirmed SARS-CoV-2 infection with one or more of the following symptoms: \n",
    "    - Fever or chills  \n",
    "    - Cough \n",
    "    - Shortness of breath or difficulty breathing  \n",
    "    - Fatigue\n",
    "    - Muscle or body aches\n",
    "    - Headache\n",
    "    - New loss of taste or smell\n",
    "    - Sore throat\n",
    "    - Congestion or runny nose\n",
    "    - Nausea or vomiting\n",
    "    - Diarrhea\n",
    "- As it is possible that a COVID-19 vaccine might be much more effective in preventing severe versus mild COVID-19, sponsors should consider powering efficacy trials for formal hypothesis testing on a severe COVID-19 endpoint. Regardless, severe COVID-19 should be evaluated as a secondary endpoint (with or without formal hypothesis testing) if not evaluated as a primary endpoint.  FDA recommends that severe COVID-19 be defined as virologically confirmed SARS-CoV-2 infection with any of the following: \n",
    "    - Clinical signs at rest indicative of severe systemic illness (respiratory rate $\\geq$ 30 per minute, heart rate $\\geq$ 125 per minute, SpO2 $\\leq$ 93% on room air see level or PaO2/FiO2 < 300 mm Hg)  \n",
    "    - Respiratory failure (defined as needing high-flow oxygen, noninvasive ventilation, mechanical ventilation or ECMO)\n",
    "    - Evidence of shock (SBP < 90 mm Hg, DBP < 60 mm Hg, or requiring vasopressors) \n",
    "    - Significant acute renal, hepatic, or neurologic dysfunction \n",
    "    - Admission to an ICU  \n",
    "    - Death   \n",
    "- SARS-CoV-2 infection (whether or not symptomatic) should be evaluated as a secondary or exploratory endpoint, if not evaluated as a primary endpoint.   \n",
    "- The above diagnostic criteria may need to be modified in certain populations; for example, in pediatric patients and those with respiratory comorbidities.  Sponsors should discuss their proposed case definitions with the Agency prior to initiating enrollment.  \n",
    "\n"
   ]
  },
  {
   "cell_type": "markdown",
   "id": "21b46fa2-72f1-496f-9d11-2bd6471d9eed",
   "metadata": {},
   "source": [
    "### E. **Statistical Considerations** \n",
    "\n",
    "- To ensure that a widely deployed COVID-19 vaccine is effective, <span class='myhlc110'>the **primary efficacy endpoint** point estimate for **a placebo-controlled efficacy trial** should be **at least 50%**, and the statistical success criterion should be that **the lower bound of the appropriately alpha-adjusted confidence interval around the primary efficacy endpoint point estimate is >30%**.</span>  \n",
    "    - The same statistical success criterion should be used for any **interim analysis** designed for early detection of efficacy. \n",
    "    - A **lower bound $\\leq$ 30% but >0%** may be acceptable as a statistical success criterion **for a secondary efficacy endpoint**, provided that secondary endpoint hypothesis testing is **dependent on success on the primary endpoint**.    \n",
    "- For <span class='myhlc110'>**non-inferiority comparison to a COVID-19 vaccine already proven to be effective**, the statistical success criterion should be that **the lower bound of the appropriately alpha-adjusted confidence interval around the primary relative efficacy point estimate is >-10%**.</span> \n",
    "- For each vaccine candidate, appropriate statistical methods should be used to **control type 1 error for hypothesis testing on multiple endpoints and/or interim efficacy analyses**. \n",
    "- Late phase studies should include interim analyses to **assess risk of vaccine-associated ERD (see section F) and futility**. \n",
    "- Study **sample sizes** and **timing of interim analyses** should be based on the statistical success criteria for **primary and secondary** (if applicable) efficacy analyses and **realistic, data-driven estimates of vaccine efficacy and incidence of COVID-19** (or SARS-CoV-2 infection) for the populations and locales in which the trial will be conducted. "
   ]
  },
  {
   "cell_type": "markdown",
   "id": "579bbe14-f238-4c3e-af39-a002ba0ce3b4",
   "metadata": {},
   "source": [
    "### F. Safety Considerations   \n",
    "\n",
    "- The general safety evaluation of COVID-19 vaccines, including the size of the safety database to support vaccine licensure, should be no different than for other preventive vaccines for infectious diseases.  Safety assessments throughout clinical development should include: \n",
    "    - Solicited local and systemic adverse events for at least 7 days after each study vaccination in an adequate number of study participants to characterize reactogenicity (including at least a subset of participants in late phase efficacy trials).\n",
    "    - Unsolicited adverse events in all study participants for at least 21-28 days after each study vaccination.\n",
    "    - Serious and other medically attended adverse events in all study participants for at least 6 months after completion of all study vaccinations.  Longer safety monitoring may be warranted for certain vaccine platforms (e.g., those that include novel adjuvants). \n",
    "    - All pregnancies in study participants for which the date of conception is prior to vaccination or within 30 days after vaccination should be followed for pregnancy outcomes, including pregnancy loss, stillbirth, and congenital anomalies.   \n",
    "- The pre-licensure safety database for preventive vaccines for infectious diseases typically consists of at least 3,000 study participants vaccinated with the dosing regimen intended for licensure.  FDA anticipates that adequately powered efficacy trials for COVID-19 vaccines will be of sufficient size to provide an acceptable safety database for each of younger adult and elderly populations, provided that no significant safety concerns arise during clinical development that would warrant further pre-licensure evaluation.   \n",
    "- COVID-19 vaccine trials should periodically monitor for unfavorable imbalances between vaccine and control groups in COVID-19 disease outcomes, in particular for cases of severe COVID-19 that may be a signal for vaccine-associated ERD.  \n",
    "    - Studies should include pre-specified criteria for halting based on signals of potential vaccine-associated ERD.  \n",
    "    - FDA recommends use of an independent data safety monitoring board (DSMB) (Ref. 18) for vaccine-associated ERD and other safety signal monitoring, especially during later stage development.     "
   ]
  },
  {
   "cell_type": "markdown",
   "id": "9952948c-0a12-4c89-b213-59a90af4e1db",
   "metadata": {},
   "source": [
    "## VI. POST-LICENSURE SAFETY EVALUATION - KEY CONSIDERATIONS   \n",
    "\n",
    "### A. General Considerations   \n",
    "\n",
    "- As with all licensed vaccines, there can be limitations in the safety database accrued from the pre-licensure clinical studies of a COVID-19 vaccine.  For example: \n",
    "    - The number of subjects receiving a COVID-19 vaccine in pre-licensure clinical studies may not be adequate to detect some adverse reactions that may occur infrequently.\n",
    "    - Pre-licensure safety data in some subpopulations likely to receive a COVID-19 vaccine (e.g., pregnant individuals, or individuals with medical comorbidities) may be limited at the time of licensure.\n",
    "    - For some COVID-19 vaccines, the safety follow-up period to monitor for possible vaccine-associated ERD and other adverse reactions may not have been completed for all subjects enrolled in pre-licensure clinical studies before the vaccine is licensed.\n",
    "- For COVID-19 vaccines, it is likely that during the early postmarketing period, a large population might be vaccinated in a relatively short timeframe.  Thus, FDA recommends early planning of pharmacovigilance activities before licensure.\n",
    "- To facilitate accurate recording and identification of vaccines in health records, manufacturers should consider establishment of individual Current Procedural Terminology (CPT) codes and the use of bar codes to label the immediate container.  \n",
    "\n"
   ]
  },
  {
   "cell_type": "markdown",
   "id": "986cf834-d965-46f7-adae-26783d5a11b4",
   "metadata": {},
   "source": [
    "### B. Pharmacovigilance Activities for COVID-19 Vaccines   \n",
    "\n",
    "- Routine pharmacovigilance for licensed biological products includes expedited reporting of serious and unexpected adverse events as well as periodic safety reports in accordance with 21 CFR 600.80 (Postmarketing reporting of adverse experiences).   \n",
    "- FDA recommends that at the time of a BLA submission for a COVID-19 vaccine, applicants submit a Pharmacovigilance Plan (PVP) as described in the FDA Guidance for Industry; E2E Pharmacovigilance Planning (Ref. 20).  The contents of a PVP for a COVID-19 vaccine will depend on its safety profile and will be based on data, which includes the pre-licensure clinical safety database, preclinical data, and available safety information for related vaccines, among other considerations.    \n",
    "- The PVP should include actions designed to address all important identified risks, important potential risks or important missing information.  Pharmacoepidemiologic studies or other actions to evaluate notable potential risks, such as vaccine-associated ERD, should be considered.  FDA may recommend one or more of the following as components of a PVP for a COVID-19 vaccine:\n",
    "    - Submission of reports of specific adverse events of interest in an expedited manner beyond routine required reporting; \n",
    "    - Submission of adverse event report summaries at more frequent intervals than specified for routine required reporting; \n",
    "    - Ongoing and/or extended safety follow-up (under an IND) for vaccine-associated ERD of subjects enrolled in pre-licensure clinical studies; \n",
    "    - A pharmacoepidemiologic study to further evaluate (an) important identified or potential risk(s) from the clinical development program, such as vaccine-associated ERD or other uncommon or delayed-onset adverse events of special interest; \n",
    "    - A pregnancy exposure registry that actively collects information on vaccination during pregnancy and associated pregnancy and infant outcomes (Ref. 21).  \n"
   ]
  },
  {
   "cell_type": "markdown",
   "id": "1162baa2-af81-4857-967c-341d53bdc617",
   "metadata": {},
   "source": [
    "### C. Required Postmarketing Safety Studies   \n",
    "\n",
    "- Section **505(o)(3)** of the FD&C Act (**21 U.S.C. 355(o)(3)**) authorizes FDA to require certain postmarketing studies or clinical trials for prescription drugs approved under section **505(b)** of the FD&C Act (**21 U.S.C. 355(b)**) and biological products approved under section 351 of the PHS Act (42 U.S.C. 262) (Ref. 22).   Under section 505(o)(3), FDA can require such studies or trials at the time of approval to assess a known serious risk related to the use of the drug, to assess signals of serious risk related to the use of the drug, or to identify an unexpected serious risk when available data indicate the potential for a serious risk.  Under section 505(o)(3), FDA can also require such studies or trials after approval if FDA becomes aware of new safety information, which is defined at section **505-1(b)(3)** of the FD&C Act (**21 U.S.C. 355-1(b)(3)**). \n",
    "- For COVID-19 vaccines, FDA may require postmarketing studies or trials to assess known or potential serious risks when such studies or trials are warranted.     "
   ]
  },
  {
   "cell_type": "markdown",
   "id": "5c69601e-b624-42aa-89be-6faa1123dcbf",
   "metadata": {},
   "source": [
    "## VII. DIAGNOSTIC AND SEROLOGICAL ASSAYS - KEY CONSIDERATIONS   \n",
    "\n",
    "- Diagnostic assays used to support the pivotal efficacy analysis (e.g., RT-PCR) should be sensitive and accurate for the purpose of confirming infection and should be validated before use.   \n",
    "- Assays used for immunogenicity evaluation should be suitable for their intended purpose of assessing relevant immune responses to vaccination and be validated before use in pivotal clinical trials.  "
   ]
  },
  {
   "cell_type": "markdown",
   "id": "ecbd7c4f-4b60-46fd-82b1-2f8413021392",
   "metadata": {},
   "source": [
    "## VIII. ADDITIONAL CONSIDERATIONS  \n",
    "\n",
    "### A. Additional Considerations in Demonstrating Vaccine Effectiveness   \n",
    "\n",
    "- Given the current state of knowledge about COVID-19, the most direct approach to demonstrate effectiveness for a COVID-19 vaccine candidate is based on clinical endpoint efficacy trials showing protection against disease (see section V. D. above).    \n",
    "- Once additional understanding of SARS-CoV-2 immunology, and specifically vaccine immune responses that might be reasonably likely to predict protection against COVID-19, is acquired, accelerated approval of a COVID-19 vaccine pursuant to section 506 of the FD&C Act (21 U.S.C. 356) and 21 CFR 601.40 may be considered if an applicant provides sufficient data and information to meet the applicable legal requirements.  For a COVID-19 vaccine, it may be possible to approve a product under these provisions based on adequate and well-controlled clinical trials establishing an effect of the product on a surrogate endpoint (e.g., immune response) that is reasonably likely to predict clinical benefit.   \n",
    "- A potential surrogate endpoint likely would depend on the characteristics of the vaccine, such as antigen structure, mode of delivery, and antigen processing and presentation in the individual vaccinated.  For example, an immune marker established for an adenovirus-based vaccine cannot be presumed applicable to a VSV-based vaccine, given that the two vaccines present antigen in different ways and engender different types of protective immune responses.   \n",
    "- Since SARS-CoV-2 represents a novel pathogen, a surrogate endpoint reasonably likely to predict protection from COVID-19 should ideally be derived from human efficacy studies examining clinical disease endpoints.  If the surrogate endpoint is derived from other data sources, sponsors should consult the FDA to reach agreement on the use of the surrogate endpoint.   \n",
    "- An adequate dataset evaluating the safety of the vaccine in humans would need to be provided for consideration of licensure.   \n",
    "- For drugs granted accelerated approval, postmarketing confirmatory trials have been required to verify and describe the predicted effect on clinical benefit.  These studies should usually be underway at the time of the accelerated approval, 21 CFR Part 601, Subpart E, and must be completed with due diligence (section 506(c)(3)(A) of the FD&C Act (21 U.S.C. 356(c)(3)(A)) and 21 CFR 601.41).   \n",
    "- If <span class='myhlc110'>it is no longer possible to demonstrate vaccine effectiveness by way of conducting **clinical disease endpoint efficacy studies**, the use of **a controlled human infection model** to obtain evidence to support vaccine efficacy may be considered.  However, many issues, including logistical, human subject protection, ethical, and scientific issues, would need to be satisfactorily addressed.  **At this time no controlled human infection models for SARS-CoV-2 have been established or characterized**.  </span>"
   ]
  },
  {
   "cell_type": "markdown",
   "id": "00ad94d5-a505-4ef5-8af0-9debece88e3d",
   "metadata": {},
   "source": [
    "### B. Emergency Use Authorization   \n",
    "\n",
    "- An Emergency Use Authorization (EUA) may be issued only after several statutory requirements are met (section 564 of the FD&C Act (21 U.S.C. 360bbb-2)) (Ref. 23).  Among these requirements is a determination by FDA that the known and potential benefits of a product, when used to diagnose, prevent, or treat serious or life-threatening diseases, outweigh the known and potential risks of the product.     Issuance of an EUA (Ref. 23) may be appropriate for a COVID-19 vaccine provided the standard for issuing an EUA is met.  \n",
    "- Issuance of an EUA for a COVID-19 vaccine prior to the completion of large randomized clinical efficacy trials could reduce the ability to demonstrate effectiveness of the investigational vaccine in a clinical disease endpoint efficacy trial to support licensure, and such clinical disease endpoint efficacy trials may be needed to investigate the potential for vaccine-associated ERD.  Thus, for a vaccine for which there is adequate manufacturing information, issuance of an EUA may be appropriate once studies have demonstrated the safety and effectiveness of the vaccine but before the manufacturer has submitted and/or FDA has completed its formal review of the biologics license application.     \n",
    "- In the case of investigational vaccines being developed for the prevention of COVID-19, any assessment regarding an EUA would be made on a case by case basis considering the target population, the characteristics of the product, the preclinical and human clinical study data on the product, and the totality of the available scientific evidence relevant to the product."
   ]
  },
  {
   "cell_type": "markdown",
   "id": "34505309-8970-48d6-b717-063f2a440582",
   "metadata": {
    "tags": []
   },
   "source": [
    "## IX. REFERENCES  \n",
    "\n",
    "1. COVID-19 Public Health Emergency: General Considerations for Pre-IND Meeting Requests for COVID-19 Related Drugs and Biological Products; Guidance for Industry, May 2020, https://www.fda.gov/media/137927/download.  \n",
    "2. Guidance for Industry: Process Validation: General Principles and Practices, January 2011, https://www.fda.gov/media/71021/download.  \n",
    "3. Guidance for Industry: Content and Format of Chemistry, Manufacturing and Controls Information and Establishment Description Information for a Vaccine or Related Product, January 1999, https://www.fda.gov/media/73614/download.  \n",
    "4. Perlman S and Dandekar AA, 2005, Immunopathogenesis of Coronavirus Infections: Implications for SARS, Nat Rev Immunol 5: 917-927, https://doi.org/10.1038/nri1732.  \n",
    "5. Haagmans BL, Boudet F, Kuiken T, deLang A, et al., 2005, Protective immunity induced by the inactivated SARS coronavirus vaccine, Abstract S 12-1 Presented at the X International Nidovirus Symposium, Colorado, Springs, CO.  \n",
    "6. Tseng C-T, Sbrana E, Iwata-Yoshikawa N, Newman P, et al., 2012, Immunization with SARS Coronavirus Vaccines Leads to Pulmonary Immunopathology on Challenge with the SARS Virus, PloS One, 7(4): e35421, https://journals.plos.org/plosone/article?id=10.1371/journal.pone.0035421.  \n",
    "7. Yasui F, Kai C, Kitabatake M, Inoue S, et al., 2008, Prior Immunization With Severe Acute Respiratory Syndrome (SARS) - associated Coronavirus (SARS-CoV) Nucleocapsid Protein Causes Severe Pneumonia in Mice Infected with SARS-CoV, J Immunol, 181(9): 6337-6348, https://www.jimmunol.org/content/181/9/6337.long. \n",
    "8. Bolles M, Deming D, Long K, Agnihothram S, et al., 2011, A Double-Inactivated Severe Acute Respiratory Syndrome Coronavirus Vaccine Provides Incomplete Protection In Mice And Induces Increased Eosinophilic Proinflammatory Pulmonary Response Upon Challenge, J Virol 85(23) 12201-12215, https://www.ncbi.nlm.nih.gov/pmc/articles/PMC3209347/.  \n",
    "9. Agrawal AS, Tao X, Algaissi A, Garron T, et al., 2016, Immunization With Inactivated Middle East Respiratory Syndrome Coronavirus Vaccine Leads To Lung Immunopathology On Challenge With Live Virus, Hum Vaccin Immunother, 12(9): 2351-2356, https://www.ncbi.nlm.nih.gov/pmc/articles/PMC5027702/.  \n",
    "10. Guidance for Industry: Considerations For Plasmid DNA Vaccines For Infectious Disease Indications, November 2007, https://www.fda.gov/media/73667/download.  \n",
    "11. [Intentionally left blank.]  \n",
    "12. Guidance for Industry: Considerations For Developmental Toxicity Studies For Preventive And Therapeutic Vaccines For Infectious Disease Indications, February 2006, https://www.fda.gov/media/73986/download. Contains Nonbinding Recommendations 21 \n",
    "13. World Health Organization, WHO Guidelines On Nonclinical Evaluation Of Vaccines,Annex 1, WHO Technical Report Series, 2005; 927:31-63,https://www.who.int/biologicals/publications/trs/areas/vaccines/nonclinical_evaluation/ANNEX%201Nonclinical.P31-63.pdf?ua=1.\n",
    "14. World Health Organization, Guidelines On The Nonclinical Evaluation Of VaccineAdjuvants And Adjuvanted Vaccines, Annex 2, WHO Technical Report Series, TRS 987:59-100, https://www.who.int/biologicals/areas/vaccines/TRS_987_Annex2.pdf?ua=1.\n",
    "15. FDA Guidance on Conduct of Clinical Trials of Medical Products during COVID-19 PublicHealth Emergency; Guidance for Industry, Investigators, and Institutional Review Boards,March 2020 and updated June 2020, https://www.fda.gov/media/136238/download.\n",
    "16. Centers for Disease Control and Prevention, Coronavirus Disease 2019 (COVID-19) At Riskfor Severe Illness, last reviewed May 14, 2020, https://www.cdc.gov/coronavirus/2019-ncov/need-extra-precautions/groups-at-higher-risk.html.\n",
    "17. Pregnant Women:  Scientific and Ethical Considerations for Inclusion in Clinical Trials; DraftGuidance for Industry, April 2018, https://www.fda.gov/media/112195/download.\n",
    "18. *Draft Guidance for Industry: How to Comply with the Pediatric Research Equity Act,September 2005, https://www.fda.gov/media/72274/download.\n",
    "19. *Guidance for Industry: Establishment and Operation of Clinical Trial Data MonitoringCommittees, March 2006, https://www.fda.gov/media/75398/download.\n",
    "20. Guidance for Industry: E2E Pharmacovigilance Planning, April 2005,https://www.fda.gov/media/71238/download.\n",
    "21. Postapproval Pregnancy Safety Studies; Draft Guidance for Industry, May 2019,https://www.fda.gov/media/124746/download.\n",
    "22. *Guidance for Industry: Postmarketing Studies and Clinical Trials - Implementation ofSection 505(o)(3) of the Federal Food, Drug, and Cosmetic Act, April 2011,https://www.fda.gov/media/131980/download.\n",
    "23. Emergency Use Authorization of Medical Products and Related Authorities; Guidance forIndustry and Other Stakeholders, January 2017, https://www.fda.gov/media/97321/download.*When finalized, this guidance will represent FDA's current thinking on this topic.\n"
   ]
  }
 ],
 "metadata": {
  "kernelspec": {
   "display_name": "P3_nbenv",
   "language": "python",
   "name": "nbenv"
  },
  "language_info": {
   "codemirror_mode": {
    "name": "ipython",
    "version": 3
   },
   "file_extension": ".py",
   "mimetype": "text/x-python",
   "name": "python",
   "nbconvert_exporter": "python",
   "pygments_lexer": "ipython3",
   "version": "3.9.12"
  }
 },
 "nbformat": 4,
 "nbformat_minor": 5
}
