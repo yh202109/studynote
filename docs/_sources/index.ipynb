{
 "cells": [
  {
   "cell_type": "markdown",
   "id": "6d10568f-195d-40bb-987f-e7d86012217d",
   "metadata": {},
   "source": [
    "# About"
   ]
  },
  {
   "cell_type": "markdown",
   "id": "8bb6bbbd-2922-4cef-b8b3-cfb4fd97f01e",
   "metadata": {},
   "source": [
    "FDA guidance and related documents:\n",
    "\n",
    "- Searchable list: https://www.fda.gov/regulatory-information/search-fda-guidance-documents \n",
    "- Notification: https://www.federalregister.gov/agencies/food-and-drug-administration\n",
    "- Dockets (comments): https://www.regulations.gov/search/docket?agencyIds=FDA&filter=guidance\n"
   ]
  },
  {
   "cell_type": "markdown",
   "id": "4b06113b-3fb9-40e4-a0c3-5814e63ca5f6",
   "metadata": {},
   "source": [
    ":::{important}\n",
    "This document provides texts extracted from pdf version of original documents. Formats might be changed, e.g. changed from paragraphs to itemized lists. This document is provided AS IS, without warranty of any kind, express or implied, including but not limited to the warranties of merchantability, fitness for a particular purpose and noninfringement. In no event shall the authors or copyright holders be liable for any claim, damages or other liability arising from, out of or in connection with this document.\n",
    ":::"
   ]
  },
  {
   "cell_type": "markdown",
   "id": "f5761e72-4959-4627-aedf-516e3fe65545",
   "metadata": {},
   "source": [
    ":::{note}\n",
    "- \"Guidance documents represent FDA's current thinking on a topic. They do not create or confer any rights for or on any person and do not operate to bind FDA or the public.\" (from https://www.fda.gov/industry/fda-basics-industry/guidances) \n",
    "- 21 CFR 10.115: the Good Guidance Practice regulation\n",
    "- non-binding = \"not legally necessary to obey or follow\" (from Cambridge Dictionary) \n",
    "- Levels 1 vs. level 2  (see 21 CFR § 10.115)\n",
    ":::"
   ]
  },
  {
   "cell_type": "markdown",
   "id": "9503b835-7008-42c8-9ab8-67909d81f49d",
   "metadata": {},
   "source": [
    ":::{admonition} Study Note\n",
    ":class: warning\n",
    "\n",
    "Boxes titled 'Study Note' with any colors are added information (not included in the original pdf version of guidelines)\n",
    "\n",
    ":::"
   ]
  },
  {
   "cell_type": "code",
   "execution_count": 1,
   "id": "929d20b7-ff0d-42db-9f09-8cca542b95e8",
   "metadata": {
    "tags": [
     "hide-input"
    ]
   },
   "outputs": [
    {
     "data": {
      "text/markdown": [
       "There are 2682 documents corresponding to 133 offices or centers on the list. These documents are categorized into 547 topics. Below is a list of 15 topics with highest counts."
      ],
      "text/plain": [
       "<IPython.core.display.Markdown object>"
      ]
     },
     "execution_count": 1,
     "metadata": {},
     "output_type": "execute_result"
    }
   ],
   "source": [
    "import pandas as pd\n",
    "from IPython.display import Markdown as md\n",
    "pd.set_option('display.max_rows', 200, 'display.max_colwidth', None)\n",
    "\n",
    "if(True):\n",
    "    import myutil.pdf2txt\n",
    "    myutil.pdf2txt.fxlsx2csv(\"suppfiles\\\\lstcurrent\")\n",
    "df=pd.read_csv(\"suppfiles\\\\lstcurrent.csv\")\n",
    "df2=df['Topic'].value_counts()\n",
    "df3=df['FDA Organization'].value_counts()\n",
    "md(\"There are \"+str(len(df))+\" documents corresponding to \"+str(len(df3))+\" offices or centers on the list. These documents are categorized into \"+str(len(df2))+\" topics. Below is a list of 15 topics with highest counts.\")\n"
   ]
  },
  {
   "cell_type": "code",
   "execution_count": 38,
   "id": "46fbbb7b-ca13-426b-aa61-f91aa3778eef",
   "metadata": {
    "tags": [
     "hide-input"
    ]
   },
   "outputs": [
    {
     "data": {
      "text/html": [
       "<div>\n",
       "<style scoped>\n",
       "    .dataframe tbody tr th:only-of-type {\n",
       "        vertical-align: middle;\n",
       "    }\n",
       "\n",
       "    .dataframe tbody tr th {\n",
       "        vertical-align: top;\n",
       "    }\n",
       "\n",
       "    .dataframe thead th {\n",
       "        text-align: right;\n",
       "    }\n",
       "</style>\n",
       "<table border=\"1\" class=\"dataframe\">\n",
       "  <thead>\n",
       "    <tr style=\"text-align: right;\">\n",
       "      <th></th>\n",
       "      <th>Topic</th>\n",
       "    </tr>\n",
       "  </thead>\n",
       "  <tbody>\n",
       "    <tr>\n",
       "      <th>Investigation &amp; Enforcement,</th>\n",
       "      <td>169</td>\n",
       "    </tr>\n",
       "    <tr>\n",
       "      <th>Clinical - Medical</th>\n",
       "      <td>131</td>\n",
       "    </tr>\n",
       "    <tr>\n",
       "      <th>Administrative / Procedural</th>\n",
       "      <td>107</td>\n",
       "    </tr>\n",
       "    <tr>\n",
       "      <th>Premarket,</th>\n",
       "      <td>107</td>\n",
       "    </tr>\n",
       "    <tr>\n",
       "      <th>Labeling</th>\n",
       "      <td>64</td>\n",
       "    </tr>\n",
       "    <tr>\n",
       "      <th>Blood Products</th>\n",
       "      <td>61</td>\n",
       "    </tr>\n",
       "    <tr>\n",
       "      <th>Chemistry, Manufacturing, and Controls (CMC), Pharmaceutical Quality</th>\n",
       "      <td>60</td>\n",
       "    </tr>\n",
       "    <tr>\n",
       "      <th>Food &amp; Color Additives</th>\n",
       "      <td>58</td>\n",
       "    </tr>\n",
       "    <tr>\n",
       "      <th>ICH-Quality</th>\n",
       "      <td>55</td>\n",
       "    </tr>\n",
       "    <tr>\n",
       "      <th>Clinical - Antimicrobial</th>\n",
       "      <td>42</td>\n",
       "    </tr>\n",
       "    <tr>\n",
       "      <th>ICH-Efficacy</th>\n",
       "      <td>35</td>\n",
       "    </tr>\n",
       "    <tr>\n",
       "      <th>Investigation &amp; Enforcement, Fruit/Fruit Product</th>\n",
       "      <td>32</td>\n",
       "    </tr>\n",
       "    <tr>\n",
       "      <th>Good Clinical Practice (GCP)</th>\n",
       "      <td>32</td>\n",
       "    </tr>\n",
       "    <tr>\n",
       "      <th>Premarket, 510(k)</th>\n",
       "      <td>30</td>\n",
       "    </tr>\n",
       "    <tr>\n",
       "      <th>Investigation &amp; Enforcement, Vegetable Products</th>\n",
       "      <td>28</td>\n",
       "    </tr>\n",
       "  </tbody>\n",
       "</table>\n",
       "</div>"
      ],
      "text/plain": [
       "                                                    Topic\n",
       "Investigation & Enforcement,                          169\n",
       "Clinical - Medical                                    131\n",
       "Administrative / Procedural                           107\n",
       "Premarket,                                            107\n",
       "Labeling                                               64\n",
       "Blood Products                                         61\n",
       "Chemistry, Manufacturing, and Controls (CMC), P...     60\n",
       "Food & Color Additives                                 58\n",
       "ICH-Quality                                            55\n",
       "Clinical - Antimicrobial                               42\n",
       "ICH-Efficacy                                           35\n",
       "Investigation & Enforcement, Fruit/Fruit Product       32\n",
       "Good Clinical Practice (GCP)                           32\n",
       "Premarket, 510(k)                                      30\n",
       "Investigation & Enforcement, Vegetable Products        28"
      ]
     },
     "execution_count": 38,
     "metadata": {},
     "output_type": "execute_result"
    }
   ],
   "source": [
    "df['Topic'].value_counts().to_frame().head(n=15)"
   ]
  }
 ],
 "metadata": {
  "kernelspec": {
   "display_name": "P3_nbenv",
   "language": "python",
   "name": "nbenv"
  },
  "language_info": {
   "codemirror_mode": {
    "name": "ipython",
    "version": 3
   },
   "file_extension": ".py",
   "mimetype": "text/x-python",
   "name": "python",
   "nbconvert_exporter": "python",
   "pygments_lexer": "ipython3",
   "version": "3.9.13"
  }
 },
 "nbformat": 4,
 "nbformat_minor": 5
}
