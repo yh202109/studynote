{
 "cells": [
  {
   "cell_type": "markdown",
   "id": "2ddf4300-754c-4889-97d9-09d7f9031228",
   "metadata": {},
   "source": [
    "# M10 (2006) BIOANALYTICAL VALIDATION"
   ]
  },
  {
   "cell_type": "code",
   "execution_count": 9,
   "id": "ff3e96b6-3d38-4038-8d15-db6f45d10160",
   "metadata": {
    "tags": [
     "hide-input"
    ]
   },
   "outputs": [
    {
     "data": {
      "text/markdown": [
       "- **title**: BIOANALYTICAL METHOD VALIDATION\n",
       "- **target**: Guidance for Industry\n",
       "- **CDER**: True\n",
       "- **url**: https://www.fda.gov/media/128343/download\n",
       "- **year**: 2019\n",
       "- **keyword**: ['bioanalytical', 'validation']"
      ],
      "text/plain": [
       "<IPython.core.display.Markdown object>"
      ]
     },
     "execution_count": 9,
     "metadata": {},
     "output_type": "execute_result"
    }
   ],
   "source": [
    "if(False):\n",
    "    import sys\n",
    "    sys.path.insert(0, '..')\n",
    "    import myutil.pdf2txt\n",
    "    ns='ch010_ich_m10_y2019_bioanalytical_validation'\n",
    "    print(myutil.pdf2txt.fpdf2txt(ns, True, False)) \n",
    "else:\n",
    "    import pandas as pd\n",
    "    from IPython.display import Markdown as md\n",
    "    meta={\n",
    "        'title': 'M10: BIOANALYTICAL METHOD VALIDATION',\n",
    "        'target': 'Guidance for Industry',\n",
    "        'CDER': True,\n",
    "        'url': 'https://www.fda.gov/media/128343/download',\n",
    "        'year': 2019,\n",
    "        'keyword': [\n",
    "            'bioanalytical','validation'\n",
    "        ]\n",
    "    }\n",
    "\n",
    "md(\"\\n\".join(\"- **{}**: {}\".format(k,v) for k,v in meta.items()))"
   ]
  },
  {
   "cell_type": "markdown",
   "id": "36c9e275-424d-48a8-8478-5d9623878fcb",
   "metadata": {},
   "source": [
    ":::{note}\n",
    "This draft guidance, when finalized, will represent the current thinking of the Food and Drug Administration (FDA or Agency) on this topic. It does not establish any rights for any person and is not binding on FDA or the public. You can use an alternative approach if it satisfies the requirements of the applicable statutes and regulations. To discuss an alternative approach, contact the FDA staff responsible for this guidance as listed on the title page. The draft guidance has been left in the original International Council for Harmonisation format. The final guidance will be reformatted and edited to conform with FDA’s good guidance practice regulation and style.\n",
    ":::"
   ]
  },
  {
   "cell_type": "markdown",
   "id": "968c0619-9a6b-4833-8c82-7c7ce77ab3e9",
   "metadata": {},
   "source": [
    ":::{note}\n",
    "- Draft version 5.1 – Step 1\n",
    "- Endorsed on 7 June 2018\n",
    "- Currently under public consultation\n",
    "- At Step 2 of the ICH Process, a consensus draft text or guideline, agreed by the appropriate ICH Expert Working Group, is transmitted by the ICH Assembly to the regulatory authorities of the ICH regions for internal and external consultation, according to national or regional procedures.\n",
    ":::"
   ]
  },
  {
   "cell_type": "markdown",
   "id": "105ef70b-f09e-40d2-b8e2-6ba2d239db6e",
   "metadata": {},
   "source": [
    ":::{note}\n",
    "**Legal notice**: This document is protected by copyright and may, with the exception of the ICH logo, be **used, reproduced, incorporated into other works, adapted, modified, translated or distributed under a public license provided that ICH's copyright in the document is acknowledged at all times**. In case of any adaption, modification or translation of the document, reasonable steps must be taken to clearly label, demarcate or otherwise identify that changes were made to or based on the original document. Any impression that the adaption, modification or translation of the original document is endorsed or sponsored by the ICH must be avoided. The document is provided \"as is\" without warranty of any kind. In no event shall the ICH or the authors of the original document be liable for any claim, damages or other liability arising from the use of the document.\n",
    "\n",
    "The above-mentioned permissions do not apply to content supplied by third parties. Therefore, for documents where the copyright vests in a third party, permission for reproduction must be obtained from this copyright holder\n",
    ":::"
   ]
  },
  {
   "cell_type": "markdown",
   "id": "bb70e836-4851-4768-b26d-7fd99f4a2bce",
   "metadata": {},
   "source": [
    "TABLE OF CONTENTS\n",
    "\n",
    "- (1) INTRODUCTION\n",
    "    - 1.1 Objective \n",
    "    - 1.2 Background \n",
    "    - 1.3 Scope\n",
    "- (2) GENERAL PRINCIPLES\n",
    "    - 2.1 Method Development \n",
    "    - 2.2 Method Validation\n",
    "        - 2.2.1 Full Validation \n",
    "        - 2.2.2 Partial Validation \n",
    "        - 2.2.3 Cross Validation \n",
    "- (3) CHROMATOGRAPHY\n",
    "    - 3.1 Reference Standards\n",
    "    - 3.2 Validation \n",
    "        - 3.2.1 Selectivity\n",
    "        - 3.2.2 Specificity\n",
    "        - 3.2.3 Matrix Effect\n",
    "        - 3.2.4 Calibration Curve and Range\n",
    "        - 3.2.5 Accuracy and Precision\n",
    "            - 3.2.5.1 Preparation of Quality Control Samples\n",
    "            - 3.2.5.2 Evaluation of Accuracy and Precision\n",
    "        - 3.2.6 Carry-over\n",
    "        - 3.2.7 Dilution Integrity \n",
    "        - 3.2.8 Stability\n",
    "        - 3.2.9 Reinjection Reproducibility \n",
    "    - 3.3 Study Sample Analysis\n",
    "        - 3.3.1 Analytical Run\n",
    "        - 3.3.2 Acceptance Criteria for an Analytical Run\n",
    "        - 3.3.3 Calibration Range \n",
    "        - 3.3.4 Reanalysis of Study Samples\n",
    "        - 3.3.5 Reinjection of Study Samples\n",
    "        - 3.3.6 Integration of Chromatograms\n",
    "- (4) LIGAND BINDING ASSAYS \n",
    "    - 4.1 Key Reagents\n",
    "        - 4.1.1 Reference Standard\n",
    "        - 4.1.2 Critical Reagents\n",
    "    - 4.2 Validation \n",
    "        - 4.2.1 Specificity\n",
    "        - 4.2.2 Selectivity\n",
    "        - 4.2.3 Calibration Curve and Range\n",
    "        - 4.2.4 Accuracy and Precision\n",
    "            - 4.2.4.1 Preparation of Quality Control Samples\n",
    "            - 4.2.4.2 Evaluation of Accuracy and Precision\n",
    "        - 4.2.5 Carry-over\n",
    "        - 4.2.6 Dilution Linearity and Hook Effect\n",
    "        - 4.2.7 Stability\n",
    "    - 4.3 Study Sample Analysis\n",
    "        - 4.3.1 Analytical Run\n",
    "        - 4.3.2 Acceptance Criteria for an Analytical Run.        \n",
    "        - 4.3.3 Calibration Range \n",
    "        - 4.3.4 Reanalysis of Study Samples\n",
    "- (5) INCURRED SAMPLE REANALYSIS  \n",
    "- (6) PARTIAL AND CROSS VALIDATION\n",
    "    - 6.1 Partial Validation\n",
    "    - 6.2 Cross Validation\n",
    "- (7) ADDITIONAL CONSIDERATIONS\n",
    "    - 7.1 Analytes that are also Endogenous Compounds\n",
    "        - 7.1.1 Quality Control Samples\n",
    "        - 7.1.2 Calibration Standards\n",
    "        - 7.1.3 Selectivity, Recovery and Matrix Effects\n",
    "        - 7.1.4 Parallelism\n",
    "        - 7.1.5 Accuracy and Precision\n",
    "        - 7.1.6 Stability\n",
    "    - 7.2 Parallelism\n",
    "    - 7.3 Recovery \n",
    "    - 7.4 Minimum Required Dilution\n",
    "    - 7.5 Commercial and Diagnostic Kits \n",
    "    - 7.6 New or Alternative Technologies \n",
    "        - 7.6.1 Dried Matrix Methods\n",
    "- (8) DOCUMENTATION\n",
    "    - 8.1 Summary Information \n",
    "    - 8.2 Documentation for Validation and Bioanalytical Reports \n",
    "- (9) GLOSSARY        "
   ]
  },
  {
   "cell_type": "markdown",
   "id": "59e4573b-5c53-41ab-871b-2bb39a74244a",
   "metadata": {},
   "source": [
    "## 1. INTRODUCTION\n",
    "\n",
    "### 1.1 Objective \n",
    "\n",
    "This guideline is intended to provide recommendations for **the validation of bioanalytical assays for chemical and biological drug quantification** and **their application in the analysis of study samples**. Adherence to the principles presented in this guideline will improve the quality and consistency of the bioanalytical data in support of the development and market approval of both chemical and biological drugs.\n",
    "\n",
    "The **objective** of the validation of a bioanalytical assay is **to demonstrate that it is suitable for its intended purpose**. Changes from the recommendations in this guideline may be acceptable if appropriate scientific justification is provided. Applicants are encouraged to consult the regulatory authority(ies) regarding significant changes in method validation approaches when an alternate approach is proposed or taken."
   ]
  },
  {
   "cell_type": "markdown",
   "id": "a10a9804-3020-4963-b4da-02414d798d21",
   "metadata": {},
   "source": [
    "### 1.2 Background \n",
    "\n",
    "Concentration measurements of chemical and biological drug(s) and their metabolite(s) in biological matrices are an important aspect of drug development. The results of pivotal nonclinical toxicokinetic (TK)/pharmacokinetic (PK) studies and of clinical trials, including **comparative bioavailability/ bioequivalence (BA/BE) studies**, are used to make regulatory decisions regarding the safety and efficacy of drug products. It is therefore critical that the bioanalytical methods used are **well characterised, appropriately validated and documented** in order to ensure reliable data to support regulatory decisions.\n"
   ]
  },
  {
   "cell_type": "markdown",
   "id": "9c7f15c0-47a3-435a-aeba-91251f7e012f",
   "metadata": {},
   "source": [
    "\n",
    "### 1.3 Scope \n",
    "\n",
    "This guideline describes the method **validation** that is expected for **bioanalytical assays** that are submitted to support regulatory submissions. The guideline is applicable to the **validation of bioanalytical methods used to measure concentrations of chemical and biological drug(s) and their metabolite(s) in biological samples (e.g., blood, plasma, serum, other body fluids or tissues) obtained in pivotal nonclinical TK/PK studies** that are used to make regulatory decisions and all phases of clinical trials in regulatory submissions. Full method validation is expected for the primary matrix(ces) intended to support regulatory submissions. Additional matrices should be partially validated as necessary. The analytes that should be measured in nonclinical and clinical studies and the types of studies necessary to support a regulatory submission are described in other ICH and regional regulatory documents. \n",
    "\n",
    "For studies that are not submitted for regulatory approval or not considered for regulatory decisions regarding safety, efficacy or labelling (e.g., exploratory investigations), applicants may decide on the level of qualification that supports their own internal decision making. \n",
    "\n",
    "The information in this guideline applies to the quantitative analysis by **ligand binding assays (LBAs)** and **chromatographic methods** such as liquid chromatography (**LC**) or gas chromatography (**GC**), which are typically used in combination with mass spectrometry (**MS**) detection and occasionally with other detectors.\n",
    "\n",
    "For studies that are subject to Good Laboratory Practice (**GLP**) or Good Clinical Practice (**GCP**) the bioanalysis of study samples should also conform to their requirements.\n",
    "\n",
    "The bioanalysis of biomarkers and bioanalytical methods used for the assessment of **immunogenicity** are **not within the scope** of this guideline.\n"
   ]
  },
  {
   "cell_type": "markdown",
   "id": "326c20a1-afbe-4e5b-8479-9532d1c8b96f",
   "metadata": {},
   "source": [
    "## 2. GENERAL PRINCIPLES\n",
    "\n",
    "### 2.1 Method Development \n",
    "\n",
    "The purpose of bioanalytical method development is to **define the design, operating conditions, limitations and suitability of the method** for its **intended purpose** and to ensure that the method is optimised for validation.\n",
    "\n",
    "Before the development of a bioanalytical method, the applicant should understand the analyte of interest (e.g., the physicochemical properties of the drug, *in vitro* and *in vivo* metabolism and protein binding) and consider aspects of any prior analytical methods that may be applicable. Method development involves optimising the procedures and conditions involved with extracting and detecting the analyte. \n",
    "\n",
    "Method development can include the optimisation of the following bioanalytical parameters to ensure that the method is suitable for validation:\n",
    "\n",
    "- Reference standards\n",
    "- Critical reagents\n",
    "- Calibration curve\n",
    "- Quality control samples (QCs)\n",
    "- Selectivity and specificity\n",
    "- Sensitivity\n",
    "- Accuracy\n",
    "- Precision\n",
    "- Recovery \n",
    "- Stability of the analyte in the matrix\n",
    "- Minimum Required Dilution (MRD)\n",
    "\n",
    "\n",
    "Bioanalytical method development does not require extensive record keeping or notation. However, the applicant should record the changes to procedures as well as any issues and their resolutions to provide a rationale for any changes made to validated methods immediately prior to or in the course of analysing study samples for pivotal studies.\n",
    "\n",
    "Once the method has been developed, bioanalytical method validation proves that the optimised method is suited to the analysis of the study samples. \n"
   ]
  },
  {
   "cell_type": "markdown",
   "id": "df80b78c-c30d-4db7-aae1-aa97a8f7eefd",
   "metadata": {},
   "source": [
    "\n",
    "### 2.2 Method Validation \n",
    "\n",
    "#### 2.2.1 Full Validation \n",
    "\n",
    "Bioanalytical method validation is essential to ensure the acceptability of assay performance and the reliability of analytical results. A bioanalytical method is defined as **a set of procedures used for measuring analyte concentrations in biological samples**. A **full validation** of a bioanalytical method should be performed when establishing a bioanalytical method for the quantification of an analyte in clinical and in pivotal nonclinical studies. Full validation should also be performed when implementing an analytical method that is reported in the literature and when a commercial kit is repurposed for bioanalytical use in drug development. Usually one analyte has to be determined, but on occasion it may be appropriate to measure more than one analyte. This may involve two different drugs, **a parent drug** with its **metabolites** or the **enantiomers** or **isomers** of a drug. In these cases, the principles of validation and analysis apply to all analytes of interest.\n",
    "\n",
    "For chromatographic methods a full validation should include the following elements: \n",
    "\n",
    "- selectivity, \n",
    "- specificity (if necessary), \n",
    "- matrix effect, \n",
    "- calibration curve (response function), \n",
    "- range (**lower limit of quantification (LLOQ)** to **upper limit of quantification (ULOQ)**), \n",
    "- accuracy, \n",
    "- precision, \n",
    "- carry-over, \n",
    "- dilution integrity, \n",
    "- stability and \n",
    "- reinjection reproducibility.\n",
    "\n",
    "For LBAs the following elements should be evaluated: specificity, selectivity, calibration curve (response function), range (LLOQ to ULOQ), accuracy, precision, carry-over (if necessary), dilution linearity, parallelism (if necessary, conducted during sample analysis) and stability. \n",
    "\n",
    "The matrix used for analytical method validation should be the same as the matrix of the study samples, including anticoagulants and additives. In some cases, it may be difficult to obtain an identical matrix to that of the study samples (e.g., rare matrices such as tissue, cerebrospinal fluid, bile). In such cases surrogate matrices may be acceptable for analytical method validation. The surrogate matrix should be selected and justified scientifically for use in the analytical method. \n",
    "\n",
    "A specific, detailed, written description of the bioanalytical method should be established a priori. This description may be in the form of a protocol, study plan, report, or Standard Operating Procedure (SOP).\n"
   ]
  },
  {
   "cell_type": "markdown",
   "id": "39c8670a-fc6a-4609-9ec5-0438b692675f",
   "metadata": {},
   "source": [
    "#### 2.2.2 Partial Validation \n",
    "\n",
    "**Modifications** to a fully validated analytical method may be evaluated by **partial validation**. Partial validation can range from as little as one accuracy and precision determination to a nearly full validation (Refer to Section 6.1). The items in a partial validation are determined according to the extent and nature of the changes made to the method.\n"
   ]
  },
  {
   "cell_type": "markdown",
   "id": "dd9c3b10-e7ec-433d-93d3-1038d95e088c",
   "metadata": {},
   "source": [
    "#### 2.2.3 Cross Validation \n",
    "\n",
    "Where **data are obtained from different methods within or across studies**, or when **data are obtained within a study from different laboratories applying the same method**, **comparison of those data is needed** and a cross validation of the applied analytical methods should be carried out (Refer to Section 6.2).\n"
   ]
  },
  {
   "cell_type": "markdown",
   "id": "c6232763-4850-4ba2-a387-4974ef55a6b2",
   "metadata": {},
   "source": [
    "\n",
    "### 3. CHROMATOGRAPHY\n",
    "\n",
    "#### 3.1 Reference Standards \n",
    "\n",
    "During method validation and the analysis of study samples, a **blank biological matrix is spiked with the analyte(s) of interest** using solutions of reference standard(s) to prepare **calibration standards, QCs and stability QCs**. **Calibration standards and QCs should be prepared from separate stock solutions**. However, calibration standards and QCs may be prepared from the same stock solution provided the **accuracy and stability of the stock solution** have been verified. \n",
    "\n",
    "A suitable **internal standard (IS)** should be added to all calibration standards, QCs and study samples during sample processing. The absence of an IS should be technically justified. \n",
    "\n",
    "It is important that the **reference standard is well characterised** and the **quality (purity, strength, identity) of the reference standard and the suitability of the IS is ensured**, as the quality will affect the outcome of the analysis and, therefore, the study data. The reference standard used during validation and study sample analysis should be obtained from an authentic and traceable source. The reference standard should be identical to the analyte. If this is not possible, an established form (e.g., salt or hydrate) of known quality may be used. \n",
    "\n",
    "Suitable reference standards include compendial standards, commercially available standards or sufficiently characterised standards prepared in-house or by an external non-commercial organisation. A **certificate of analysis (CoA)** or an equivalent alternative is required to ensure quality and to provide information on the purity, storage conditions, retest/expiration date and batch number of the reference standard.\n",
    "\n",
    "A CoA is not required for the IS as long as the suitability for use is demonstrated, e.g., a lack of analytical interference is shown for the substance itself or any impurities thereof. \n",
    "\n",
    "When MS detection is used, the use of the stable isotope-labelled analyte as the IS is recommended whenever possible. However, it is essential that the **labelled standard** is **of high isotope purity** and that **no isotope exchange reaction occurs**. The presence of unlabelled analyte should be checked and if unlabelled analyte is detected, the potential influence should be evaluated during method validation.\n",
    "\n",
    "Stock and working solutions can only be prepared from reference standards that are within the stability period as documented in the CoA (either expiration date or the retest date in early development phase).\n"
   ]
  },
  {
   "cell_type": "markdown",
   "id": "5333fc82-a6ca-4a11-b8ce-a2dc786d8bbd",
   "metadata": {},
   "source": [
    "\n",
    "### 3.2 Validation\n",
    "\n",
    "#### 3.2.1 Selectivity \n",
    "\n",
    "Selectivity is **the ability of an analytical method to differentiate and measure the analyte in the presence of potential interfering substances in the blank biological matrix**. \n",
    "\n",
    "Selectivity is evaluated using **blank samples (matrix samples processed without addition of an analyte or IS)** obtained from at least **6 individual sources/lots** (non-haemolysed and non-lipaemic). Use of fewer sources may be acceptable in the case of rare matrices. Selectivity for the IS should also be evaluated.\n",
    "\n",
    "The evaluation of selectivity should **demonstrate that no significant response attributable to interfering components is observed** at the retention time(s) of the analyte or the IS in the blank samples. Responses detected and attributable to interfering components should **not be more than 20% of the analyte response at the LLOQ** and **not more than 5% of the IS response in the LLOQ sample** for each matrix.\n",
    "\n",
    "For the investigation of selectivity in **lipaemic matrices** at least one source of matrix should be used. To be scientifically meaningful, the matrix used for these tests should be representative as much as possible of the expected study samples. A naturally lipaemic matrix with abnormally high levels of triglycerides should be obtained from donors. Although it is recommended to use lipaemic matrix from donors, if this is difficult to obtain, it is acceptable to spike matrix with triglycerides even though it may not be representative of study samples. However, if the drug impacts lipid metabolism or if the intended patient population is hyperlipidaemic, the use of spiked samples is discouraged. This evaluation is not necessary for preclinical studies unless the drug impacts lipid metabolism or is administered in a particular animal strain that is hyperlipidaemic.\n",
    "\n",
    "For the investigation of selectivity in haemolysed matrices at least one source of matrix should be used. Haemolysed matrices are obtained by spiking matrix with haemolysed whole blood (at least 2% V/V) to generate a visibly detectable haemolysed sample.\n"
   ]
  },
  {
   "cell_type": "markdown",
   "id": "bd00f70a-0fa8-4730-ab10-5462076764c7",
   "metadata": {},
   "source": [
    "\n",
    "#### 3.2.2 Specificity \n",
    "\n",
    "Specificity is the ability of a bioanalytical method to **detect and differentiate the analyte from other substances**, including its related substances (e.g., substances that are **structurally similar to the analyte, metabolites, isomer, impurities, degradation products** formed during sample preparation, or concomitant medications that are expected to be used in the treatment of patients with the intended indication).\n",
    "\n",
    "If the presence of related substances is anticipated in the biological matrix of interest, the impact of such substances should be evaluated during method validation, or alternatively, in the pre-dose study samples. In the case of LC-MS based methods, to assess the impact of such substances, the evaluation may include comparing the molecular weight of a potential interfering related substance with the analyte and chromatographic separation of the related substance from the analyte. \n",
    "\n",
    "**Responses detected and attributable to interfering components should not be more than 20% of the analyte response at the LLOQ and not more than 5% of the IS response in the LLOQ sample**. The possibility of back-conversion of a metabolite into the parent analyte during the successive steps of the analysis (including extraction procedures or in the MS source) should also be evaluated when relevant (i.e., potentially unstable metabolites such as ester analytes to ester/acidic metabolites, unstable N-oxides or glucuronide metabolites, lactone-ring structures). It is acknowledged that this evaluation will not be possible in the early stages of drug development of a new chemical entity when the metabolism is not yet evaluated. However, it is expected that this issue should be investigated and partial validation performed if needed. The extent of back-conversion, if any, should be established and the impact on the study results discussed in the Bioanalytical Report.\n"
   ]
  },
  {
   "cell_type": "markdown",
   "id": "f6ce4c8f-2408-48b2-94a7-caedcedad11b",
   "metadata": {},
   "source": [
    "#### 3.2.3 Matrix Effect \n",
    "\n",
    "A matrix effect is defined as an alteration of the analyte response due to interfering and often unidentified component(s) in the sample matrix. During method validation it is necessary to evaluate the matrix effect between different independent sources/lots.\n",
    "\n",
    "The matrix effect should be evaluated by analysing at least 3 replicates of low and high QCs, each prepared using matrix from at least 6 different sources/lots. The accuracy should be within ±15% of the nominal concentration and the precision (%CV) should not be greater than 15% in all individual matrix sources/lots. Use of fewer sources/lots may be acceptable in the case of rare matrices. \n",
    "\n",
    "The matrix effect should also be evaluated in relevant patient populations or special populations (e.g., hepatically impaired or renally impaired) when available. An additional evaluation of the matrix effect is recommended using haemolysed or lipaemic matrix samples during method validation on a case by case basis, especially when these conditions are expected to occur within the study. \n"
   ]
  },
  {
   "cell_type": "markdown",
   "id": "bf1c584d-9959-4840-b378-5eedc938cc88",
   "metadata": {},
   "source": [
    "#### 3.2.4 Calibration Curve and Range \n",
    "\n",
    "The calibration curve **demonstrates the relationship between the nominal analyte concentration and the response of the analytical platform to the analyte**. **Calibration standards**, prepared by **spiking matrix with a known quantity of analyte**, span the calibration range and comprise the calibration curve. Calibration standards should be prepared in the same biological matrix as the study samples. The calibration range is defined by the LLOQ, which is the lowest calibration standard, and the ULOQ, which is the highest calibration standard. There should be one calibration curve for each analyte studied during method validation and for each analytical run.\n",
    "\n",
    "<span class='myhlc110'>A calibration curve should be generated with a blank sample, a zero sample (blank sample spiked with IS), and at least 6 concentration levels of calibration standards, including the LLOQ and the ULOQ. </span>\n",
    "\n",
    "<span class='myhlc110'>A simple regression model that adequately describes the concentration-response relationship should be used. The selection of the regression model should be directed by written procedures. The regression model, weighting scheme and transformation should be determined during the method validation. Blank and zero samples should not be included in the determination of the regression equation for the calibration curve. Each calibration standard may be analysed in replicate, in which case data from all acceptable replicates should be used in the regression analysis.</span>\n",
    "\n",
    "The calibration curve parameters should be reported (slope and intercept in the case of a linear model). The back-calculated concentrations of the calibration standards should be presented together with the calculated mean accuracy values. All acceptable curves obtained during validation, based on a minimum of 3 independent runs over several days, should be reported. The accuracy of the back-calculated concentrations of each calibration standard should be within ±20% of the nominal concentration at the LLOQ and within ±15% at all the other levels. At least 75% of the calibration standards with a minimum of 6 calibration standard levels should meet the above criteria. \n",
    "\n",
    "In the case that **replicates** are used, the criteria (within ±15% or ±20% for LLOQ) should also be fulfilled for at least 50% of the calibration standards tested per concentration level. In the case that a calibration standard does not comply with these criteria, this calibration standard sample should be rejected, and the calibration curve without this calibration standard should be re-evaluated, including regression analysis. For accuracy and precision runs, if all replicates of the LLOQ or the ULOQ calibration standard in a run are rejected then the run should be rejected the possible source of the failure should be determined and the method revised if necessary. If the next validation run also fails, then the method should be revised before restarting validation.\n",
    "\n",
    "The calibration curve should be prepared using freshly spiked calibration standards in at least one assessment. Subsequently, frozen calibration standards can be used within their defined period of stability.\n"
   ]
  },
  {
   "cell_type": "markdown",
   "id": "ca53860b-e6cf-4d00-9ea2-270f8b1b5151",
   "metadata": {},
   "source": [
    "#### 3.2.5 Accuracy and Precision \n",
    "\n",
    "##### 3.2.5.1 Preparation of Quality Control Samples \n",
    "\n",
    "The QCs are intended to mimic study samples and should be prepared by spiking matrix with a known quantity of analyte, storing them under the conditions anticipated for study samples and analysing them to assess the validity of the analytical method. \n",
    "\n",
    "Calibration standards and the QCs should be prepared from separate stock solutions in order to avoid biased estimations which are not related to the analytical performance of the method. However, calibration standards and the QCs may be prepared from the same stock solution, provided the accuracy and stability of the stock solution have been verified. A single source of blank matrix may be used, which should be free of interference or matrix effects, as described in Section 3.2.3.\n",
    "\n",
    "During method validation the QCs should be prepared at a minimum of 4 concentration levels within the calibration curve range: the LLOQ, within three times of the LLOQ (low QC), around 30 - 50% of the calibration curve range (medium QC) and at least 75% of the ULOQ (high QC).\n"
   ]
  },
  {
   "cell_type": "markdown",
   "id": "f84422c6-3300-477d-81de-1759cc9391ca",
   "metadata": {},
   "source": [
    "\n",
    "\n",
    "##### 3.2.5.2 Evaluation of Accuracy and Precision \n",
    "\n",
    "Accuracy and precision should be determined by **analysing the QCs within each run (within-run)** and **in different runs (between-run)**. Accuracy and precision should be evaluated using the same runs and data.\n",
    "\n",
    "- **Within-run accuracy and precision** should be evaluated by **analysing at least 5 replicates at each QC concentration level in each analytical run**. \n",
    "- **Between-run accuracy and precision** should be evaluated by **analysing each QC concentration level in at least 3 analytical runs over at least two days**. \n",
    "- To enable the evaluation of any trends over time within one run, it is recommended to demonstrate accuracy and precision of the QCs over at least one of the runs in a size equivalent to a prospective analytical run of study samples. \n",
    "- Reported method validation data and the determination of accuracy and precision should include all results obtained, including individual QCs outside of the acceptance criteria, except those cases where errors are obvious and documented. \n",
    "- **Within-run** accuracy and precision data should be reported for each run. If the within-run accuracy or precision criteria are not met in all runs, an overall estimate of within-run accuracy and precision for each QC level should be calculated. \n",
    "- **Between-run** (intermediate) precision and accuracy should be calculated by combining the data from all runs. \n",
    "- **The calibration curves** for these assessments should be prepared using freshly spiked calibration standards in at least one run. If freshly spiked calibration standards are not used in the other runs, stability of the frozen calibration standards should be demonstrated.\n",
    "- **The overall accuracy** at each concentration level should be within ±15% of the nominal concentration, except **at the LLOQ**, where it should **be within ±20%**. \n",
    "- **The precision (%CV)** of the concentrations determined at each level should **not exceed 15%**, except **at the LLOQ**, where it should **not exceed 20%**.\n"
   ]
  },
  {
   "cell_type": "markdown",
   "id": "3ae51d2a-a8b5-45c0-b399-7b5d3ddb73a1",
   "metadata": {},
   "source": [
    "#### 3.2.6 Carry-over \n",
    "\n",
    "Carry-over is an alteration of a measured concentration due to residual analyte from a preceding sample that remains in the analytical instrument. \n",
    "\n",
    "Carry-over should be assessed and minimised during method development. During validation carry-over should be assessed by analysing blank samples after the calibration standard at the ULOQ. Carry-over in the blank samples following the highest calibration standard should not be greater than 20% of the analyte response at the LLOQ and 5% of the response for the IS. If it appears that carry-over is unavoidable, study samples should not be randomised. Specific measures should be considered, tested during the validation and applied during the analysis of the study samples, so that carry-over does not affect accuracy and precision. This could include the injection of blank sample(s) after samples with an expected high concentration, before the next study sample.\n"
   ]
  },
  {
   "cell_type": "markdown",
   "id": "68518afd-685d-4fb9-b18c-567bc290d151",
   "metadata": {},
   "source": [
    "\n",
    "#### 3.2.7 Dilution Integrity \n",
    "\n",
    "Dilution integrity is **the assessment of the sample dilution procedure**, when required, **to confirm that it does not impact the accuracy and precision of the measured concentration of the analyte**. The same matrix from the same species used for preparation of the QCs should be used for dilution.\n",
    "\n",
    "Dilution QCs should be prepared with analyte concentrations in matrix that are **greater than the ULOQ** and then **diluted with blank matrix**. **At least 5 replicates per dilution factor** should be tested in **one run** to determine if concentrations are accurately and precisely measured within the calibration range. The dilution ratio(s) applied during study sample analysis should be **within** the range of the dilution ratios evaluated during validation. **The mean accuracy of the dilution QCs should be within ±15% of the nominal concentration** and **the precision (%CV) should not exceed 15%**.\n",
    "\n",
    "In the cases of rare matrices, use of a surrogate matrix for dilution may be acceptable, as long as it has been demonstrated that this does not affect precision and accuracy.\n"
   ]
  },
  {
   "cell_type": "markdown",
   "id": "dc7f160f-b19e-4ff9-aab2-e6a96156d534",
   "metadata": {},
   "source": [
    "\n",
    "\n",
    "#### 3.2.8 Stability\n",
    "\n",
    "Stability evaluations should be carried out **to ensure that every step taken during sample preparation, processing and analysis as well as the storage conditions used do not affect the concentration** of the analyte. \n",
    "\n",
    "The storage and analytical conditions applied to the stability tests, such as the sample **storage times and temperatures**, **sample matrix**, **anticoagulant and container materials**, should reflect those used for the study samples. **Reference to data published in the literature is not considered sufficient**. Validation of storage periods should be performed on stability QCs that have been stored for a time that is equal to or longer than the study sample storage periods.\n",
    "\n",
    "Stability of the analyte in the studied matrix is evaluated using low and high concentration stability QCs. Aliquots of the low and high stability QCs are analysed at time zero and after the applied storage conditions that are to be evaluated. A minimum of three stability QCs should be prepared and analysed per concentration level/storage condition/timepoint.\n",
    "\n",
    "The stability QCs are analysed against **a calibration curve, obtained from freshly spiked calibration standards in a run with its corresponding freshly prepared QCs** or QCs for which stability has been proven. The mean concentration at each QC level should be within ±15% of the nominal concentration. If the concentrations of the study samples are consistently higher than the ULOQ of the calibration range, the concentration of the high stability QC should be adjusted to reflect these higher concentrations. It is recognised that this may not be possible in nonclinical studies due to solubility limitations.\n",
    "\n",
    "If multiple analytes are present in the study samples (e.g., studies with a fixed combination, or due to a specific drug regimen) the stability test of an analyte in matrix should be conducted with the matrix containing all of the analytes.\n",
    "\n",
    "The following stability tests should be evaluated:\n",
    "\n",
    "##### 1) Stability of stock and working **solutions** \n",
    "\n",
    "The stability of the stock and working solutions of the analyte and IS should be **determined under the storage conditions used during the analysis of study samples** by using **the lowest and the highest concentrations of these solutions**. They are assessed using the response of the detector. Stability of the stock and working solutions should be tested with an appropriate dilution, taking into consideration the **linearity** and **measuring range** of the detector. If the stability varies with concentration, then the stability of all concentrations of the stock and working solutions needs to be assessed. If no isotopic exchange occurs for the stable isotope-labelled IS under the same storage conditions as the analyte for which the stability is demonstrated, then no additional stability determinations for the IS are necessary. \n",
    "\n",
    "If the reference standard expires, or it is past the retest date, the stability of the stock solutions made previously with this lot of reference standard are defined by the expiration or retest date established for the stock solution. The routine practice of making stock and working solutions from reference standards solely for extending the expiry date for the use of the reference standard is not acceptable. \n",
    "\n",
    "##### 2) **Freeze-thaw matrix** stability\n",
    "\n",
    "To assess the impact of repeatedly removing samples from frozen storage, the stability of the analyte should be assessed after multiple cycles of freezing and thawing. Low and high stability QCs should be thawed and analysed according to the same procedures as the study samples. Stability QCs should be kept frozen for at least 12 hours between the thawing cycles. Stability QCs for freeze-thaw stability should be assessed using freshly prepared calibration standards and QCs or QCs for which stability has been proven. The number of freeze-thaw cycles validated should equal or exceed that of the freeze-thaw cycles undergone by the study samples, but a minimum of three cycles should be conducted.\n",
    "\n",
    "##### 3) **Bench top (short-term) matrix** stability\n",
    "\n",
    "Bench top matrix stability experiments should be designed and conducted to cover the laboratory handling conditions for the study samples. Low and high stability QCs should be thawed in the same manner as the study samples and kept on the bench top at the same temperature and for at least the same duration as the study samples.\n",
    "\n",
    "The total time on the bench top should be concurrent; it is not acceptable to use additive exposure to bench top conditions (i.e., adding up time from each freeze-thaw evaluation is not acceptable).\n",
    "\n",
    "##### 4) Processed sample stability\n",
    "\n",
    "The stability of processed samples, including the time until completion of analysis (in the autosampler/instrument), should be determined. For example:\n",
    "\n",
    "- Stability of the processed sample at the storage conditions to be used during the analysis of study samples (dry extract or in the injection phase) \n",
    "- On-instrument/ autosampler stability of the processed sample at injector or autosampler temperature. \n",
    "\n",
    "##### 5) **Long-term matrix** stability\n",
    "\n",
    "The long-term stability of the analyte in matrix stored in the freezer should be established. Low and high stability QCs should be stored in the freezer under the same storage conditions and at least for the same duration as the study samples. \n",
    "\n",
    "For **chemical drugs**, it is considered acceptable to extrapolate the stability at one temperature (e.g., -20°C) to lower temperatures (e.g., -70°C).\n",
    "\n",
    "For **biological drugs**, it is acceptable to apply a bracketing approach, e.g., in the case that the stability has been demonstrated at -70°C and at -20°C, then it is not necessary to investigate the stability at temperatures in between those two points at which study samples will be stored.\n",
    "\n",
    "In addition, the following test should be performed if applicable:\n",
    "\n",
    "##### 6) **Whole blood** stability\n",
    "\n",
    "Sufficient attention should be paid to the stability of the analyte in the sampled matrix (blood) directly after collection from subjects and prior to preparation for storage to ensure that the concentrations obtained by the analytical method reflect the concentrations of the analyte in the subject’s blood at the time of sample collection. If the matrix used is plasma or serum, the stability of the analyte in blood should be evaluated during method development (e.g., using an exploratory method in blood) or during method validation. The results should be provided in the Validation Report.\n"
   ]
  },
  {
   "cell_type": "markdown",
   "id": "4ffabd9c-3daf-4356-9734-36e413930867",
   "metadata": {},
   "source": [
    "\n",
    "#### 3.2.9 Reinjection Reproducibility \n",
    "\n",
    "**Reproducibility** of the method is assessed by **replicate measurements of the QCs** and is usually included in the assessment of precision and accuracy. However, if samples could be reinjected (e.g., in the case of instrument interruptions or other reasons such as equipment failure), reinjection reproducibility should be evaluated and included in the Validation Report or provided in the Bioanalytical Report of the study where it was conducted.\n"
   ]
  },
  {
   "cell_type": "markdown",
   "id": "4455179d-b787-4c32-99b7-a712533e697a",
   "metadata": {},
   "source": [
    "### 3.3 Study Sample Analysis \n",
    "\n",
    "The analysis of study samples can be carried out after **validation** has been completed, however, it is understood that some parameters may be completed at a later stage (e.g., long-term stability). By the time the data are submitted to a regulatory authority, the bioanalytical method validation should have been completed. The **study samples, QCs and calibration standards** should be processed in accordance with the validated analytical method. If system suitability is assessed, a predefined specific study plan, protocol or SOP should be used. System suitability, including apparatus conditioning and instrument performance, should be determined using samples that are independent of the calibration standards and QCs for the run. Subject samples should not be used for system suitability. The IS responses of the study samples should be monitored to determine whether there is systemic IS variability. Refer to Table 1 for expectations regarding documentation.\n"
   ]
  },
  {
   "cell_type": "markdown",
   "id": "2a0471c2-1d36-4fd2-8d98-9da29d8e205b",
   "metadata": {},
   "source": [
    "#### 3.3.1 Analytical Run \n",
    "\n",
    "An analytical run consists of \n",
    "\n",
    "- a **blank sample (processed matrix sample without analyte and without IS)**, \n",
    "- a **zero sample (processed matrix with IS)**, \n",
    "- **calibration standards at a minimum of 6 concentration levels**, \n",
    "- **at least 3 levels of QCs (low, medium and high) in duplicate** (or at least 5% of the number of study samples, whichever is higher) and \n",
    "- the **study samples to be analysed**. \n",
    "\n",
    "The QCs should be divided over the run in such a way that the accuracy and precision of the whole run is ensured. **Study samples should always be bracketed by QCs**.\n",
    "\n",
    "The **calibration standards and QCs should be spiked independently** using separately prepared stock solutions, unless the accuracy and stability of the stock solutions have been verified. All samples (calibration standards, QCs and study samples) should be processed and extracted as one single batch of samples in the order in which they are intended to be analysed. A single batch is comprised of study samples and QCs which are handled during a fixed period of time and by the same group of analysts with the same reagents under homogeneous conditions. \n",
    "\n",
    "Analysing samples that were processed as several separate batches in a single analytical run is discouraged. If such an approach cannot be avoided, for instance due to bench top stability limitations, each batch of samples should include low, medium and high QCs.\n",
    "\n",
    "**Acceptance criteria** should be pre-established **in an SOP or in the study plan** and should be defined for the whole analytical run and the separate batches in the run, if applicable. For **comparative BA/BE studies** it is advisable to analyse all samples of **one subject** together in one analytical run to reduce variability.\n",
    "\n",
    "The impact of any **carry-over** that occurs during study sample analysis should be assessed and reported (Refer to Section 3.2.6). If carry-over is detected **its impact on the measured concentrations should be mitigated** (e.g., non-randomisation of study samples, injection of blank samples after samples with an expected high concentration) or **the validity of the reported concentrations** should be justified in the Bioanalytical Report.\n"
   ]
  },
  {
   "cell_type": "markdown",
   "id": "e30083e2-f70a-458e-bec6-c9fda7799814",
   "metadata": {},
   "source": [
    "\n",
    "#### 3.3.2 Acceptance Criteria for an Analytical Run\n",
    "\n",
    "**Criteria for the acceptance or rejection of an analytical run** should be defined in the protocol, in the study plan or in an SOP. In the case that a run contains multiple batches, acceptance criteria should be applied to the whole run and to the individual batches. It is possible for the run to meet acceptance criteria, even if a batch within that run is rejected for failing to meet the batch acceptance criteria.\n",
    "\n",
    "**The back-calculated concentrations of the calibration standards should be within ±15% of the nominal value**, except **for the LLOQ for which it should be within ±20%**. At least **75% of the calibration standard concentrations**, with **a minimum of six concentration levels**, should fulfil these criteria. If more than 6 calibration standard levels are used and one of the calibration standards does not meet the criteria, this calibration standard should be **rejected** and the calibration curve without this calibration standard should be re-evaluated and a new regression analysis performed.\n",
    "\n",
    "If the rejected calibration standard is the LLOQ, the new lower limit for this analytical run is the next lowest acceptable calibration standard of the calibration curve. This new lower limit calibration standard will retain its original acceptance criteria (i.e., ±15%). If the highest calibration standard is rejected, the ULOQ for this analytical run is the next acceptable highest calibration standard of the calibration curve. The revised calibration range should cover at least 3 QC concentration levels (low, medium and high). Study samples outside of the revised range should be reanalysed. If replicate calibration standards are used and only one of the LLOQ or ULOQ standards fails, the calibration range is unchanged. \n",
    "\n",
    "At least **2/3 of the total QCs** and at least **50% at each concentration level** should be **within ±15% of the nominal values**. If these criteria are not fulfilled the analytical run should be rejected. A new analytical batch needs to be prepared for all study samples within the failed analytical run for subsequent analysis. In the cases where the failure is due to an assignable technical cause, samples may be reinjected.\n",
    "\n",
    "Analytical runs containing samples that are diluted and reanalysed should include dilution QCs to verify the accuracy and precision of the dilution method during study sample analysis. The concentration of the dilution QCs should exceed that of the study samples being diluted (or of the ULOQ) and they should be diluted using the same dilution factor. The within-run acceptance criteria of the dilution QC(s) will only affect the acceptance of the diluted study samples and not the outcome of the analytical run.\n",
    "\n",
    "When several analytes are assayed simultaneously, there should be one calibration curve for each analyte studied. If an analytical run is acceptable for one analyte but has to be rejected for another analyte, the data for the accepted analyte should be used. The determination of the rejected analyte requires a reextracted analytical batch and analysis. The back-calculated concentrations of the calibration standards and QCs of passed and accepted runs should be reported. The overall (between-run) accuracy and precision of the QCs of all accepted runs should be calculated at each concentration level and reported in the analytical report (Refer to Section 8 Documentation and Table 1). If the overall mean accuracy or precision fails the 15% criterion, an investigation to determine the cause of the deviation should be conducted. In the case of comparative BA/BE studies it may result in the rejection of the data.\n",
    "\n"
   ]
  },
  {
   "cell_type": "markdown",
   "id": "0353c665-6350-48ed-8760-8f55b305fc8f",
   "metadata": {},
   "source": [
    "\n",
    "#### 3.3.3 Calibration Range\n",
    "\n",
    "If a narrow range of analyte concentrations of the study samples is known or anticipated before the start of study sample analysis, it is recommended to either narrow the calibration curve range, adapt the concentrations of the QCs, or add new QCs at different concentration levels as appropriate, to adequately reflect the concentrations of the study samples. \n",
    "\n",
    "At the intended therapeutic dose(s), if an unanticipated clustering of study samples at one end of the calibration curve is encountered after the start of sample analysis, the analysis should be stopped and either the standard calibration range narrowed (i.e., partial validation), existing QC concentrations revised, or QCs at additional concentrations added to the original curve within the observed range before continuing with study sample analysis. It is not necessary to reanalyse samples analysed before optimising the calibration curve range or QC concentrations. \n",
    "\n",
    "The same applies if a large number of the analyte concentrations of the study samples are above the ULOQ. The calibration curve range should be changed, if possible, and QC(s) added or their concentrations modified. If it is not possible to change the calibration curve range or the number of samples with a concentration above the ULOQ is not large, samples should be diluted according to the validated dilution method.\n",
    "\n",
    "At least 2 QC levels should fall within the range of concentrations measured in study samples. If the calibration curve range is changed, the bioanalytical method should be revalidated (partial validation) to verify the response function and to ensure accuracy and precision.\n"
   ]
  },
  {
   "cell_type": "markdown",
   "id": "4b7c9cec-31f1-4db4-a8c9-ed75ce69b3a0",
   "metadata": {},
   "source": [
    "\n",
    "\n",
    "#### 3.3.4 Reanalysis of Study Samples \n",
    "\n",
    "Possible reasons for reanalysis of study samples, the number of replicates and the decision criteria to select the value to be reported should be predefined in the protocol, study plan or SOP, before the actual start of the analysis of the study samples. \n",
    "\n",
    "The number of samples (and percentage of total number of samples) that have been reanalysed should be reported and discussed in the Bioanalytical Report.\n",
    "\n",
    "Some examples of reasons for study sample reanalysis are:\n",
    "\n",
    "- Rejection of an analytical run because the run failed the acceptance criteria with regard to accuracy of the calibration standards and/or the precision and accuracy of the QCs\n",
    "- IS response significantly different from the response for the calibration standards and QCs (as pre-defined in an SOP)\n",
    "- The concentration obtained is above the ULOQ\n",
    "- The concentration observed is below the revised LLOQ in runs where the lowest calibration standard has been rejected from a calibration curve, resulting in a higher LLOQ compared with other runs\n",
    "- Improper sample injection or malfunction of equipment\n",
    "- The diluted study sample is below the LLOQ\n",
    "- Identification of quantifiable analyte levels in pre-dose samples, control or placebo samples\n",
    "- Poor chromatography (as pre-defined in an SOP)\n",
    "\n",
    "For comparative BA/BE studies, reanalysis of study samples for a PK reason (e.g., a sample concentration does not fit with the expected profile) is not acceptable, as it may bias the study result.\n",
    "\n",
    "Any reanalysed samples should be identified in the Bioanalytical Report and the initial value, the reason for reanalysis, the values obtained in the reanalyses, the final accepted value and a justification for the acceptance should be provided. Further, a summary table of the total number of samples that have been reanalysed for each reason should be provided. In cases where the first analysis yields a non-reportable result, a single reanalysis is considered sufficient (e.g., concentration above the ULOQ or equipment malfunction). In cases where the value needs to be confirmed (e.g., pre-dose sample with measurable concentrations) replicate determinations are required if sample volume allows.\n",
    "\n",
    "The safety of trial subjects should take precedence over any other aspect of the trial. Consequently, there may be other circumstances when it is necessary to reanalyse specific study samples for the purpose of an investigation. \n"
   ]
  },
  {
   "cell_type": "markdown",
   "id": "828a5610-01d6-4aad-9fda-f03fe67bb777",
   "metadata": {},
   "source": [
    "#### 3.3.5 Reinjection of Study Samples\n",
    "\n",
    "Reinjection of processed samples can be made in the case of equipment failure if reinjection reproducibility has been demonstrated during validation or provided in the Bioanalytical Report where it was conducted. Reinjection of a full analytical run or of individual calibration standards or QCs simply because the calibration standards or QCs failed, without any identified analytical cause, is not acceptable.\n"
   ]
  },
  {
   "cell_type": "markdown",
   "id": "ca3cd0ad-f6ff-4103-bf1e-c798dda7d552",
   "metadata": {},
   "source": [
    "#### 3.3.6 Integration of Chromatograms \n",
    "\n",
    "Chromatogram integration and reintegration should be described in a study plan, protocol or SOP. Any deviation from the procedures described a priori should be discussed in the Bioanalytical Report. The list of chromatograms that required reintegration, including any manual integrations, and the reasons for reintegration should be included in the Bioanalytical Report. Original and reintegrated chromatograms and initial and repeat integration results should be kept for future reference and submitted in the Bioanalytical Report for comparative BA/BE studies.\n"
   ]
  },
  {
   "cell_type": "markdown",
   "id": "54754d2f-5010-43d7-9126-0691427d2727",
   "metadata": {},
   "source": [
    "## 4. LIGAND BINDING ASSAYS\n",
    "\n",
    "### 4.1 Key Reagents\n",
    "\n",
    "#### 4.1.1 Reference Standard \n",
    "\n",
    "The reference standard should be well characterised and documented (e.g., CoA and origin). A biological drug has a highly complex structure and its reactivity with binding reagents for bioanalysis may be influenced by a change in the manufacturing process of the drug substance. It is recommended that the manufacturing batch of the reference standard used for the preparation of calibration standards and QCs is derived from the same batch of drug substance as that used for dosing in the nonclinical and clinical studies whenever possible. If the reference standard batch used for bioanalysis is changed, bioanalytical evaluation should be carried out prior to use to ensure that the performance characteristics of the method are within the acceptance criteria.\n"
   ]
  },
  {
   "cell_type": "markdown",
   "id": "dfacd9b8-bbc1-41e9-95a4-9ee9014f69cf",
   "metadata": {},
   "source": [
    "\n",
    "\n",
    "#### 4.1.2 Critical Reagents \n",
    "\n",
    "Critical reagents, including binding reagents (e.g., binding proteins, aptamers, antibodies or conjugated antibodies) and those containing enzymatic moieties, have direct impact on the results of the assay and, therefore, their quality should be assured. Critical reagents bind the analyte and, upon interaction, lead to an instrument signal corresponding to the analyte concentration. The critical reagents should be identified and defined in the assay method.\n",
    "\n",
    "Reliable procurement of critical reagents, whether manufactured in-house or purchased commercially, should be considered early in method development. The data sheet for the critical reagent should include at a minimum identity, source, batch/lot number, purity (if applicable), concentration (if applicable) and stability/storage conditions (Refer to Table 1). Additional characteristics may be warranted.\n",
    "\n",
    "A critical reagent lifecycle management procedure is necessary to ensure consistency between the original and new batches of critical reagents. Reagent performance should be evaluated using the bioanalytical assay. Minor changes to critical reagents would not be expected to influence the assay performance, whereas major changes may significantly impact the performance. If the change is minor (e.g., the source of one reagent is changed), a single comparative accuracy and precision assessment is sufficient for characterisation. If the change is major, then additional validation experiments are necessary. Ideally, assessment of changes will compare the assay with the new reagents to the assay with the old reagents directly. Major changes include, but are not limited to, change in production method of antibodies, additional blood collection from animals for polyclonal antibodies and new clones or new supplier for monoclonal antibody production.\n",
    "\n",
    "Retest dates and validation parameters should be documented in order to support the extension or replacement of the critical reagent. Stability testing of the reagents should be based upon the performance in the bioanalytical assay and be based upon general guidance for reagent storage conditions and can be extended beyond the expiry date from the supplier. The performance parameters should be documented in order to support the extension or replacement of the critical reagent."
   ]
  },
  {
   "cell_type": "markdown",
   "id": "fe536a56-644e-42cc-a901-51afa0af25ca",
   "metadata": {},
   "source": [
    "### 4.2 Validation \n",
    "\n",
    "When using LBA, study samples can be analysed using an assay format of 1 or more well(s) per sample. The assay format should be specified in the protocol, study plan or SOP. If method development and assay validation are performed using 1 or more well(s) per sample, then study sample analysis should also be performed using 1 or more well(s) per sample, respectively. If multiple wells per sample are used, the reportable sample concentration value should be determined either by calculating the mean of the responses from the replicate wells or by averaging the concentrations calculated from each response. Data evaluation should be performed on reportable concentration values.\n"
   ]
  },
  {
   "cell_type": "markdown",
   "id": "486add96-5150-4036-864c-f45a07709888",
   "metadata": {},
   "source": [
    "#### 4.2.1 Specificity \n",
    "\n",
    "Specificity is **evaluated by spiking blank matrix samples with related molecules at the maximal concentration(s)** of the structurally related molecule anticipated in study samples. \n",
    "\n",
    "**The accuracy of the target analyte at the LLOQ and at the ULOQ** should be investigated in the presence of related molecules at the maximal concentration(s) anticipated in study samples. The response of blank samples spiked with related molecules should be below the LLOQ. The accuracy of the target analyte in presence of related molecules should be **within ±25% of the nominal values**. \n",
    "\n",
    "In the event of non-specificity, the **impact on the method** should be evaluated by spiking increasing concentrations of interfering molecules in blank matrix and measuring the accuracy of the target analyte at the LLOQ and ULOQ. It is essential to determine the minimum concentration of the related molecule where interference occurs. Appropriate mitigation during sample analysis should be employed, e.g., it may be necessary to adjust the LLOQ/ULOQ- accordingly or consider a new method.\n",
    "\n",
    "During method development and early assay validation, these “related molecules” are frequently not available. Additional evaluation of specificity may be conducted after the original validation is completed.\n"
   ]
  },
  {
   "cell_type": "markdown",
   "id": "21cdfc7f-8a11-4ccf-9f11-004ced00fe59",
   "metadata": {},
   "source": [
    "#### 4.2.2 Selectivity \n",
    "\n",
    "Selectivity is **the ability of the method to detect and differentiate the analyte of interest in the presence of other “unrelated compounds”** (non-specific interference) in the sample matrix. The matrix can contain non-specific matrix component such as degrading enzymes, heterophilic antibodies or rheumatoid factor which may interfere with the analyte of interest.\n",
    "\n",
    "Selectivity should be **evaluated at the low end of an assay** where problems occur in most cases, but it is recommended that selectivity is also evaluated at higher analyte concentrations. Therefore, selectivity is evaluated using blank samples obtained from at least 10 individual sources and by spiking the individual blank matrices at the LLOQ and at the high QC level.\n",
    "\n",
    "The response of the blank samples should be below the LLOQ in at least 80% of the individual sources.\n",
    "\n",
    "The accuracy should be **within ±25% at the LLOQ** and **within ±20% at the high QC level of the nominal concentration** in at least 80% of the individual sources evaluated. \n",
    "\n",
    "Selectivity should be evaluated in lipaemic samples and haemolysed samples (Refer to Section 3.2.1). For lipaemic and haemolysed samples, tests can be evaluated once using a single source of matrix. Selectivity should be assessed in samples from relevant patient populations. In the case of relevant patient populations there should be at least five individual patients.\n"
   ]
  },
  {
   "cell_type": "markdown",
   "id": "16e00b20-3270-4759-8971-f016f11c6ce8",
   "metadata": {},
   "source": [
    "#### 4.2.3 Calibration Curve and Range \n",
    "\n",
    "The calibration curve demonstrates the relationship between the nominal analyte concentration and the response of the analytical platform to the analyte. Calibration standards, prepared by spiking matrix with a known quantity of analyte, span the calibration range and comprise the calibration curve. Calibration standards should be prepared in the same biological matrix as the study samples. The calibration range is defined by the LLOQ, which is the lowest calibration standard, and the ULOQ, which is the highest calibration standard. There should be one calibration curve for each analyte studied during method validation and for each analytical run.\n",
    "\n",
    "A calibration curve should be generated with at least 6 concentration levels of calibration standards, including LLOQ and ULOQ standards, plus a blank sample. The blank sample should not be included in the calculation of calibration curve parameters. Anchor point samples at concentrations below the LLOQ and above the ULOQ of the calibration curve may also be used to improve curve fitting. The relationship between response and concentration for a calibration curve is most often fitted by a 4- or 5-parameter logistic model if there are data points near the lower and upper asymptotes, although other models may be used with suitable justification.\n",
    "\n",
    "A minimum of 6 independent runs should be evaluated over several days considering the factors that may contribute to between-run variability.\n",
    "\n",
    "The accuracy and precision of back-calculated concentrations of each calibration standard should be within ±25% of the nominal concentration at the LLOQ and ULOQ, and within ±20% at all other levels. At least 75% of the calibration standards excluding anchor points, and a minimum of 6 concentration levels of calibration standards, including the LLOQ and ULOQ, should meet the above criteria. The anchor points do not require acceptance criteria since they are beyond the quantifiable range of the curve.\n",
    "\n",
    "The calibration curve should preferably be prepared using freshly spiked calibration standards. If freshly spiked calibration standards are not used, the frozen calibration standards can be used within their defined period of stability.\n"
   ]
  },
  {
   "cell_type": "markdown",
   "id": "c101eaa4-90c8-40b9-b2a0-f9f56602d6ab",
   "metadata": {},
   "source": [
    "\n",
    "\n",
    "#### 4.2.4 Accuracy and Precision \n",
    "\n",
    "##### 4.2.4.1 Preparation of Quality Control Samples \n",
    "\n",
    "The QCs are intended to mimic study samples and should be prepared by spiking matrix with a known quantity of analyte, stored under the conditions anticipated for study samples and analysed to assess the validity of the analytical method.\n",
    "\n",
    "The dilution series for the preparation of the QCs should be completely independent from the dilution series for the preparation of calibration standard samples. They may be prepared from a single stock provided that its accuracy has been verified or is known. The QCs should be prepared at a minimum of 5 concentration levels within the calibration curve range: The analyte should be spiked at the LLOQ, within three times of the LLOQ (low QC), around the geometric mean of the calibration curve range (medium QC), and at least at 75% of the ULOQ (high QC) and at the ULOQ.\n",
    "\n",
    "##### 4.2.4.2 Evaluation of Accuracy and Precision \n",
    "\n",
    "Accuracy and precision should be determined by analysing the QCs within each run (within\u0002742 run) and in different runs (between-run). Accuracy and precision should be evaluated using the same runs and data.\n",
    "\n",
    "Accuracy and precision should be determined by analysing at least 3 replicates per run at each QC concentration level (LLOQ, low, medium, high, ULOQ) in at least 6 runs over 2 or more days. Reported method validation data and the determination of accuracy and precision should include all results obtained, except those cases where errors are obvious and documented. Within-run accuracy and precision data should be reported for each run. If the within-run accuracy or precision criteria are not met in all runs, an overall estimate of within-run accuracy and precision for each QC level should be calculated. Between-run (intermediate) precision and accuracy should be calculated by combining the data from all runs. \n",
    "\n",
    "The overall within-run and between-run accuracy at each concentration level should be within ±20% of the nominal values, except for the LLOQ and ULOQ, which should be within ±25% of the nominal value. Within-run and between-run precision of the QC concentrations determined at each level should not exceed 20%, except at the LLOQ and ULOQ, where it should not exceed 25%\n",
    "\n",
    "Furthermore, the total error (i.e., sum of absolute value of the errors in accuracy (%) and precision (%)) should be evaluated. The total error should not exceed 30% (40% at LLOQ and ULOQ).\n"
   ]
  },
  {
   "cell_type": "markdown",
   "id": "546a9d7e-0851-4857-895d-ebcb7fe558d6",
   "metadata": {},
   "source": [
    "\n",
    "#### 4.2.5 Carry-over\n",
    "\n",
    "Carry-over is generally not an issue for LBA analyses. However, if the assay platform is prone to carry-over, the potential of carry-over should be investigated by placing blank samples after the calibration standard at the ULOQ. The response of blank samples should be below the LLOQ.\n",
    "\n",
    "#### 4.2.6 Dilution Linearity and Hook Effect \n",
    "\n",
    "Due to the narrow assay range in many LBAs, study samples may require dilution in order to achieve analyte concentrations within the range of the assay. Dilution linearity is assessed to confirm: \n",
    "\n",
    "- (i) that measured concentrations are not affected by dilution within the calibration range and \n",
    "- (ii) that sample concentrations above the ULOQ of a calibration curve are not impacted by **hook effect(i.e., a signal suppression caused by high concentrations of the analyte)**, whereby yielding an erroneous result.\n",
    "\n",
    "The same matrix as that of the study sample should be used for preparation of the QCs for dilution.\n",
    "\n",
    "Dilution linearity should be demonstrated by generating a dilution QC, i.e., spiking the matrix with an analyte concentration above the ULOQ, analysed undiluted (for hook effect) and diluting this sample (to at least 3 different dilution factors) with blank matrix to a concentration within the calibration range. For each dilution factor tested, at least 3 runs should be performed using the number of replicates that will be used in sample analysis. The absence or presence of response reduction (hook effect) is checked in the dilution QCs and, if observed, measures should be taken to eliminate response reduction during the analysis of study samples.\n",
    "\n",
    "The calculated concentration for each dilution should be **within ±20% of the nominal concentration** after correction for dilution and the precision of the final concentrations across all the dilutions should not exceed 20%.\n",
    "\n",
    "The dilution factor(s) applied during study sample analysis should be within the range of dilution factors evaluated during validation\n"
   ]
  },
  {
   "cell_type": "markdown",
   "id": "680fd11c-6d2a-457d-8eab-5a8c8a122335",
   "metadata": {},
   "source": [
    "#### 4.2.7 Stability \n",
    "\n",
    "Stability evaluations should be carried out to ensure that every step taken during sample preparation, processing and analysis as well as the storage conditions used do not affect the concentration of the analyte. \n",
    "\n",
    "The storage and analytical conditions applied to the stability tests, such as the sample storage times and temperatures, sample matrix, anticoagulant, and container materials should reflect those used for the study samples. Reference to data published in the literature is not considered sufficient. Validation of storage periods should be performed on stability QCs that have been stored for a time that is equal to or longer than the study sample storage periods.\n",
    "\n",
    "Stability of the analyte in the studied matrix is evaluated using low and high concentration stability QCs. Aliquots of the low and high stability QCs are analysed at time zero and after the applied storage conditions that are to be evaluated. A minimum of three stability QCs should be prepared and analysed per concentration level/storage condition/timepoint. \n",
    "\n",
    "The stability QCs are analysed against a calibration curve, obtained from freshly spiked calibration standards in a run with its corresponding freshly prepared QCs or QCs for which stability has been proven. While the use of freshly prepared calibration standards and QCs is the preferred approach, it is recognised that in some cases, for macromolecules, it may be necessary to freeze them overnight. In such cases, valid justification should be provided and freeze-thaw stability demonstrated. The mean concentration at each level should be within ±20% of the nominal concentration. \n",
    "\n",
    "Since sample dilution may be required for many LBA assays due to a narrow calibration range, the concentrations of the study samples may be consistently higher than the ULOQ of the calibration curve. If this is the case, the concentration of the stability QCs should be adjusted, considering the applied sample dilution, to represent the actual sample concentration range.\n",
    "\n",
    "As mentioned in Section 3.2.8, the investigation of stability should cover bench top (short-term) stability at room temperature or sample preparation temperature and freeze-thaw stability. In addition, long-term stability should be studied. \n",
    "\n",
    "For chemical drugs, it is considered acceptable to extrapolate the stability at one temperature (e.g., -20°C) to lower temperatures (e.g., -70°C)\n",
    "\n",
    "For biological drugs, it is acceptable to apply a bracketing approach, e.g., in the case that the stability has been demonstrated at -70°C and at -20°C, then it is not necessary to investigate the stability at temperatures in between those two points at which study samples will be stored. \n",
    "\n"
   ]
  },
  {
   "cell_type": "markdown",
   "id": "2f65501f-dd4b-4241-b65c-e3920c58b1eb",
   "metadata": {},
   "source": [
    "### 4.3 Study Sample Analysis\n",
    "\n",
    "The analysis of study samples can be carried out after validation has been completed however it is understood that some parameters may be completed at a later stage (e.g., long-term stability). By the time the data are submitted to a regulatory authority, the bioanalytical method validation should have been completed. The study samples, QCs and calibration standards should be processed in accordance with the validated analytical method. Refer to Table 1 for expectations regarding documentation.\n"
   ]
  },
  {
   "cell_type": "markdown",
   "id": "ee9fe464-2e7e-429a-8de9-0e99b8829fb2",
   "metadata": {},
   "source": [
    "\n",
    "#### 4.3.1 Analytical Run\n",
    "\n",
    "An analytical run consists of a blank sample, calibration standards at a minimum of 6 concentration levels, at least 3 levels of QCs (low, medium and high) applied as two sets (or at least 5% of the number of study samples, whichever is higher) and the study samples to be analysed. The blank sample should not be included in the calculation of calibration curve parameters. The QCs should be placed in the run in such a way that the accuracy and precision of the whole run is ensured taking into account that study samples should always be bracketed by QCs.\n",
    "\n",
    "Most often microtitre plates are used for LBAs. An analytical run may comprise of one or more plate(s). Typically, each plate contains an individual set of calibration standards and QCs. If each plate contains its own calibration standards and QCs then each plate should be assessed on its own. However, for some platforms the sample capacity may be limited. In this case,sets of calibration standards may be placed on the first and the last plate, but QCs should be placed on every single plate. QCs should be placed at least at the beginning (before) and at the end (after) of the study samples of each plate. The QCs on each plate and each calibration curve should fulfil the acceptance criteria (Refer to Section 4.3.2). For the calculation of concentrations, the calibration standards should be combined to conduct one regression analysis.\n",
    "\n",
    "If the combined calibration curve does not pass the acceptance criteria the whole run fails.\n"
   ]
  },
  {
   "cell_type": "markdown",
   "id": "1a0fe4e9-a0ff-4a79-9f4d-13330c4fcaa1",
   "metadata": {},
   "source": [
    "#### 4.3.2 Acceptance Criteria for an Analytical Run \n",
    "\n",
    "Criteria for the acceptance or rejection of an analytical run should be defined in the protocol, in the study plan or in an SOP. In the case that a run contains multiple batches, acceptance criteria should be applied to the whole run and to the individual batches. It is possible for the run to meet acceptance criteria, even if a batch within that run is rejected for failing to meet the batch acceptance criteria.\n",
    "\n",
    "The back-calculated concentrations of the calibration standards should be **within ±20%** of the nominal value at each concentration level, except for the LLOQ and the ULOQ, for which it should be **within ±25%**. **At least 75%** of the calibration standards, with **a minimum of 6 concentration levels**, should fulfil this criterion. This requirement does not apply to anchor calibration standards. If more than 6 calibration standards are used and one of the calibration standards does not meet these criteria, this calibration standard should be rejected and the calibration curve without this calibration standard should be re-evaluated and a new regression analysis performed.\n",
    "\n",
    "If the rejected calibration standard is the LLOQ, the new lower limit for this analytical run is the next lowest acceptable calibration standard of the calibration curve. If the highest calibration standard is rejected, the new upper limit for this analytical run is the next acceptable highest calibration standard of the calibration curve. The new lower and upper limit calibration standard will retain their original acceptance criteria (i.e., ±20%). The revised calibration range should cover all QCs (low, medium and high). The study samples outside of the revised assay range should be reanalysed.\n",
    "\n",
    "Each run should contain at least 3 levels of QCs (low, medium and high). During study sample analysis, the calibration standards and QCs should mimic the analysis of the study sample with regard to the number of wells used per study sample. At least 2/3 of the QCs and 50% at each concentration level should be within 20% of the nominal value at each concentration level. Exceptions to these criteria should be justified and predefined in the SOP or protocol.\n",
    "\n",
    "The overall mean accuracy and precision of the QCs of all accepted runs should be calculated at each concentration level and reported in the analytical report. In the case that the overall mean accuracy and/or precision exceeds 20%, additional investigations should be conducted to determine the cause(s) of this deviation. In the case of comparative BA/BE studies it may result in the rejection of the data.\n"
   ]
  },
  {
   "cell_type": "markdown",
   "id": "d34a6237-15c2-4736-bcdc-810657d926af",
   "metadata": {},
   "source": [
    "#### 4.3.3 Calibration Range\n",
    "\n",
    "At least 2 QC sample levels should fall **within the range of concentrations** measured in study samples. At the intended therapeutic dose(s), if an unanticipated clustering of study samples at one end of the calibration curve is encountered after the start of sample analysis, the analysis should be stopped and either the standard calibration range narrowed (i.e., partial validation), existing QC concentrations revised, or QCs at additional concentrations added to the original curve within the observed range before continuing with study sample analysis. It is not necessary to reanalyse samples analysed before optimising the calibration curve range or QC concentrations.\n"
   ]
  },
  {
   "cell_type": "markdown",
   "id": "cdaa349d-08a2-4359-bd15-5294f08a55fc",
   "metadata": {},
   "source": [
    "\n",
    "#### 4.3.4 Reanalysis of Study Samples\n",
    "\n",
    "Possible reasons for reanalysis of study samples, the number of reanalyses and the decision criteria to select the value to be reported should be predefined in the protocol, study plan or SOP, before the actual start of the analysis of the study samples.\n",
    "\n",
    "The number of samples (and percentage of total number of samples) that have been reanalysed should be reported and discussed in the Bioanalytical Report.\n",
    "\n",
    "Some examples of reasons for study sample reanalysis are:\n",
    "\n",
    "- Rejection of an analytical run because the run failed the acceptance criteria with regard to accuracy of the calibration standards and/or the precision and accuracy of the QCs\n",
    "- The concentration obtained is above the ULOQ\n",
    "- The concentration obtained is below the LLOQ in runs where the lowest calibration standard has been rejected from a calibration curve, resulting in a higher LLOQ compared with other runs\n",
    "- Malfunction of equipment\n",
    "- The diluted sample is below the LLOQ\n",
    "- Identification of quantifiable analyte levels in pre-dose samples, control or placebo samples.\n",
    "- When samples are analysed in more than one well and non-reportable values are obtained due to one replicate failing the pre-defined acceptance criteria (e.g., excessive variability between wells, one replicate being above the ULOQ or below the LLOQ).\n",
    "\n",
    "For comparative BA/BE studies, reanalysis of study samples for a PK reason (e.g., a sample concentration does not fit with the expected profile) is not acceptable, as it may bias the study result.\n",
    "\n",
    "The reanalysed samples should be identified in the Bioanalytical Report and the initial value, the reason for reanalysis, the values obtained in the reanalyses, the final accepted value and a justification for the acceptance should be provided. Further, a summary table of the total number of samples that have been reanalysed due to each reason should be provided. In cases where the first analysis yields a non-reportable result, a single reanalysis is considered sufficient (e.g., concentration above the ULOQ or excessive variability between wells). The analysis of the samples should be based on the same number of wells per study sample as in the initial analysis. In cases where the value needs to be confirmed, (e.g., pre-dose sample with measurable concentrations) multiple determinations are required where sample volume allows.\n",
    "\n",
    "The safety of trial subjects should take precedence over any other aspect of the trial. Consequently, there may be other circumstances when it is necessary to reanalyse specific study samples for the purpose of an investigation. "
   ]
  },
  {
   "cell_type": "markdown",
   "id": "5cd8b702-18b1-4144-9e69-318b43117a78",
   "metadata": {},
   "source": [
    "## 5. INCURRED SAMPLE REANALYSIS (ISR) \n",
    "\n",
    "The performance of study samples may differ from that of **the calibration standards and QCs used during method validation, which are prepared by spiking blank matrix**. Differences in **protein binding, back-conversion of known and unknown metabolites, sample inhomogeneity, concomitant medications or biological components unique to the study samples** may affect the accuracy and precision of analysis of the analyte in study samples.\n",
    "\n",
    "Therefore, ISR is a necessary component of bioanalytical method validation. It is intended to verify the reliability of the reported sample analyte concentrations and to critically support the precision and accuracy measurements established with spiked QCs. ISR should be performed at least in the following situations:\n",
    "\n",
    "- For preclinical studies, ISR should, in general, be performed for the main nonclinical TK studies once per species. However, ISR in a PK study instead of a TK study might also be acceptable, as long as the respective study has been conducted as a pivotal study, used to make regulatory decisions.\n",
    "- All pivotal comparative BA/BE studies\n",
    "- First clinical trial in subjects\n",
    "- Pivotal early patient trial(s), once per patient population\n",
    "- First or pivotal trial in patients with impaired hepatic and/or renal function"
   ]
  },
  {
   "cell_type": "markdown",
   "id": "f0087ac4-23f6-4e73-a672-bd18323ce563",
   "metadata": {},
   "source": [
    "ISR is conducted by **repeating the analysis of a subset of samples from a given study in separate (i.e., different to the original) runs** on **different days** using the same bioanalytical method.\n",
    "\n",
    "The extent of ISR depends upon the analyte and the study samples and should be based upon an in-depth understanding of the analytical method and analyte. However, as a minimum, if the total number of study samples is less than 1000, then 10% of the samples should be reanalysed; if the total number of samples is greater than 1000, then 10% of the first 1000 samples (100) plus 5% of the number of samples that exceed 1000 samples should be assessed. Objective criteria for choosing the subset of study samples for ISR should be predefined in the protocol, study plan or an SOP. While the subjects should be picked as randomly as possible from the dosed study population, adequate coverage of the PK profile in its entirety is important. \n",
    "\n",
    "Therefore, it is recommended that the samples for ISR be chosen around the maximum concentration (Cmax) and some in the elimination phase. Additionally, the samples chosen should be representative of the whole study.\n",
    "\n",
    "Samples should not be pooled, as pooling may limit anomalous findings. ISR samples and QCs should be prepared in the same manner as in the original analysis. ISR should be performed within the stability window of the analyte, but not on the same day as the original analysis. \n",
    "\n",
    "The percent difference between the initial concentration and the concentration measured during the repeat analysis should be calculated in relation to their mean value using the following equation: \n",
    "\n",
    "$$\n",
    "\\% \\mbox{difference} = \\frac{\\mbox{repeat value} - \\mbox{initial value}}{\\mbox{mean value}} \\times 100\n",
    "$$\n"
   ]
  },
  {
   "cell_type": "markdown",
   "id": "7cbffe22-5ee4-4136-8c95-6f26fa5088a6",
   "metadata": {},
   "source": [
    "\n",
    "For chromatographic methods, the percent difference should be $\\leq$ 20% for at least 2/3 of the repeats. For LBAs, the percent difference should be $\\leq$ 30% for at least 2/3 of the repeats.\n",
    "\n",
    "If the overall ISR results fail the acceptance criteria, an investigation should be conducted and the causes remediated. There should be an SOP that directs how investigations are triggered and conducted. If an investigation does not identify the cause of the failure, the potential impact of an ISR failure on study validity should also be provided in the Bioanalytical Report. If ISR meets the acceptance criteria yet shows large or systemic differences between results for multiple samples, this may indicate analytical issues and it is advisable to investigate this further.\n",
    "\n",
    "Examples of trends that are of concern include:\n",
    "\n",
    "- All samples from one subject fail\n",
    "- All of samples from one run fail\n",
    "\n",
    "All aspects of ISR evaluations should be documented to allow reconstruction of the study and any investigations. Individual samples that are quite different from the original value (e.g., > 50%, “flyers”) should not trigger reanalysis of the original sample and do not need to be investigated. ISR sample data should not replace the original study sample data.\n"
   ]
  },
  {
   "cell_type": "markdown",
   "id": "87528c0c-3ec8-4872-9f22-ec26b8eec1cc",
   "metadata": {},
   "source": [
    "\n",
    "## 6. PARTIAL AND CROSS VALIDATION \n",
    "\n",
    "### 6.1 Partial Validation\n",
    "\n",
    "Partial validations **evaluate modifications** to already fully validated bioanalytical methods. Partial validation can range from as little as one within-run accuracy and precision determination, to a nearly full validation. If stability is established at one facility it does not necessarily need to be repeated at another facility. \n",
    "\n",
    "For chromatographic methods, typical bioanalytical method modifications or changes that fall into this category include, but are not limited to, the following situations:\n",
    "\n",
    "- Analytical site change using same method (i.e., bioanalytical method transfers between laboratories)\n",
    "- A change in analytical methodology (e.g., change in detection systems, platform)\n",
    "- A change in sample processing procedures \n",
    "- A change in sample volume (e.g., the smaller volume of paediatric samples) \n",
    "- Changes to the calibration concentration range\n",
    "- A change in anticoagulant (but not changes in the counter-ion) in biological fluids (e.g., heparin to EDTA)\n",
    "- Change from one matrix within a species to another (e.g., switching from human plasma to serum or cerebrospinal fluid) or changes to the species within the matrix (e.g., switching from rat plasma to mouse plasma)\n",
    "- A change in storage conditions \n",
    "\n",
    "For LBAs, typical bioanalytical method modifications or changes that fall into this category include, but are not limited to, the following situations:\n",
    "\n",
    "- Changes in LBA critical reagents (e.g., lot-to-lot changes)\n",
    "- Changes in MRD\n",
    "- A change in storage conditions\n",
    "- Changes to the calibration concentration range\n",
    "- A change in analytical methodology (e.g., change in detection systems, platform)\n",
    "- Analytical site change using same method (i.e., bioanalytical method transfers between laboratories)\n",
    "- A change in sample preparation\n",
    "\n",
    "Partial validations are acceptable if the parameters tested meet the full validation criteria. If these criteria are not satisfied, additional investigation and validation is warranted.\n"
   ]
  },
  {
   "cell_type": "markdown",
   "id": "a49d9da8-188d-45b4-ac0d-4f4630178b5f",
   "metadata": {},
   "source": [
    "\n",
    "### 6.2 Cross Validation\n",
    "\n",
    "Cross validation is required to compare data under the following situations:\n",
    "\n",
    "- Data are obtained from **different fully validated methods** within **a study**.\n",
    "- Data are obtained from **different fully validated methods** across **studies** that are going to be combined or compared to support special dosing regimens, or regulatory decisions regarding safety, efficacy and labelling.\n",
    "- Data are obtained within a study from **different laboratories** with **the same bioanalytical method**.\n",
    "\n",
    "Cross validation is not generally required to compare data obtained across studies from different laboratories using the same validated method at each site.\n",
    "\n",
    "Cross validation should be performed in advance of study samples being analysed, if possible. Cross validation should be **assessed by measuring the same set of QCs (low, medium and high) in triplicate** and **study samples that span the study sample concentration range (if available n≥30)** with both assays or in both laboratories. \n",
    "\n",
    "Bias can be assessed by **Bland-Altman plots** or **Deming regression**. Other methods appropriate for assessing agreement between two assays (e.g., **concordance correlation coefficient**) may be used too. Alternatively, the **concentration vs. time curves for incurred samples** could be plotted for samples analysed by each method to assess bias. If **disproportionate bias is observed** between methods, the impact on the clinical data interpretation should be assessed.\n",
    "\n",
    "<span class='myhlc110'>The use of multiple bioanalytical methods in the conduct of one comparative BA/BE study is strongly **discouraged**.</span>\n"
   ]
  },
  {
   "cell_type": "markdown",
   "id": "6f65411b-3877-405c-93c2-03f8470cd345",
   "metadata": {},
   "source": [
    "\n",
    "## 7. ADDITIONAL CONSIDERATIONS \n",
    "\n",
    "### 7.1 Analytes that are also Endogenous Compounds \n",
    "\n",
    "For analytes that are also endogenous compounds, the accuracy of the measurement of the analytes poses a challenge when the assay cannot distinguish between the therapeutic agent and the endogenous counterpart.\n",
    "\n",
    "The endogenous levels may vary because of age, gender, diurnal variations, illness or as a side effect of drug treatment. If available, biological matrix with an adequate signal-to-noise ratio (i.e., endogenous level sufficiently low for the desired LLOQ, e.g., <20% of the LLOQ) should be used as blank matrix to prepare calibration standards and QCs since the biological matrix used to prepare calibration standards and QCs should be the same as the study samples (i.e., authentic biological matrix) and should be free of matrix effect and endogenous analyte at the level that causes interference.\n",
    "\n",
    "In those cases where matrices without interference are not available, there are four possible approaches to calculate the concentration of the endogenous analyte in calibration standards, QCs and, consequently, study samples: 1) the standard addition approach, 2) the background subtraction approach, 3) the surrogate matrix (neat, artificial or stripped matrices) approach and 4) the surrogate analyte approach.\n",
    "\n",
    "**1) Standard Addition Approach:** \n",
    "\n",
    "Every study sample is divided into aliquots of equal volume. All aliquots, but one, are separately spiked with known and varying amounts of the analyte standards to construct a calibration curve for every study sample. The study sample concentration is then determined as the negative x-intercept of the standard calibration curve prepared in that particular study sample.\n",
    "\n",
    "**2) Background Subtraction Approach:**\n",
    "\n",
    "The endogenous background concentrations of analytes in a pooled/representative matrix are subtracted from the concentrations of the added standards, subsequently the subtracted concentrations are used to construct the calibration curve.\n",
    "\n",
    "**3) Surrogate Matrix Approach:**\n",
    "\n",
    "The matrix of the study samples is substituted by a surrogate matrix. Surrogate matrices can vary widely in complexity from simple buffers or artificial matrices that try to mimic the authentic one, to stripped matrices.\n",
    "\n",
    "**4) Surrogate Analyte Approach:**\n",
    "\n",
    "Stable-isotope labelled analytes are used as surrogate standards to construct the calibration curves for the quantification of endogenous analytes. In this method it is assumed that the physicochemical properties of the authentic and surrogates analytes are the same with the exception of molecular weight. However, isotope standards may differ in retention time and MS sensitivity, therefore, before application of this  approach, the ratio of the labelled to unlabelled analyte MS responses (i.e., the response factor) should be close to unity and constant over the entire calibration range. \n",
    "\n",
    "If the response factor does not comply with these requirements, it should be incorporated into the regression equation of the calibration curve. Validation of an analytical method for an analyte that is also an endogenous compound will require the following considerations.\n"
   ]
  },
  {
   "cell_type": "markdown",
   "id": "4d7480bb-114e-4a5b-b766-9796432b1341",
   "metadata": {},
   "source": [
    "\n",
    "#### 7.1.1 Quality Control Samples\n",
    "\n",
    "The endogenous concentrations of the analyte in the biological matrix should be evaluated prior to QC preparation (e.g., by replicate analysis). The blank matrices with the minimum level of the endogenous analyte should be used. The concentrations of the QCs should account for the endogenous concentrations in the biological matrix (i.e., additive) and be representative of the expected study concentrations.\n",
    "\n",
    "The QCs used for validation should be aliquots of the authentic biological matrix unspiked and spiked with known amounts of the authentic analyte. In spiked samples, the added amount should be enough to provide concentrations that are statistically different from the endogenous concentration.\n"
   ]
  },
  {
   "cell_type": "markdown",
   "id": "4f538569-d489-45b3-9deb-7009855b0c80",
   "metadata": {},
   "source": [
    "#### 7.1.2 Calibration Standards\n",
    "\n",
    "In the Surrogate Matrix and Surrogate Analyte Approaches, these surrogates should be used only for the preparation of the calibration standards. \n",
    "\n",
    "In the Standard Addition and Background Subtraction Approaches the same biological matrix and analyte as the study samples is used to prepare the calibration standards. However, when the background concentrations are lowered by dilution of the blank matrices before spiking with the standards (e.g., if a lower LLOQ is required in the Background Subtraction Approach) the composition of the matrices in the study samples and the calibration standards is different, which may cause different recoveries and matrix effects.\n"
   ]
  },
  {
   "cell_type": "markdown",
   "id": "ddfcdf3b-a930-4304-9bdf-a20b8e9c8168",
   "metadata": {},
   "source": [
    "\n",
    "#### 7.1.3 Selectivity, Recovery and Matrix Effects\n",
    "\n",
    "The assessment of selectivity is complicated by the absence of interference-free matrix. For chromatography, peak purity should be investigated as part of method validation by analysing matrices obtained from several donors using a discriminative detection system (e.g., MS/MS). Other approaches, if justified by scientific principles, may also be considered. \n",
    "\n",
    "For the Standard Addition and Background Subtraction Approaches, as the same biological matrix and analyte are used for study samples and calibration standards, the same recovery and matrix effect occurs in the study samples and the calibration standards. For the Surrogate Matrix and Surrogate Analyte Approaches, the matrix effect and the extraction recovery may differ between calibration standards and study samples.\n",
    "\n",
    "- If the Surrogate Matrix Approach is used, demonstration of similar matrix effect and extraction recovery in both the surrogate and original matrix is required. This should be investigated in an experiment using QCs spiked with analyte in the matrix against the surrogate calibration curve and should be within ±15% for chromatographic assays and within ±20% for LBA assays.\n",
    "- If the Surrogate Analyte Approach is used, demonstration of similarity in matrix effect and recovery between surrogate and authentic endogenous analytes is required. This should be investigated in an experiment within ±15% for chromatographic assays and within ±20% for LBA assays. \n",
    "\n",
    "Since the composition of the biological matrix might affect method performance, it is necessary to investigate matrices from different donors, except in the Standard Addition Approach, where each sample is analysed with its own calibration curve.\n"
   ]
  },
  {
   "cell_type": "markdown",
   "id": "fed52df4-5357-4d39-b95c-ec43f7b52621",
   "metadata": {},
   "source": [
    "\n",
    "#### 7.1.4 Parallelism\n",
    "\n",
    "Parallelism should be evaluated in the Surrogate Matrix and Surrogate Analyte Approaches by means of the Standard Addition approach, spike recovery or dilutional linearity.\n",
    "\n",
    "#### 7.1.5 Accuracy and Precision\n",
    "\n",
    "In case of using a surrogate matrix or analyte, the assessment of accuracy and precision should be performed by analysing the QCs against the surrogate calibration curve. In certain cases, dilution of the QCs with surrogate matrix may be necessary. These experiments should be repeated with authentic biological matrices from different donors to address variability due to the matrix. Analysis of the unspiked QCs will give the mean endogenous background concentration and only precision and no accuracy can be determined for this QCs.\n",
    "\n",
    "The concentration of the endogenous substance in the blank sample may be determined and subtracted from the total concentrations observed in the spiked samples. Accuracy is recommended to be calculated using the following formula:\n",
    "\n",
    "$$\n",
    "\\mbox{Accuracy} (\\%) = 100 \\times \\frac{(\\mbox{Measured concentration of spiked sample} - \\mbox{endogenous concentration} )}{\\mbox{Nominal concentration}}\n",
    "$$"
   ]
  },
  {
   "cell_type": "markdown",
   "id": "742de964-7c98-4ea9-af8b-939974c6296a",
   "metadata": {},
   "source": [
    "#### 7.1.6 Stability\n",
    "\n",
    "In order to mimic study samples as much as possible, stability experiments should be investigated with the authentic analyte in the authentic biological matrix and with unspiked and spiked samples. However, if a surrogate matrix is used for calibration standards, stability should also be demonstrated for the analyte in the surrogate matrix, as this could differ from stability in the authentic biological matrix\n"
   ]
  },
  {
   "cell_type": "markdown",
   "id": "278201a0-4d4d-4218-b0aa-67d6ff133103",
   "metadata": {},
   "source": [
    "### 7.2 Parallelism \n",
    "\n",
    "Parallelism is defined as a parallel relationship between the calibration curve and serially diluted study samples to detect any influence of dilution on analyte measurement. Although lack of parallelism is a rare occurrence for PK assays, parallelism of LBA should be evaluated on a case-by-case basis, e.g., where interference caused by a matrix component (e.g., presence of endogenous binding protein) is suspected during study sample analysis. Parallelism investigation or the justification for its absence should be included in the Bioanalytical Report. \n",
    "\n",
    "As parallelism assessments are rarely possible during method development and method validation due to the unavailability of study samples and parallelism is strictly linked to the study samples (i.e., an assay may have perfectly suitable parallelism for a certain population of samples, yet lack it for another population), these experiments should be conducted during the analysis of the study samples. A high concentration study sample (preferably close to Cmax) should be diluted to at least three concentrations with blank matrix. The precision between samples in a dilution series should not exceed 30%. However, when applying the 30% criterion, data should be carefully monitored as results that pass this criterion may still reveal trends of non-parallelism. In the case that the sample does not dilute linearly (i.e., in a non-parallel manner), a procedure for reporting a result should be defined a priori.\n"
   ]
  },
  {
   "cell_type": "markdown",
   "id": "462d9305-0a64-462d-8053-b43ac371c02d",
   "metadata": {},
   "source": [
    "### 7.3 Recovery \n",
    "\n",
    "For methods that employ sample extraction, the recovery (extraction efficiency) should be evaluated. Recovery is reported as a percentage of the known amount of an analyte carried through the sample extraction and processing steps of the method. Recovery is determined by comparing the analyte response in a biological sample that is spiked with the analyte and processed, with the response in a biological blank sample that is processed and then spiked with the analyte. Recovery of the analyte does not need to be 100%, but the extent of recovery of an analyte and of the IS (if used) should be consistent. Recovery experiments are recommended to be performed by comparing the analytical results for extracted samples at multiple concentrations, typically three concentrations (low, medium and high).\n",
    "\n",
    "### 7.4 Minimum Required Dilution (MRD)\n",
    "\n",
    "MRD is **a dilution factor** employed in samples that are diluted with buffer solution to reduce the background signal or matrix interference on the analysis using LBA. The MRD should be identical for all samples including calibration standards and the QCs and it should be determined during method development. If MRD is changed after establishment of the method, partial validation is necessary. MRD should be defined in the Validation Report of the analytical method.\n"
   ]
  },
  {
   "cell_type": "markdown",
   "id": "8c68d4f0-ca80-4bd7-82ed-6f1eef0c9614",
   "metadata": {},
   "source": [
    "\n",
    "### 7.5 Commercial and Diagnostic Kits\n",
    "\n",
    "Commercial or diagnostic kits (referred to as kits) are sometimes co-developed with new drugs or therapeutic biological products for point-of-care patient diagnosis. The recommendations in this section of the guideline do not apply to the development of kits that are intended for point-of-care patient diagnosis (e.g., companion or complimentary diagnostic kits). Refer to the appropriate guideline documents regarding regulatory expectations for the development of these kits. \n",
    "\n",
    "If an applicant repurposes a kit (instead of developing a new assay) or utilises “research use only” kits to measure chemical or biological drug concentrations during the development of a novel drug, the applicant should assess the kit validation to ensure that it conforms to the drug development standards described in this guideline.\n",
    "\n",
    "Validation considerations for kit assays include, but are not limited to, the following:\n",
    "\n",
    "- If the reference standard in the kit differs from that of the study samples, testing should evaluate differences in assay performance of the kit reagents. The specificity, accuracy, precision and stability of the assay should be demonstrated under actual conditions of use in the facility conducting the sample analysis. Modifications from kit processing instructions should be completely validated. \n",
    "- Kits that use sparse calibration standards (e.g., one- or two-point calibration curves) should include in-house validation experiments to establish the calibration curve with a sufficient number of standards across the calibration range.\n",
    "- Actual QC concentrations should be known. Concentrations of QCs expressed as ranges are not sufficient for quantitative applications. In such cases QCs with known concentrations should be prepared and used, independent of the kit-supplied QCs.\n",
    "- Calibration standards and QCs should be prepared in the same matrix as the study samples. Kits with calibration standards and QCs prepared in a matrix different from the study samples should be justified and appropriate experiments should be performed. \n",
    "- If multiple kit lots are used within a study, lot-to-lot variability and comparability should be addressed for any critical reagents included in the kits. \n",
    "- If a kit using multiple assay plates is employed, sufficient replicate QCs should be used on each plate to monitor the accuracy of the assay. Acceptance criteria should be established for the individual plates and for the overall analytical run. \n"
   ]
  },
  {
   "cell_type": "markdown",
   "id": "30dade74-8997-4258-b4bf-d63dac2bea57",
   "metadata": {},
   "source": [
    "\n",
    "### 7.6 New or Alternative Technologies \n",
    "\n",
    "When a new or alternative technology is used as the sole bioanalytical technology from the onset of drug development, cross validation with an existing technology is not required. \n",
    "\n",
    "The use of two different bioanalytical technologies for the development of a drug may generate data for the same product that could be difficult to interpret. This outcome can occur when one platform generates drug concentrations that differ from those obtained with another platform. Therefore, when a new or alternative analytical platform is replacing a previous platform used in the development of a drug it is important that the potential differences are well understood. The data generated from the previous platform/technology should be cross validated to that of the new or alternative platform/technology. Seeking feedback from the regulatory authorities is encouraged early in drug development. The use of two methods or technologies within a comparative BA/BE study is strongly discouraged.\n",
    "\n",
    "The use of new technology in regulated bioanalysis should be supported by acceptance criteria established a priori based on method development and verified in validation.\n"
   ]
  },
  {
   "cell_type": "markdown",
   "id": "c4e7a72a-7a3b-4ebb-bf9e-8d8c224efff8",
   "metadata": {},
   "source": [
    "\n",
    "#### 7.6.1 Dried Matrix Methods \n",
    "\n",
    "Dried matrix methods (DMM) is a sampling methodology that offers benefits such as collection of reduced blood sample volumes as a microsampling technique for drug analysis and ease of collection, storage and transportation. In addition to the typical methodological validation for LC-MS or LBA, use of DMM necessitates further validation of this sampling approach before using DMM in studies that support a regulatory application, such as: \n",
    "\n",
    "- Haematocrit (especially for spotting of whole blood into cards)\n",
    "- Sample homogeneity (especially for sub-punch of the sample on the card/device)\n",
    "- Reconstitution of the sample\n",
    "- DMM sample collection for ISR\n",
    "    - Care should be taken to ensure sufficient sample volumes or numbers of replicates are retained for ISR \n",
    "    - Should be assessed by multiple punches of the sample or samples should be taken in duplicate \n",
    "    \n",
    "When DMM is used for clinical or nonclinical studies in addition to typical liquid approaches (e.g., liquid plasma samples) in the same studies, these two methods should be cross validated as described (Refer to Section 6.2). For nonclinical TK studies, refer to Section 4.1 of ICH S3A Q&A. Feedback from the appropriate regulatory authorities is encouraged in early drug development.\n"
   ]
  },
  {
   "cell_type": "markdown",
   "id": "3a661ebb-c3c2-4f01-8d77-9e112bf7f5fa",
   "metadata": {},
   "source": [
    "\n",
    "## 8. DOCUMENTATION \n",
    "\n",
    "General and specific SOPs and good record keeping are essential to a properly validated analytical method. The data generated for bioanalytical method validation should be documented and available for data audit and inspection. Table 1 describes the recommended documentation for submission to the regulatory authorities and documentation that should be available at the analytical site at times of inspection. This documentation may be stored at the analytical site or at another secure location. In this case the documentation should be readily available when requested.\n",
    "\n",
    "All relevant documentation necessary for reconstructing the study as it was conducted and reported should be maintained in a secure environment. Relevant documentation includes, but is not limited to, source data, protocols and reports, records supporting procedural, operational, and environmental concerns and correspondence records between all involved parties. \n",
    "\n",
    "Regardless of the documentation format (i.e., paper or electronic), records should be contemporaneous with the event and subsequent alterations should not obscure the original data. The basis for changing or reprocessing data should be documented with sufficient detail, and the original record should be maintained. Transcripts/copies of data derived from analyses in biohazardous areas should be maintained if applicable.\n"
   ]
  },
  {
   "cell_type": "markdown",
   "id": "8cdf8ba9-0f64-48c0-b0bc-e449393652c0",
   "metadata": {},
   "source": [
    "### 8.1 Summary Information \n",
    "\n",
    "Summary information should include the following items in Section 2.6.4/2.7.1 of the CTD or reports:\n",
    "\n",
    "- A summary of assay methods used for each study should be included. Each summary should provide the protocol number, the assay type, the assay method identification code, the Bioanalytical Report code, effective date of the method, and the associated Validation Report codes.\n",
    "- A summary table of all the relevant Validation Reports should be provided for each analyte, including Partial Validation and Cross Validation Reports. The table should include the assay method identification code, the type of assay, the reason for the new method or additional validation (e.g., to lower the limit of quantification). Changes made to the method should be clearly identified.\n",
    "- A summary table cross-referencing multiple identification codes should be provided when an assay has different codes for the assay method, the Validation Reports and the Bioanalytical Reports.\n",
    "- Discussion of method changes in the protocol (e.g., evolution of methods, reason(s) for revisions, unique aspects)\n",
    "- For comparative BA/BE studies a list of regulatory site inspections including dates and outcomes for each analytical site if available.\n"
   ]
  },
  {
   "cell_type": "markdown",
   "id": "f39197ec-655b-4a6d-8093-e70d0ff3a39d",
   "metadata": {},
   "source": [
    "\n",
    "\n",
    "### 8.2 Documentation for Validation and Bioanalytical Reports \n",
    "\n",
    "Table 1 describes the recommended documentation for the Validation and Bioanalytical Reports.\n",
    "\n",
    "Items | Documentation at the Analytical Site | Validation Report* | Bioanalytical Report*\n",
    "--|--|--|--\n",
    "Chromatographic System Suitability | Dates, times, and samples used for suitability testing | Not applicable | Not applicable\n",
    "Synopsis Overview of Method Evolution | History/evolution of methods <br> (e.g., to explain revisions, unique aspects with supportive data, if available) | Not applicable | Not applicable\n",
    "Reference Standards | • CoA or equivalent alternative to ensure quality (including purity), stability/expiration/retest date(s), batch number, and manufacturer or source <br>• Log records of receipt, use, and storage conditions. <br>• If expired, recertified CoA, or retest of quality and identity with retest dates | • A copy of the CoA or equivalent alternative including batch/lot number, source, quality (including purity), storage conditions, and expiration/retest date, or table with this information. <br> • If expired, quality and stability at the time of use and retest dates and retested values. | • A copy of the CoA or equivalent alternative including batch /lot number, source, quality (including purity), storage conditions, and expiration/retest date or a table with this information. <br>• If expired, quality and stability at the time of use and retest dates and retested values. \n",
    "Internal Standard | • IS quality or demonstration of suitability <br>• Log records of receipt, use, and storage conditions | • Name of reagent or standard <br> • Origin | • Name of reagent or standard <br> • Origin\n",
    "Critical Reagents |• Name of reagent <br>• Batch/ Lot number<br>• Source/Origin <br>• Concentration, if applicable <br>• Retest date (expiry date) <br>• Storage conditions |• Name of reagent <br>• Batch/ Lot number<br>• Source/ Origin <br>• Retest date (expiry date) <br>• Storage conditions |• Name of reagent <br>• Batch/ Lot number <br>• Source/ Origin <br>• Retest date (expiry date) <br>• Storage conditions \n",
    "Stock Solutions | • Log of preparation, and use of stock solutions <br>• Storage location and condition |• Notation that solutions were used within stability period <br>• Stock solution stability <br>• Storage conditions | • Notation that solutions were used within stability period <br>• Stock solution stability † <br> • Storage conditions†\n",
    "Blank Matrix | Records of matrix descriptions, lot numbers, receipt dates, storage conditions, and source/supplier | Description, lot number, receipt dates | Description, lot number, receipt dates††\n",
    "Calibration Standards and QCs | • Records and date of preparation <br>• Record of storage temperature (e.g., log of in/out dates, analyst, temperatures, and freezer(s)) | • Description of preparation including matrix <br>• Batch number, preparation dates and stability period <br>• Storage conditions (temperatures, dates, duration, etc.) | • Description of preparation† <br>• Preparation dates and stability period <br>• Storage conditions† "
   ]
  },
  {
   "cell_type": "markdown",
   "id": "e5b99b37-3b50-4a69-834d-97a9c78c552a",
   "metadata": {},
   "source": [
    "Items | Documentation at the Analytical Site | Validation Report* | Bioanalytical Report*\n",
    "--|--|--|--\n",
    "SOPs | SOPs for all aspects of analysis, such as: <br> • Method/procedure (validation/analytical) <br>• Acceptance criteria (e.g., run, calibration curve, QCs) <br>• Instrumentation <br>• Reanalysis <br>• ISR <br>• Record of changes to SOP (change, date, reason, etc.) | A detailed description of the assay procedure | A list of SOPs/analytical protocols used for the assay procedure \n",
    "Sample Tracking | • Study sample receipt, and condition on receipt <br>• Records that indicate how samples were transported and received. Sample inventory and reasons for missing samples <br>• Location of storage (e.g., freezer unit) <br>• Tracking logs of QCs, calibration standards, and study samples <br>• Freezer logs for QCs, calibration standards, and study samples entry and exit | Not applicable |• Dates of receipt of shipments number of samples, and for comparative BA/BE studies the subject ID <br>• Sample condition on receipt <br>• Analytical site storage condition and location <br>• Storage: total duration from sample collection to analysis <br>• List of any deviations from planned storage conditions, and potential impact\n",
    "Analysis | • Documentation and data for system suitability checks for chromatography <br>• Instrument use log, including dates of analysis for each run <br>• Sample extraction logs including documentation of processing of calibration standards, QCs, and study samples for each run, including dates of extraction <br>• Identity of QCs and calibration standard lots, and study samples in each run <br>• Documentation of instrument settings and maintenance <br>• Laboratory information management system (LIMS) <br>• Validation information, including documentation and data for: <br>o Selectivity, (matrix effects), specificity, (interference) sensitivity, precision and accuracy, carry-over, dilution, recovery, matrix effect <br>o Bench-top, freeze-thaw, long-term, extract, and stock solution stability <br>o Cross/partial validations, if applicable |• Table of all runs (including failed runs), and analysis dates <br>• Instrument ID for each run in comparative BA/BE studies † <br>• Table of calibration standard concentration and response functions results (calibration curve parameters) of all accepted runs with accuracy and precision. <br>• Table of within- and between- run QC results (from accuracy and precision runs). Values outside should be clearly marked. <br>• Include total error for LBA methods <br>• Data on selectivity (matrix effect), specificity (interference), dilution linearity and sensitivity (LLOQ), carry-over, recovery. Bench-top, freeze-thaw, long-term, extract, and stock solution stability <br>• Partial/cross-validation, if applicable <br>• Append separate report for additional validation, if any | • Table of all runs, status (accepted and failed), reason for failure, and analysis dates. <br>• Instrument ID for each run in comparative BA/BE studies† <br>• Table of calibration standard concentration and response function results (calibration curve parameters) of all accepted runs with accuracy and precision. <br>• Table of QCs results of all accepted runs with accuracy and precision results of the QCs and between-run accuracy and precision results from accepted runs. <br>• Table of reinjected runs with results from reinjected runs and reason(s) for reinjection <br>• QCs graphs trend analysis encouraged <br>• Study concentration results table. <br>• For comparative BA/BE studies, IS response plots for each analytical run, including failed run\n",
    "\n"
   ]
  },
  {
   "cell_type": "markdown",
   "id": "da9f1222-a312-4ff9-8cbf-dd9f2ce2b783",
   "metadata": {},
   "source": [
    "Items | Documentation at the Analytical Site | Validation Report* | Bioanalytical Report*\n",
    "--|--|--|--\n",
    "Chromatograms and Reintegration | • Electronic audit trail: <br>• 100% e-chromatograms of original and reintegration from accepted and fail runs <br>• Reason for reintegration <br>• Mode of reintegration 100% of run summary sheets of accepted and failed runs, including calibration curve, regression, weighting function, analyte and IS response and retention time, response ratio, integration type | • Representative chromatograms (original and reintegration) <br>• Reason for reintegration <br>• For comparative BA/BE studies, 100% chromatograms of original and reintegration from accepted and fail runs. <br>• Chromatograms may be submitted as a supplement <br>• For comparative BA/BE studies,100% of run summary sheets of accepted and failed runs, including calibration curve, regression, weighting function, analyte and IS responses and retention times and dilution factor if applicable.| • For and comparative BA/BE studies, 100% of chromatograms. <br>• Chromatograms may be submitted as a supplement <br>• For comparative BA/BE studies, original and reintegrated chromatograms and initial and repeat integration results <br>• For other studies, randomly selected chromatograms from 5% of studies submitted in application dossiers <br>• Reason for reintegration <br>• Identification and discussion of chromatograms with manual reintegration <br>• SOP for reintegration, as applicable <br>• For comparative BA/BE studies, 100% of run summary sheets of accepted and failed runs, including calibration curve, regression, weighting function, analyte and IS responses and retention times, and dilution factor if applicable\n",
    "Deviations from Procedures | • Contemporaneous documentation of deviations/ unexpected events <br>• Investigation of unexpected events <br>• Impact assessment | • Description of Deviations <br>• Impact on study results <br>• Description and supporting data of significant investigations |• Description of deviations <br>• Impact on study results <br>• Description and supporting data of significant investigations \n",
    "Repeat Analysis |• SOP for conducting reanalysis/repeat analysis (define reasons for reanalysis, etc.) <br>• Retain 100% of repeat/reanalysed data <br>• Contemporaneous records of reason for repeats | Not applicable | • Table of sample IDs, reason for reassay, original and reassay values, reason for reported values, run IDs <br> • Reanalysis SOP, if requested \n",
    "ISR |• SOP for ISR <br>• ISR data: Run IDs, run summary sheets, chromatograms or other electronic instrument data files <br>• Document ISR failure investigations, if any | Not applicable | • ISR data table (original and reanalysis values and run IDs, percent difference, percent  passed) <br>• ISR failure investigations, if any†† <br>• SOP for ISR†† (if requested)\n",
    "Communication | Between involved parties (Applicant, contract research organizations (CROs), and consultants) related to study/assay | Not applicable | Not applicable\n",
    "Audits and Inspections | Audit and inspection report | Not applicable | Not applicable"
   ]
  },
  {
   "cell_type": "markdown",
   "id": "a213f798-19d2-49a4-9a25-d1eb3d2e9a0c",
   "metadata": {},
   "source": [
    "- $*$ The applicant is expected to maintain data at the analytical site to support summary data submitted in Validation and Bioanalytical Reports.  Validation and Bioanalytical Reports should be submitted in the application.\n",
    "- † May append or link from Validation Report.\n",
    "- ††Submit either in Validation Report or in Bioanalytical Report"
   ]
  },
  {
   "cell_type": "markdown",
   "id": "cd837d89-9ccc-4208-beb9-a958607e31aa",
   "metadata": {},
   "source": [
    "## 9. GLOSSARY \n",
    "\n",
    "**Accuracy**: \n",
    "The degree of closeness of the measured value to the nominal or known true value under prescribed conditions (or as measured by a particular method). In this document accuracy is expressed as percent relative error of the nominal value.\n",
    "\n",
    "Accuracy (%) = ((Measured Value-Nominal Value)/Nominal Value) × 100\n",
    "\n",
    "**Analysis**: \n",
    "A series of analytical procedures from sample processing/dilution to measurement on an analytical instrument.\n",
    "\n",
    "**Analyte**: \n",
    "A specific chemical moiety being measured, including an intact drug, a biomolecule or its derivative or a metabolite in a biologic matrix.\n",
    "\n",
    "**Analytical Procedure**: \n",
    "The analytical procedure refers to the way of performing the analysis. It should describe in detail the steps necessary to perform each analysis.\n",
    "\n",
    "**Analytical Run (also referred to as “Run”)**: \n",
    "A complete set of analytical and study samples with appropriate number of calibration standards and QCs for their validation. Several runs may be completed in one day or one run may take several days to complete. \n",
    "\n",
    "**Anchor Calibration Standards/Anchor Points**: \n",
    "Spiked samples set at concentrations below the LLOQ or above the ULOQ of the calibration curve and analysed to improve curve fitting in LBAs.\n"
   ]
  },
  {
   "cell_type": "markdown",
   "id": "461ddb53-4848-45c4-be7b-fcafc5c1593a",
   "metadata": {},
   "source": [
    "**Batch (for Bioanalysis)**:\n",
    "A batch is comprised of QCs and study samples which are handled during a fixed period of time and by the same group of analysts with the same reagents under homogenous conditions.\n",
    "\n",
    "**Batch (for Reference Standards and Reagents)**:\n",
    "A specific quantity of material produced in a process or series of processes so that it is expected to be homogeneous within specified limits. Also referred to as “Lot”. \n",
    "\n",
    "**Biological Drugs**:\n",
    "Drugs manufactured by using biotechnology (e.g., therapeutic proteins). Also referred to as large molecule drugs. \n",
    "\n",
    "**Biological Matrix**: \n",
    "A biological material including, but not limited to, blood, serum, plasma and urine.\n",
    "\n",
    "**Binding Reagent**: \n",
    "A reagent that directly binds to the analyte in LBA-based bioanalytical methods.\n",
    "\n",
    "**Blank Sample**: \n",
    "A sample of a biological matrix to which no analyte and no IS has been added\n"
   ]
  },
  {
   "cell_type": "markdown",
   "id": "96b87df1-f452-4d60-b446-146ab5713849",
   "metadata": {},
   "source": [
    "**Calibration Curve**: \n",
    "The relationship between the instrument response (e.g., peak area, height or signal) and the concentration (amount) of analyte in the sample within a given range. Also referred to as Standard Curve.\n",
    "\n",
    "**Calibration Range**: \n",
    "The calibration range of an analytical procedure is the interval between the upper and lower concentration (amounts) of analyte in the sample (including these concentrations) for which it has been demonstrated that the analytical procedure meets the requirements for precision, accuracy and response function.\n",
    "\n",
    "**Calibration Standard**: \n",
    "A matrix to which a known amount of analyte has been added or spiked. Calibration standards are used to construct calibration curves.\n",
    "\n",
    "**Carry-over**: \n",
    "The appearance of an analyte signal in a sample from a preceding sample. \n",
    "\n",
    "**Chemical Drugs**:\n",
    "Chemically synthesised drugs. Also referred to as small molecule drugs.\n",
    "\n",
    "**Critical Reagent**: \n",
    "Critical reagents for LBAs include binding reagents (e.g., antibodies, binding proteins, peptides) and those containing enzymatic moieties that have a direct impact on the results of the assay.\n",
    "\n",
    "**Cross Validation**: \n",
    "Comparison of two bioanalytical methods or the same bioanalytical method in different laboratories in order to demonstrate that the reported data are comparable.\n"
   ]
  },
  {
   "cell_type": "markdown",
   "id": "fad81015-375e-474a-a846-94bf9ad1a7e1",
   "metadata": {},
   "source": [
    "**Dilution Integrity**: \n",
    "Assessment of the sample dilution procedure to confirm that the procedure does not impact the measured concentration of the analyte.\n",
    "\n",
    "**Dilution Linearity**: \n",
    "A parameter demonstrating that the method can appropriately analyse samples at a concentration exceeding the ULOQ of the calibration curve without influence of hook effect or prozone effect and that the measured concentrations are not affected by dilution within the calibration range in LBAs.\n",
    "\n",
    "**Full Validation**: \n",
    "Establishment of all validation parameters that ensure the integrity of the method when applied to sample analysis.\n",
    "\n",
    "**Hook Effect**: \n",
    "Suppression of response due to very high concentrations of a particular analyte. A hook effect may occur in LBAs that use a liquid-phase reaction step for incubating the binding reagents with the analyte. Also referred to as prozone.\n",
    "\n",
    "**Incurred Sample**: \n",
    "A sample obtained from study subjects or animals\n",
    "\n",
    "**Incurred Sample Reanalysis (ISR)**: \n",
    "Reanalysis of a portion of the incurred samples in a separate analytical run on a different day to determine whether the original analytical results are reproducible. \n",
    "\n",
    "**Interfering Substance**: \n",
    "A substance that is present in the matrix that may affect the analysis of an analyte.\n",
    "\n",
    "**Internal Standard (IS)**: \n",
    "A structurally similar analogue or stable isotope labelled compound added to calibration standards, QCs and study samples at a known and constant concentration to facilitate quantification of the target analyte.\n",
    "\n"
   ]
  },
  {
   "cell_type": "markdown",
   "id": "9a786265-7952-4aca-8cb9-bee4a340aeee",
   "metadata": {},
   "source": [
    "**Ligand Binding Assay (LBA)**: \n",
    "A method to analyse an analyte of interest using reagents that specifically bind to the analyte. The analyte is detected using reagents labelled with e.g. an enzyme, radioisotope, fluorophore or chromophore. Reactions are carried out in microtitre plates, test tubes, disks, etc.\n",
    "\n",
    "**Lower Limit of Quantification (LLOQ)**: \n",
    "The lowest amount of an analyte in a sample that can be quantitatively determined with predefined precision and accuracy.\n",
    "\n",
    "**Matrix Effect**: \n",
    "The direct or indirect alteration or interference in response due to the presence of unintended analytes or other interfering substances in the sample.\n",
    "\n",
    "**Method**: \n",
    "A comprehensive description of all procedures used in sample analysis.\n",
    "\n",
    "**Minimum Required Dilution (MRD)**: \n",
    "The initial dilution factor by which biological samples are diluted with buffer solution for the analysis by LBAs. The MRD may not necessarily be the ultimate dilution but should be identical for all samples including calibration standards and QCs. However, samples may require further dilution.\n",
    "\n",
    "**Nominal Concentration**: \n",
    "Theoretical or expected concentration.\n"
   ]
  },
  {
   "cell_type": "markdown",
   "id": "8530f3c7-0237-40d5-a8a1-6cf425978f1b",
   "metadata": {},
   "source": [
    "\n",
    "**Parallelism**: \n",
    "Parallelism demonstrates that the serially diluted incurred sample response curve is parallel to the calibration curve. Parallelism is a performance characteristic that can detect potential matrix effects.\n",
    "\n",
    "**Partial Validation**: \n",
    "Evaluation of modifications to already fully validated analytical methods.\n",
    "\n",
    "**Precision**: \n",
    "The closeness of agreement (i.e., degree of scatter) among a series of measurements. Precision is expressed as the coefficient of variation (CV) or the relative standard deviation (RSD) expressed as a percentage.\n",
    "\n",
    "Precision (%) = (Standard Deviation / Mean) x 100\n",
    "\n",
    "**Processed Sample**: \n",
    "The final sample that has been subjected to various manipulations (e.g., extraction, dilution, concentration).\n",
    "\n",
    "**Quality Control Sample (QC)**: \n",
    "A sample spiked with a known quantity of analyte that is used to monitor the performance of a bioanalytical method and assess the integrity and validity of the results of the unknown samples analysed in an individual batch or run. \n",
    "\n",
    "**Recovery**: \n",
    "The extraction efficiency of an analytical process, reported as a percentage of the known amount of an analyte carried through the sample extraction and processing steps of the method. \n",
    "\n",
    "**Reproducibility**: \n",
    "The extent to which consistent results are obtained when an experiment is repeated.\n",
    "\n",
    "**Response Function**: \n",
    "A function which adequately describes the relationship between instrument response (e.g., peak area or height ratio or signal) and the concentration (amount) of analyte in the sample. Response function is defined within a given range. See also Calibration Curve.\n",
    "\n",
    "**Selectivity**: \n",
    "Ability of an analytical method to differentiate and measure the analyte in the presence of interfering substances in the biological matrix (non-specific interference)\n",
    "\n",
    "**Sensitivity**: \n",
    "The lowest analyte concentration that can be measured with acceptable accuracy and precision (i.e., LLOQ).\n",
    "\n",
    "**Specificity**: \n",
    "Ability of an analytical method to detect and differentiate the analyte from other substances, including its related substances (e.g., substances that are structurally similar to the analyte, metabolites, isomers, impurities or concomitant medications).\n",
    "\n",
    "**Standard Curve**: \n",
    "The relationship between the instrument response (e.g., peak area, height or signal) and the concentration (amount) of analyte in the sample within a given range. Also referred to as calibration Curve. \n",
    "\n",
    "**Standard Operating Procedure (SOP)**:\n",
    "Detailed written instructions to achieve uniformity of the performance of a specific function.\n",
    "\n",
    "**Surrogate Matrix**: \n",
    "An alternative to a study matrix of limited availability (e.g., tissue, cerebrospinal fluid, bile) or where the study matrix contains an interfering endogenous counterpart.\n",
    "\n",
    "**System Suitability**: \n",
    "Determination of instrument performance (e.g., sensitivity and chromatographic retention) by analysis of a set of reference standards conducted prior to the analytical run. \n",
    "\n",
    "**Total Error**: \n",
    "The sum of the absolute value of the errors in accuracy (%) and precision (%). Total error is reported as percent (%) error.\n",
    "\n",
    "**Upper Limit of Quantification (ULOQ)**: \n",
    "The upper limit of quantification of an individual analytical procedure is the highest amount of analyte in a sample that can be quantitatively determined with pre-defined precision and accuracy.\n",
    "\n",
    "**Validation**: \n",
    "Demonstration that a bioanalytical method is suitable for its intended purpose.\n",
    "\n",
    "**Working Solution**: \n",
    "A non-matrix solution prepared by diluting the stock solution in an appropriate solvent. It is mainly added to matrix to prepare calibration standards and QCs.\n",
    "\n",
    "**Zero Sample**: \n",
    "A blank sample spiked with an IS\n"
   ]
  }
 ],
 "metadata": {
  "kernelspec": {
   "display_name": "P3_nbenv",
   "language": "python",
   "name": "nbenv"
  },
  "language_info": {
   "codemirror_mode": {
    "name": "ipython",
    "version": 3
   },
   "file_extension": ".py",
   "mimetype": "text/x-python",
   "name": "python",
   "nbconvert_exporter": "python",
   "pygments_lexer": "ipython3",
   "version": "3.9.12"
  }
 },
 "nbformat": 4,
 "nbformat_minor": 5
}
